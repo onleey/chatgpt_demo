{
  "nbformat": 4,
  "nbformat_minor": 0,
  "metadata": {
    "colab": {
      "provenance": [],
      "authorship_tag": "ABX9TyPRGCOcP1JMVM5G0HtWs3sd",
      "include_colab_link": true
    },
    "kernelspec": {
      "name": "python3",
      "display_name": "Python 3"
    },
    "language_info": {
      "name": "python"
    }
  },
  "cells": [
    {
      "cell_type": "markdown",
      "metadata": {
        "id": "view-in-github",
        "colab_type": "text"
      },
      "source": [
        "<a href=\"https://colab.research.google.com/github/onleey/chatgpt_demo/blob/master/008_%EB%84%A4%EC%9D%B4%EB%B2%84_%ED%81%AC%EB%A1%A4%EB%A7%81_%EC%9A%94%EC%95%BD.ipynb\" target=\"_parent\"><img src=\"https://colab.research.google.com/assets/colab-badge.svg\" alt=\"Open In Colab\"/></a>"
      ]
    },
    {
      "cell_type": "code",
      "execution_count": 30,
      "metadata": {
        "colab": {
          "base_uri": "https://localhost:8080/"
        },
        "id": "OAXwU24mZeCq",
        "outputId": "81e1ce5c-f072-4ab8-d047-0141bd4716d0"
      },
      "outputs": [
        {
          "output_type": "stream",
          "name": "stdout",
          "text": [
            "Drive already mounted at /content/drive; to attempt to forcibly remount, call drive.mount(\"/content/drive\", force_remount=True).\n",
            "/content/drive/MyDrive/001\n"
          ]
        }
      ],
      "source": [
        "from google.colab import drive\n",
        "drive.mount('/content/drive')\n",
        "\n",
        "%cd '/content/drive/MyDrive/001'"
      ]
    },
    {
      "cell_type": "code",
      "source": [
        "#tiktoken 모듈은 openai 모델에서 사용되기 위해 제작된 bpe 토크나이저\n",
        "!pip install  langchain openai==0.28.1  gradio==3.40.1 typing-extensions==4.9.0 langchain tiktoken\n",
        "#typing-extensions==3.10.0.2"
      ],
      "metadata": {
        "colab": {
          "base_uri": "https://localhost:8080/"
        },
        "id": "h5D2vXkdZp6W",
        "outputId": "abff0958-ea70-4f0d-99cc-f014f6ddfbfd"
      },
      "execution_count": 33,
      "outputs": [
        {
          "output_type": "stream",
          "name": "stdout",
          "text": [
            "Requirement already satisfied: langchain in /usr/local/lib/python3.10/dist-packages (0.0.354)\n",
            "Requirement already satisfied: openai==0.28.1 in /usr/local/lib/python3.10/dist-packages (0.28.1)\n",
            "Requirement already satisfied: gradio==3.40.1 in /usr/local/lib/python3.10/dist-packages (3.40.1)\n",
            "Requirement already satisfied: typing-extensions==4.9.0 in /usr/local/lib/python3.10/dist-packages (4.9.0)\n",
            "Requirement already satisfied: tiktoken in /usr/local/lib/python3.10/dist-packages (0.5.2)\n",
            "Requirement already satisfied: requests>=2.20 in /usr/local/lib/python3.10/dist-packages (from openai==0.28.1) (2.31.0)\n",
            "Requirement already satisfied: tqdm in /usr/local/lib/python3.10/dist-packages (from openai==0.28.1) (4.66.1)\n",
            "Requirement already satisfied: aiohttp in /usr/local/lib/python3.10/dist-packages (from openai==0.28.1) (3.9.1)\n",
            "Requirement already satisfied: aiofiles<24.0,>=22.0 in /usr/local/lib/python3.10/dist-packages (from gradio==3.40.1) (23.2.1)\n",
            "Requirement already satisfied: altair<6.0,>=4.2.0 in /usr/local/lib/python3.10/dist-packages (from gradio==3.40.1) (4.2.2)\n",
            "Requirement already satisfied: fastapi in /usr/local/lib/python3.10/dist-packages (from gradio==3.40.1) (0.108.0)\n",
            "Requirement already satisfied: ffmpy in /usr/local/lib/python3.10/dist-packages (from gradio==3.40.1) (0.3.1)\n",
            "Requirement already satisfied: gradio-client>=0.4.0 in /usr/local/lib/python3.10/dist-packages (from gradio==3.40.1) (0.8.0)\n",
            "Requirement already satisfied: httpx in /usr/local/lib/python3.10/dist-packages (from gradio==3.40.1) (0.26.0)\n",
            "Requirement already satisfied: huggingface-hub>=0.14.0 in /usr/local/lib/python3.10/dist-packages (from gradio==3.40.1) (0.20.1)\n",
            "Requirement already satisfied: importlib-resources<7.0,>=1.3 in /usr/local/lib/python3.10/dist-packages (from gradio==3.40.1) (6.1.1)\n",
            "Requirement already satisfied: jinja2<4.0 in /usr/local/lib/python3.10/dist-packages (from gradio==3.40.1) (3.1.2)\n",
            "Requirement already satisfied: markdown-it-py[linkify]>=2.0.0 in /usr/local/lib/python3.10/dist-packages (from gradio==3.40.1) (2.2.0)\n",
            "Requirement already satisfied: markupsafe~=2.0 in /usr/local/lib/python3.10/dist-packages (from gradio==3.40.1) (2.1.3)\n",
            "Requirement already satisfied: matplotlib~=3.0 in /usr/local/lib/python3.10/dist-packages (from gradio==3.40.1) (3.7.1)\n",
            "Requirement already satisfied: mdit-py-plugins<=0.3.3 in /usr/local/lib/python3.10/dist-packages (from gradio==3.40.1) (0.3.3)\n",
            "Requirement already satisfied: numpy~=1.0 in /usr/local/lib/python3.10/dist-packages (from gradio==3.40.1) (1.23.5)\n",
            "Requirement already satisfied: orjson~=3.0 in /usr/local/lib/python3.10/dist-packages (from gradio==3.40.1) (3.9.10)\n",
            "Requirement already satisfied: packaging in /usr/local/lib/python3.10/dist-packages (from gradio==3.40.1) (23.2)\n",
            "Requirement already satisfied: pandas<3.0,>=1.0 in /usr/local/lib/python3.10/dist-packages (from gradio==3.40.1) (1.5.3)\n",
            "Requirement already satisfied: pillow<11.0,>=8.0 in /usr/local/lib/python3.10/dist-packages (from gradio==3.40.1) (9.4.0)\n",
            "Requirement already satisfied: pydantic!=1.8,!=1.8.1,!=2.0.0,!=2.0.1,<3.0.0,>=1.7.4 in /usr/local/lib/python3.10/dist-packages (from gradio==3.40.1) (1.10.13)\n",
            "Requirement already satisfied: pydub in /usr/local/lib/python3.10/dist-packages (from gradio==3.40.1) (0.25.1)\n",
            "Requirement already satisfied: python-multipart in /usr/local/lib/python3.10/dist-packages (from gradio==3.40.1) (0.0.6)\n",
            "Requirement already satisfied: pyyaml<7.0,>=5.0 in /usr/local/lib/python3.10/dist-packages (from gradio==3.40.1) (6.0.1)\n",
            "Requirement already satisfied: semantic-version~=2.0 in /usr/local/lib/python3.10/dist-packages (from gradio==3.40.1) (2.10.0)\n",
            "Requirement already satisfied: uvicorn>=0.14.0 in /usr/local/lib/python3.10/dist-packages (from gradio==3.40.1) (0.25.0)\n",
            "Requirement already satisfied: websockets<12.0,>=10.0 in /usr/local/lib/python3.10/dist-packages (from gradio==3.40.1) (11.0.3)\n",
            "Requirement already satisfied: SQLAlchemy<3,>=1.4 in /usr/local/lib/python3.10/dist-packages (from langchain) (2.0.23)\n",
            "Requirement already satisfied: async-timeout<5.0.0,>=4.0.0 in /usr/local/lib/python3.10/dist-packages (from langchain) (4.0.3)\n",
            "Requirement already satisfied: dataclasses-json<0.7,>=0.5.7 in /usr/local/lib/python3.10/dist-packages (from langchain) (0.6.3)\n",
            "Requirement already satisfied: jsonpatch<2.0,>=1.33 in /usr/local/lib/python3.10/dist-packages (from langchain) (1.33)\n",
            "Requirement already satisfied: langchain-community<0.1,>=0.0.8 in /usr/local/lib/python3.10/dist-packages (from langchain) (0.0.8)\n",
            "Requirement already satisfied: langchain-core<0.2,>=0.1.5 in /usr/local/lib/python3.10/dist-packages (from langchain) (0.1.5)\n",
            "Requirement already satisfied: langsmith<0.1.0,>=0.0.77 in /usr/local/lib/python3.10/dist-packages (from langchain) (0.0.77)\n",
            "Requirement already satisfied: tenacity<9.0.0,>=8.1.0 in /usr/local/lib/python3.10/dist-packages (from langchain) (8.2.3)\n",
            "Requirement already satisfied: regex>=2022.1.18 in /usr/local/lib/python3.10/dist-packages (from tiktoken) (2023.6.3)\n",
            "Requirement already satisfied: attrs>=17.3.0 in /usr/local/lib/python3.10/dist-packages (from aiohttp->openai==0.28.1) (23.1.0)\n",
            "Requirement already satisfied: multidict<7.0,>=4.5 in /usr/local/lib/python3.10/dist-packages (from aiohttp->openai==0.28.1) (6.0.4)\n",
            "Requirement already satisfied: yarl<2.0,>=1.0 in /usr/local/lib/python3.10/dist-packages (from aiohttp->openai==0.28.1) (1.9.4)\n",
            "Requirement already satisfied: frozenlist>=1.1.1 in /usr/local/lib/python3.10/dist-packages (from aiohttp->openai==0.28.1) (1.4.1)\n",
            "Requirement already satisfied: aiosignal>=1.1.2 in /usr/local/lib/python3.10/dist-packages (from aiohttp->openai==0.28.1) (1.3.1)\n",
            "Requirement already satisfied: entrypoints in /usr/local/lib/python3.10/dist-packages (from altair<6.0,>=4.2.0->gradio==3.40.1) (0.4)\n",
            "Requirement already satisfied: jsonschema>=3.0 in /usr/local/lib/python3.10/dist-packages (from altair<6.0,>=4.2.0->gradio==3.40.1) (4.19.2)\n",
            "Requirement already satisfied: toolz in /usr/local/lib/python3.10/dist-packages (from altair<6.0,>=4.2.0->gradio==3.40.1) (0.12.0)\n",
            "Requirement already satisfied: marshmallow<4.0.0,>=3.18.0 in /usr/local/lib/python3.10/dist-packages (from dataclasses-json<0.7,>=0.5.7->langchain) (3.20.1)\n",
            "Requirement already satisfied: typing-inspect<1,>=0.4.0 in /usr/local/lib/python3.10/dist-packages (from dataclasses-json<0.7,>=0.5.7->langchain) (0.9.0)\n",
            "Requirement already satisfied: fsspec in /usr/local/lib/python3.10/dist-packages (from gradio-client>=0.4.0->gradio==3.40.1) (2023.6.0)\n",
            "Requirement already satisfied: filelock in /usr/local/lib/python3.10/dist-packages (from huggingface-hub>=0.14.0->gradio==3.40.1) (3.13.1)\n",
            "Requirement already satisfied: jsonpointer>=1.9 in /usr/local/lib/python3.10/dist-packages (from jsonpatch<2.0,>=1.33->langchain) (2.4)\n",
            "Requirement already satisfied: anyio<5,>=3 in /usr/local/lib/python3.10/dist-packages (from langchain-core<0.2,>=0.1.5->langchain) (3.7.1)\n",
            "Requirement already satisfied: mdurl~=0.1 in /usr/local/lib/python3.10/dist-packages (from markdown-it-py[linkify]>=2.0.0->gradio==3.40.1) (0.1.2)\n",
            "Requirement already satisfied: linkify-it-py<3,>=1 in /usr/local/lib/python3.10/dist-packages (from markdown-it-py[linkify]>=2.0.0->gradio==3.40.1) (2.0.2)\n",
            "Requirement already satisfied: contourpy>=1.0.1 in /usr/local/lib/python3.10/dist-packages (from matplotlib~=3.0->gradio==3.40.1) (1.2.0)\n",
            "Requirement already satisfied: cycler>=0.10 in /usr/local/lib/python3.10/dist-packages (from matplotlib~=3.0->gradio==3.40.1) (0.12.1)\n",
            "Requirement already satisfied: fonttools>=4.22.0 in /usr/local/lib/python3.10/dist-packages (from matplotlib~=3.0->gradio==3.40.1) (4.47.0)\n",
            "Requirement already satisfied: kiwisolver>=1.0.1 in /usr/local/lib/python3.10/dist-packages (from matplotlib~=3.0->gradio==3.40.1) (1.4.5)\n",
            "Requirement already satisfied: pyparsing>=2.3.1 in /usr/local/lib/python3.10/dist-packages (from matplotlib~=3.0->gradio==3.40.1) (3.1.1)\n",
            "Requirement already satisfied: python-dateutil>=2.7 in /usr/local/lib/python3.10/dist-packages (from matplotlib~=3.0->gradio==3.40.1) (2.8.2)\n",
            "Requirement already satisfied: pytz>=2020.1 in /usr/local/lib/python3.10/dist-packages (from pandas<3.0,>=1.0->gradio==3.40.1) (2023.3.post1)\n",
            "Requirement already satisfied: charset-normalizer<4,>=2 in /usr/local/lib/python3.10/dist-packages (from requests>=2.20->openai==0.28.1) (3.3.2)\n",
            "Requirement already satisfied: idna<4,>=2.5 in /usr/local/lib/python3.10/dist-packages (from requests>=2.20->openai==0.28.1) (3.6)\n",
            "Requirement already satisfied: urllib3<3,>=1.21.1 in /usr/local/lib/python3.10/dist-packages (from requests>=2.20->openai==0.28.1) (2.0.7)\n",
            "Requirement already satisfied: certifi>=2017.4.17 in /usr/local/lib/python3.10/dist-packages (from requests>=2.20->openai==0.28.1) (2023.11.17)\n",
            "Requirement already satisfied: greenlet!=0.4.17 in /usr/local/lib/python3.10/dist-packages (from SQLAlchemy<3,>=1.4->langchain) (3.0.2)\n",
            "Requirement already satisfied: click>=7.0 in /usr/local/lib/python3.10/dist-packages (from uvicorn>=0.14.0->gradio==3.40.1) (8.1.7)\n",
            "Requirement already satisfied: h11>=0.8 in /usr/local/lib/python3.10/dist-packages (from uvicorn>=0.14.0->gradio==3.40.1) (0.14.0)\n",
            "Requirement already satisfied: starlette<0.33.0,>=0.29.0 in /usr/local/lib/python3.10/dist-packages (from fastapi->gradio==3.40.1) (0.32.0.post1)\n",
            "Requirement already satisfied: httpcore==1.* in /usr/local/lib/python3.10/dist-packages (from httpx->gradio==3.40.1) (1.0.2)\n",
            "Requirement already satisfied: sniffio in /usr/local/lib/python3.10/dist-packages (from httpx->gradio==3.40.1) (1.3.0)\n",
            "Requirement already satisfied: exceptiongroup in /usr/local/lib/python3.10/dist-packages (from anyio<5,>=3->langchain-core<0.2,>=0.1.5->langchain) (1.2.0)\n",
            "Requirement already satisfied: jsonschema-specifications>=2023.03.6 in /usr/local/lib/python3.10/dist-packages (from jsonschema>=3.0->altair<6.0,>=4.2.0->gradio==3.40.1) (2023.11.2)\n",
            "Requirement already satisfied: referencing>=0.28.4 in /usr/local/lib/python3.10/dist-packages (from jsonschema>=3.0->altair<6.0,>=4.2.0->gradio==3.40.1) (0.32.0)\n",
            "Requirement already satisfied: rpds-py>=0.7.1 in /usr/local/lib/python3.10/dist-packages (from jsonschema>=3.0->altair<6.0,>=4.2.0->gradio==3.40.1) (0.15.2)\n",
            "Requirement already satisfied: uc-micro-py in /usr/local/lib/python3.10/dist-packages (from linkify-it-py<3,>=1->markdown-it-py[linkify]>=2.0.0->gradio==3.40.1) (1.0.2)\n",
            "Requirement already satisfied: six>=1.5 in /usr/local/lib/python3.10/dist-packages (from python-dateutil>=2.7->matplotlib~=3.0->gradio==3.40.1) (1.16.0)\n",
            "Requirement already satisfied: mypy-extensions>=0.3.0 in /usr/local/lib/python3.10/dist-packages (from typing-inspect<1,>=0.4.0->dataclasses-json<0.7,>=0.5.7->langchain) (1.0.0)\n"
          ]
        }
      ]
    },
    {
      "cell_type": "code",
      "source": [
        "import os\n",
        "os.environ['OPENAI_API_KEY'] = 'key'"
      ],
      "metadata": {
        "id": "TL13Fb_JaDEW"
      },
      "execution_count": 34,
      "outputs": []
    },
    {
      "cell_type": "markdown",
      "source": [
        "PromptTemplate : 사용자의 입력 변수를 사용하여 완전한 프롬프트 문자열을 만드는 데 사용되는 템플릿이다.  \n",
        "template: 템플릿 문자열입니다. 이 문자열 내에서 중괄호 {}는 변수  \n",
        "input_variables: 중괄호 안에 들어갈 변수의 이름을 리스트로 정의  \n",
        "\n",
        "```\n",
        "no_input_prompt = PromptTemplate(\n",
        "  input_variable=['current'],\n",
        " template = '맛있는 {current }하면?'\n",
        ")\n",
        "```\n",
        "no_input_prompt.format(current='과일')\n"
      ],
      "metadata": {
        "id": "QuRiG0ODeUcG"
      }
    },
    {
      "cell_type": "code",
      "source": [
        "import gradio as gr\n",
        "from langchain.chat_models import ChatOpenAI\n",
        "from langchain.document_loaders import WebBaseLoader\n",
        "from langchain.text_splitter import CharacterTextSplitter\n",
        "from langchain.chains.summarize import load_summarize_chain\n",
        "from langchain.prompts import PromptTemplate\n",
        "\n",
        "# 네이버 뉴스기사 주소\n",
        "url='https://n.news.naver.com/article/016/0002247281?sid=110'\n",
        "\n",
        "# 웹 문서 크롤링\n",
        "loader =  WebBaseLoader(url)\n",
        "# print(loader)\n",
        "# print(type(loader))\n",
        "# print(dir(loader))\n",
        "# print(loader.load())\n",
        "\n",
        "#뉴스지가싀 본문을 chunk 단위로 쪼갬\n",
        "#length_function: 청크의 길이를 계산하는 방법. 기본적으로 문자수만 세지만, 여기서는 토큰 카운터를 전달하는것이 일\n",
        "text_splitter = CharacterTextSplitter(\n",
        "    separator='\\n\\n',\n",
        "    chunk_size=3000,\n",
        "    chunk_overlap=300,\n",
        "    length_function=len\n",
        ")\n",
        "\n",
        "print(text_splitter)\n",
        "print(type(text_splitter))\n",
        "print(dir(text_splitter))\n",
        "\n",
        "#웹사이트 내용 크롤링 후 chunk 단위로 분할\n",
        "docs= loader.load_and_split(text_splitter)\n",
        "\n",
        "\n",
        "#각 chunk 단위의 템플릿\n",
        "template = ''' 다음의 내용을 한글로 요약해줘\n",
        "\n",
        "{text}\n",
        "'''\n",
        "\n",
        "#전체문서 (혹은 전체 chunk)에 대한 지시 (instruct)정의\n",
        "combine_template = '''{text}\n",
        "\n",
        "요약의 결과는 다음의 형식으로 작성해줘:\n",
        "제목: 신문기사의 제목\n",
        "주요내용: 한 줄로 요약된 내용\n",
        "내용: 주요 내용을 불렛포인트 형식으로 작성\n",
        "'''\n",
        "\n",
        "#템플릿 생성\n",
        "prompt=PromptTemplate(template=template, input_variables=['text'])\n",
        "combine_prompt = PromptTemplate(template=combine_template, input_variables=['text'])\n",
        "\n",
        "#LLM 객체생성\n",
        "llm =ChatOpenAI(temperature=0,\n",
        "               model_name = 'gpt-3.5-turbo')\n",
        "\n",
        "\n",
        "#요약을 도와주는 load_summerize_chain\n",
        "\n",
        "chain = load_summarize_chain(llm,\n",
        "                             map_prompt=prompt,\n",
        "                             combine_prompt=combine_prompt,\n",
        "                             chain_type = 'map_reduce',\n",
        "                             verbose= False)\n",
        "\n",
        "\n"
      ],
      "metadata": {
        "colab": {
          "base_uri": "https://localhost:8080/"
        },
        "id": "9hY-RwvQaMnV",
        "outputId": "22a9797a-c2c0-4a8c-a7c2-9700c990ecf3"
      },
      "execution_count": 36,
      "outputs": [
        {
          "output_type": "stream",
          "name": "stdout",
          "text": [
            "<langchain.text_splitter.CharacterTextSplitter object at 0x7fa377df5180>\n",
            "<class 'langchain.text_splitter.CharacterTextSplitter'>\n",
            "['__abstractmethods__', '__class__', '__delattr__', '__dict__', '__dir__', '__doc__', '__eq__', '__format__', '__ge__', '__getattribute__', '__gt__', '__hash__', '__init__', '__init_subclass__', '__le__', '__lt__', '__module__', '__ne__', '__new__', '__reduce__', '__reduce_ex__', '__repr__', '__setattr__', '__sizeof__', '__slots__', '__str__', '__subclasshook__', '__weakref__', '_abc_impl', '_add_start_index', '_chunk_overlap', '_chunk_size', '_is_separator_regex', '_join_docs', '_keep_separator', '_length_function', '_merge_splits', '_separator', '_strip_whitespace', 'atransform_documents', 'create_documents', 'from_huggingface_tokenizer', 'from_tiktoken_encoder', 'split_documents', 'split_text', 'transform_documents']\n"
          ]
        }
      ]
    },
    {
      "cell_type": "code",
      "source": [
        "#실행결과\n",
        "print(type(chain.run(docs)))\n",
        "# print(dir(chain.run(docs)))\n",
        "# print(chain.run(docs))\n",
        "print(chain(docs))"
      ],
      "metadata": {
        "colab": {
          "base_uri": "https://localhost:8080/"
        },
        "id": "OHm1TGVqalRV",
        "outputId": "809bef37-c2c3-4d4f-90a5-aa1e5664fc33"
      },
      "execution_count": 37,
      "outputs": [
        {
          "output_type": "stream",
          "name": "stdout",
          "text": [
            "<class 'str'>\n",
            "{'input_documents': [Document(page_content='소액투자자 위해 금투세 폐지? 증권거래세는? [홍길용의 화식열전]\\n\\n본문 바로가기\\n\\n\\n이전 페이지\\n\\n\\n헤럴드경제\\n\\n구독\\n\\n언론사를 구독하면 메인에서 바로 볼 수 있어요!\\n\\n\\n메인 뉴스판에서 헤럴드경제 주요뉴스를  볼 수 있습니다.\\n보러가기\\n\\n\\n헤럴드경제 언론사 구독 해지되었습니다.\\n\\n\\n주요뉴스\\n숏폼\\n정치\\n경제\\n사회\\n생활\\n세계\\nIT\\n사설/칼럼\\n신문보기\\n랭킹\\n\\n소액투자자 위해 금투세 폐지? 증권거래세는? [홍길용의 화식열전]\\n\\n\\n입력2024.01.03. 오후 5:36\\n\\n기사원문\\n \\n\\n\\n홍길용 기자\\n\\n\\n홍길용 기자\\n\\n구독\\n구독중\\n\\n\\n구독자\\n0\\n\\n\\n응원수\\n0\\n\\n더보기\\n\\n\\n추천\\n\\n\\n쏠쏠정보\\n0\\n\\n\\n흥미진진\\n0\\n\\n\\n공감백배\\n0\\n\\n\\n분석탁월\\n0\\n\\n\\n후속강추\\n0\\n\\n\\n \\n\\n댓글\\n\\n텍스트 음성 변환 서비스 사용하기\\n\\n성별\\n남성\\n여성\\n\\n\\n말하기 속도\\n느림\\n보통\\n빠름\\n\\n이동 통신망을 이용하여 음성을 재생하면 별도의 데이터 통화료가 부과될 수 있습니다.\\n본문듣기 시작\\n\\n닫기\\n\\n\\n \\n\\n글자 크기 변경하기\\n\\n가1단계\\n작게\\n\\n\\n가2단계\\n보통\\n\\n\\n가3단계\\n크게\\n\\n\\n가4단계\\n아주크게\\n\\n\\n가5단계\\n최대크게\\n\\n\\nSNS 보내기\\n\\n인쇄하기\\n\\n\\n尹 ‘증시활성화’ 내세워 추진 약속국회 법 개정 필요…정부 권한 밖양도세 없으면 차익실현 더 유리장기투자 줄면 주가 부담될 수도균형 갖춰야  부자감세 우려 불식실행가능 약속해야 국민혼선 예방\\n\\n꼭 1년 전인 2023년 1월 3일 국토교통부는 신년 업무보고 형식으로 ‘1·3대책’을 발표한다. 규제지역을 해제하고 분양가상한제와 전매 제한을 완화하는 내용이었다. 대부분이 시행령이나 규칙만 바꾸면 가능한 조치였다. 다만 수도권의 분양가상한제 주택에 대한 실거주 의무 폐지는 법개정 사항이었다. 정부가 한다고 해서 기대했던 이들이 적지 않았지만 관련 법 개정은 국회에서 이뤄지지 않았다.정부는 국회에서 통과한 법안의 시행을 거부(재의요구)할 수 있지만 법률을 고치거나 새로 만드는 권한은 없다. 대통령과 정부가 뭔가를 한다고 발표할 때 법 개정 사항인지 아닌지 반드시 따져봐야 하는 이유다. 설령 여당이 국회 의석 과반을 가졌다고 해도 낙관하기 어렵다. 해당 법안에 쟁점이 많다면 관련 상임위 처리(조정안 채택)에 재적의원 3분의2의 찬성이 필요(국회법 안건조정제)하다.윤석열 대통령이 금융투자소득세 폐지 추진 방침을 밝혔다. 소득세법에서 금투세 신설 조항은 2025년부터 효력을 발휘한다. 금투세 폐지는 법개정 사항이다. 21대 국회 의석구조라면 야당이 반대하면 불가능하다. 22대 국회에서 여당이 과반을 차지할 지는 알 수 없다. 세금 안 걷겠다는데 싫어할 이는 적다. 총선을 앞두고 야당에도 부담일 수 있다. 그런데 금투세 폐지 득실은 좀더 살필 필요가 있다.금투세는 연간 양도차익이 5000만원 이상일 때 적용된다. 한 해에 이 정도 수익을 낼 만한 돈을 굴리는 개인투자자는 전체의 0.11%(10년 평균 주식거래 내역 기준)에 불과하다. 개인투자자 세 부담을 줄여 증시를 활성화하겠다 것이 금투세 폐지 추진의 명분이다. 다수의 소액투자자는 과세 대상이 아니지만 큰손들이 세 부담으로 주식을 팔지 않으면 주가 하락이 제한돼 간접 혜택을 본다는 논리다.우리나라보다 훨씬 높은 밸류에이션을 인정받는 대부분의 선진국 증시에서도 금투세가 시행 중이다. 우리 증시의 개인투자자 비중이 선진국 대비 높은 편이지만 외국인이나 기관들보다는 증시 영향력이 약하다. 금투세 도입이 증권시장 활성화를 막는다고 할 수 있을까? 부자들이 세금 부담 때문에 주식을 팔아야 할 이유가 줄어들 수도 있지만, 세금 부담이 없으면 더 과감하게 차익을 실현할 수도 있다.굳이 세 부담을 피해 차익실현을 매년 나눠서 해야 할 유인이 사라지기 때문이다. 금투세 폐지로 장기투자 효과가 반감될 가능성 역시 존재하는 셈이다.소득이 있으면 세금이 부과되는 것이 현대 세제의 기본이다. 우리 소득세법은 대통령령으로 정하는 ‘대주주’가 아니면 상장주식 양도소득에 과세를 하지 않는다. 그나마 정부는 얼마전 시행령을 고쳐 ‘대주주’의 범위를 극도로 좁혔다. 증시 활성화가 명분이다. 금투세 신설은 3년 전 지금의 여야가 과세 형평을 위해 필요하다는데 합의한 결과다. 증시 활성화와 과세 형평 중 어느 쪽이 더 무거울까?보통 거래의 대가는 중개자에게 내는 수수료다. 우리나라 증권 거래에는 세금까지 붙는다. 세율(1만분의 35)은 시행령으로 낮출 수 있다. ‘자본시장 육성을 위하여 긴급히 필요하다고 인정될 때’다. 법 제정 이후 줄곧 탄력세율이 적용됐다. 납세 부담을 낮추는 조정이지만 ‘조세의 종목과 세율은 법률로 정한다’는 헌법 59조와 어울리지 않는다. 금투세를 만들면서 증권거래세는 없애기로 한 이유다.금투세는 상위 0.11%의 투자자에만 해당되지만 증권거래세는 모든 투자자가 낸다. 선진국에는 증권거래세가 없다. 우리 증시가 선진국과 차별화되려면 증권거래세도 없애야 한다. 금투세 백지화는 법 개정이 필요하지만 증권거래세를 ‘영(0)’으로 만드는 것은 시행령 개정 사항이다. 정부가 당장이라도 할 수 있다. 증시활성화가 중요하다면 연 6~9조원 정도의 세수 감소는 감수해야 하지 않을까?윤 대통령이 지난 연말 깜짝 발표한 재건축 안전진단 규제 완화도 경제적으로 엄청난 파장을 가져올 만한 사안이었다. 관련법(도시정비법)은 주요한 관련 기준을 모두 시행령에 위임하고 있다. 재개발과 재건축의 기준이 되는 노후·불량 건축물에 대한 판단이나 안전진단의 대상·기준·실시기관·지정절차 등이 모두 대통령령으로 정한다. 정부가 1월 중 관련 대책까지 내놓겠다고 공언한 배경이다.국회의원을 뽑는 총선에서는 법률 제·개정에 대한 정당의 입장이 경쟁하는 것이 당연하다. 대통령 선거에서 법 개정이 필요한 공약이 난무하는 것처럼, 총선을 앞두고 행정부가 법 개정이 필요한 사안을 약속하는 것도 어색하다. 권한 밖의 사항에 대한 약속은 공수표로 그칠 가능성이 크다. 그래도 팔은 안으로 굽으니 정부가 총선에서 여당을 돕고 싶다면 당장 할 수 있는 것부터 하는 것도 방법이다.\\n\\n\\n홍길용 kyhong@heraldcorp.com\\n\\n\\n기자 프로필\\n\\n\\n홍길용 기자\\n\\n\\n구독\\n\\n\\n구독중\\n\\n구독자 0', metadata={'source': 'https://n.news.naver.com/article/016/0002247281?sid=110', 'title': '소액투자자 위해 금투세 폐지? 증권거래세는? [홍길용의 화식열전]', 'language': 'ko'}), Document(page_content='홍길용 kyhong@heraldcorp.com\\n\\n\\n기자 프로필\\n\\n\\n홍길용 기자\\n\\n\\n구독\\n\\n\\n구독중\\n\\n구독자 0\\n\\n\\n응원수\\n0\\n\\n읽으면 돈 되면서 속 시원한, 하지만 남들은 잘 모르는 이야기\\n\\n\\n부동산PF 난리 났지만, 내년 증시는 괜찮을 이유…새해 경제전망② [홍길용의 화식열전]\\n\\n\\n결국 터진 부동산PF 부실…타격 클 금융회사는 어디? [홍길용의 화식열전]\\n\\n헤럴드경제의 구독 많은 기자를 구독해보세요!\\n\\n닫기\\n\\n\\nCopyright ⓒ 헤럴드경제. All rights reserved. 무단 전재 및 재배포 금지.\\n\\n \\n이 기사는 언론사에서 오피니언, 경제 섹션으로 분류했습니다.\\n\\n기사 섹션 분류 안내\\n기사의 섹션 정보는 해당 언론사의 분류를 따르고 있습니다. 언론사는 개별 기사를 2개 이상 섹션으로 중복 분류할 수 있습니다.\\n닫기\\n\\n구독\\n메인에서 바로 보는 언론사 편집 뉴스 지금 바로 구독해보세요!\\n\\n\\n구독중\\n메인에서 바로 보는 언론사 편집 뉴스 지금 바로 확인해보세요!\\n\\n밀리터리 전문 콘텐츠 ‘헤밀’\\nQR 코드를 클릭하면 크게 볼 수 있어요.\\n\\nQR을 촬영해보세요.\\n밀리터리 전문 콘텐츠 ‘헤밀’\\n\\n\\n닫기\\n\\n오늘의 운세 보고 완벽한 하루 만들기\\nQR 코드를 클릭하면 크게 볼 수 있어요.\\n\\nQR을 촬영해보세요.\\n오늘의 운세 보고 완벽한 하루 만들기\\n\\n\\n닫기\\n\\n\\n\\t\\t\\t주요뉴스해당 언론사에서 선정하며 언론사 페이지(아웃링크)로 이동해 볼 수 있습니다.\\n\\n\\n\"이선균 협박 20대 여성 다음 목표는 전혜진\"\\n백지영,당당한 성형 고백...\"내 얼굴 10억정도 들어가\"\\n강경준, 상간남 피소…소속사 \"상황파악 중\"\\n\"사위가 성인방송 강요\"…딸은 유서 남기고 극단선택\\n\\'故이선균 추모\\' 연기대상 불참한 유명 女배우, 봉사활동 포착\\n\\n\\n이 기사를 추천합니다\\n\\n\\n기사 추천은 24시간 내 50회까지 참여할 수 있습니다.\\n닫기\\n\\n\\n쏠쏠정보\\n0\\n\\n\\n흥미진진\\n0\\n\\n\\n공감백배\\n0\\n\\n\\n분석탁월\\n0\\n\\n\\n후속강추\\n0\\n\\n\\n \\n\\n\\n모두에게 보여주고 싶은 기사라면?beta\\n\\n이 기사를 추천합니다 버튼을 눌러주세요.  집계 기간 동안 추천을 많이 받은 기사는 네이버 자동 기사배열 영역에 추천 요소로 활용됩니다.\\n\\n레이어 닫기\\n\\n\\n \\n\\n연재\\n홍길용의 화식열전\\n구독 명\\n\\n구독\\n\\n\\n구독중\\n\\n\\n구독해주셔서 감사합니다\\n구독한 연재는 설정 페이지에서확인할 수 있습니다\\n닫기\\n\\n더보기\\n\\n소액투자자 위해 금투세 폐지? 증권거래세는?\\n\\n\\n부동산PF 난리 났지만, 내년 증시는 괜찮을 이유…새해 경제전망②\\n\\n\\n결국 터진 부동산PF 부실…타격 클 금융회사는 어디?\\n\\n\\n헤럴드경제 언론사홈 바로가기\\n\\n\\n \\n\\n언론사 구독 후 기사보기\\n\\n구독 없이 계속 보기\\n\\n기자 구독 후 기사보기\\n\\n구독 없이 계속 보기\\n\\n헤럴드경제 헤드라인\\n\\t\\t\\t\\t\\t\\n\\n\\n法 “도망 염려”…이재명 습격범 영장 2시간 만에 발부\\n법원이 이재명 더불어민주당 대표를 습격한 피의자 김모(66) 씨에게 구속영장을 발부했다. 4일 오후 4시 30분께 부산지방법원 성기준 영장전담 부장판사는 김씨에 대한 구속영장을 발부했다. 영장실질심사가 끝난 지 약 \\n\\n부산대 “천준호·정청래가 서울대 병원 이송 요청…서울대 브리핑 당혹”(종합)\\n부산대병원은 4일 이재명 더불어민주당 대표가 흉기피습을 당한 뒤 부산대 권역외상센터로 이송됐다가 응급의료헬기를 타고 서울대병원으로 이송된 것과 관련해 “환자 측과 보호자의 요청으로 이송한 것이지, 부산대 측의 전원요\\n\\n“누워서 유튜브 보다잤다” 이런 사람 많다 했더니…카카오 ‘발칵’ 뒤집혔다\\n유튜브가 카카오톡을 제치고 국내 모바일 애플리케이션 중 사용자 수 1위를 눈앞에 두고 있다. 한국은 해외 빅테크 기업 진출에도 국내 플랫폼이 점유율을 유지하는 몇 안 되는 국가였지만, 숏폼과 영상을 앞세운 유튜브에는\\n\\n브라이언 “年매출 157억, ‘플투 25년’보다 더 벌었다”…‘이 시장’ 파고들었더니\\n\\'플라이 투 더 스카이\\' 소속의 가수 브라이언이 \\'라이브커머스\\'를 통한 매출액을 공개했다. 지난 3일 방송된 MBC 예능 프로그램 \\'라디오스타\\'에 출연한 브라이언은 2년 전부터 한 대기업의 라이브커머스와 연이 닿아 \\n\\n\"연봉 1억원, 이런 밥상이 삼시세끼 공짜\" 난리난 이 회사, 어디길래?\\n“맥주 제공 PC방…알고보니 회사?” 매끼 1만5000원의 식사가 ‘공짜’다. 맥주도 마음껏 마실 수 있다. 또 PC방도 편하게 즐길 수 있다. 이는 문화·외식시설이 아닌 한 게임사의 직원 지원 제도들이다. 전세계 \\n\\n[영상] 49억 성북동 단독주택의 눈물…25억 반토막에도 파리 날린다 [부동산360]\\n‘원조 부촌’으로 꼽히는 서울 성북구 성북동에 위치한 고급 단독주택이 경매에 나왔지만 거듭되는 유찰로 가격이 ‘반토막’ 수준까지 떨어져 시장의 관심이 쏠린다. 권리상 하자가 없음에도 가격이 49억원에서 25억원까지 \\n\\n\\n이전 뉴스들 보기\\n\\n\\n3\\n다음 뉴스들 보기\\n\\n헤럴드경제가 이 기사의 댓글 정책을 결정합니다.\\n\\t\\t\\t\\t\\t\\n안내\\n댓글 정책 언론사별 선택제\\n섹션별로 기사의 댓글 제공여부와 정렬방식을 언론사가 직접 결정합니다. 기사 섹션 정보가정치를 포함하는 경우 정치섹션 정책이적용됩니다. 단, 운영규정에 따른삭제나 이용제한 조치는 네이버가 직접수행합니다.\\n레이어 닫기\\n\\n헤럴드경제 헤드라인\\n더보기\\n\\n法 “도망 염려”…이재명 습격범 영장 2시간 만에 발부\\n31분전\\n\\n부산대 “천준호·정청래가 서울대 병원 이송 요청…서울대 브리핑 당혹”(종합)\\n1시간전\\n\\n“누워서 유튜브 보다잤다” 이런 사람 많다 했더니…카카오 ‘발칵’ 뒤집혔다\\n21시간전\\n\\n브라이언 “年매출 157억, ‘플투 25년’보다 더 벌었다”…‘이 시장’ 파고들었더니\\n7시간전\\n\\n\"연봉 1억원, 이런 밥상이 삼시세끼 공짜\" 난리난 이 회사, 어디길래?\\n22시간전\\n\\n[영상] 49억 성북동 단독주택의 눈물…25억 반토막에도 파리 날린다 [부동산360]\\n30분전\\n\\n\\n네이버 AI 뉴스 알고리즘\\n뉴스 추천 알고리즘이 궁금하다면?\\n\\n\\n헤럴드경제 랭킹 뉴스\\n오후 4시~5시까지 집계한 결과입니다.\\n오후 2시~5시까지 집계한 결과입니다.\\n더보기\\n더보기\\n\\n많이 본\\n\\n\\n댓글 많은\\n\\n1', metadata={'source': 'https://n.news.naver.com/article/016/0002247281?sid=110', 'title': '소액투자자 위해 금투세 폐지? 증권거래세는? [홍길용의 화식열전]', 'language': 'ko'}), Document(page_content='브라이언 “年매출 157억, ‘플투 25년’보다 더 벌었다”…‘이 시장’ 파고들었더니\\n7시간전\\n\\n\"연봉 1억원, 이런 밥상이 삼시세끼 공짜\" 난리난 이 회사, 어디길래?\\n22시간전\\n\\n[영상] 49억 성북동 단독주택의 눈물…25억 반토막에도 파리 날린다 [부동산360]\\n30분전\\n\\n\\n네이버 AI 뉴스 알고리즘\\n뉴스 추천 알고리즘이 궁금하다면?\\n\\n\\n헤럴드경제 랭킹 뉴스\\n오후 4시~5시까지 집계한 결과입니다.\\n오후 2시~5시까지 집계한 결과입니다.\\n더보기\\n더보기\\n\\n많이 본\\n\\n\\n댓글 많은\\n\\n1\\n\\n\"연봉 1억원, 이런 밥상이 삼시세끼 공짜\" 난리난 이 회사, 어디길래?\\n22시간전\\n\\n\\n2\\n\\n“누워서 유튜브 보다잤다” 이런 사람 많다 했더니…카카오 ‘발칵’ 뒤집혔다\\n21시간전\\n\\n\\n3\\n\\n브라이언 “年매출 157억, ‘플투 25년’보다 더 벌었다”…‘이 시장’ 파고들었더니\\n7시간전\\n\\n\\n4\\n\\n부산대 “천준호·정청래가 서울대 병원 이송 요청…서울대 브리핑 당혹”(종합)\\n1시간전\\n\\n\\n5\\n\\n“H.O.T가 뭐죠?”…수능 최초 만점자 오승은, 물리학과 선택한 이유는\\n4시간전\\n\\n\\n1\\n\\n부산대 “천준호·정청래가 서울대 병원 이송 요청…서울대 브리핑 당혹”(종합)\\n1시간전\\n\\n\\n2\\n\\n\"연봉 1억원, 이런 밥상이 삼시세끼 공짜\" 난리난 이 회사, 어디길래?\\n22시간전\\n\\n\\n3\\n\\n“아프면 서울로”?…이재명 헬기 이송에 부산시민·의료계 ‘원성’\\n7시간전\\n\\n\\n4\\n\\n“이러면 아이폰 누가 사?” 40만원 ‘파격’ 갤럭시 나온다…‘갤럭시 A25 5G’ 출시\\n8시간전\\n\\n\\n5\\n\\n다방 여주인 살해하고 12년 활보한 \\'그놈\\' 드디어 잡혔다\\n7시간전\\n\\n \\n\\n 함께 볼만한 기자\\n안내\\n\\n최근 일주일 이내 업데이트된 기자 중에서 무작위 순서로 노출합니다.\\n닫기\\n\\n\\n비슷한 주제\\n\\n\\n구독자 많은\\n\\n서화동 기자\\n\\n\\n구독\\n구독중\\n\\n구독해주셔서 감사합니다\\n\\n서화동 기자의 기사는언론사별에서 볼 수 있습니다\\n\\n닫기\\n\\n\\n언론사도 함께 구독해 보세요.\\n\\n\\n\\t\\t\\t\\t\\t\\t\\t\\t\\t\\t\\t\\t\\t\\t\\t\\t\\t\\t\\t구독\\n\\t\\t\\t\\t\\t\\t\\t\\t\\t\\t\\t\\t\\t\\t\\t\\t\\t\\t\\n\\n\\n\\t\\t\\t\\t\\t\\t\\t\\t\\t\\t\\t\\t\\t\\t\\t\\t\\t\\t언론사를 함께 구독중입니다.\\n\\t\\t\\t\\t\\t\\t\\t\\t\\t\\t\\t\\t\\t\\t\\t\\t\\t\\n\\n\\n[서화동 칼럼] 구멍 숭숭 뚫린 채 선진국일 순 없다\\n한국경제\\n1일전\\n\\n\\n박현갑 기자\\n\\n\\n구독\\n구독중\\n\\n구독해주셔서 감사합니다\\n\\n박현갑 기자의 기사는언론사별에서 볼 수 있습니다\\n\\n닫기\\n\\n\\n언론사도 함께 구독해 보세요.\\n\\n\\n\\t\\t\\t\\t\\t\\t\\t\\t\\t\\t\\t\\t\\t\\t\\t\\t\\t\\t\\t구독\\n\\t\\t\\t\\t\\t\\t\\t\\t\\t\\t\\t\\t\\t\\t\\t\\t\\t\\t\\n\\n\\n\\t\\t\\t\\t\\t\\t\\t\\t\\t\\t\\t\\t\\t\\t\\t\\t\\t\\t언론사를 함께 구독중입니다.\\n\\t\\t\\t\\t\\t\\t\\t\\t\\t\\t\\t\\t\\t\\t\\t\\t\\t\\n\\n\\n[박현갑의 뉴스아이] “다문화 아이들, 지원 대상 아닌 함께 할 파트너… 희망 주는 교육해야”/논설위원\\n서울신문\\n12시간전\\n\\n\\n허원순 기자\\n\\n\\n구독\\n구독중\\n\\n구독해주셔서 감사합니다\\n\\n허원순 기자의 기사는언론사별에서 볼 수 있습니다\\n\\n닫기\\n\\n\\n언론사도 함께 구독해 보세요.\\n\\n\\n\\t\\t\\t\\t\\t\\t\\t\\t\\t\\t\\t\\t\\t\\t\\t\\t\\t\\t\\t구독\\n\\t\\t\\t\\t\\t\\t\\t\\t\\t\\t\\t\\t\\t\\t\\t\\t\\t\\t\\n\\n\\n\\t\\t\\t\\t\\t\\t\\t\\t\\t\\t\\t\\t\\t\\t\\t\\t\\t\\t언론사를 함께 구독중입니다.\\n\\t\\t\\t\\t\\t\\t\\t\\t\\t\\t\\t\\t\\t\\t\\t\\t\\t\\n\\n\\n[허원순 칼럼] 2024년 \\'부처 칸막이\\' 철폐 원년으로\\n한국경제\\n2일전\\n\\n\\n김찬희 기자\\n\\n\\n구독\\n구독중\\n\\n구독해주셔서 감사합니다\\n\\n김찬희 기자의 기사는언론사별에서 볼 수 있습니다\\n\\n닫기\\n\\n\\n언론사도 함께 구독해 보세요.\\n\\n\\n\\t\\t\\t\\t\\t\\t\\t\\t\\t\\t\\t\\t\\t\\t\\t\\t\\t\\t\\t구독\\n\\t\\t\\t\\t\\t\\t\\t\\t\\t\\t\\t\\t\\t\\t\\t\\t\\t\\t\\n\\n\\n\\t\\t\\t\\t\\t\\t\\t\\t\\t\\t\\t\\t\\t\\t\\t\\t\\t\\t언론사를 함께 구독중입니다.\\n\\t\\t\\t\\t\\t\\t\\t\\t\\t\\t\\t\\t\\t\\t\\t\\t\\t\\n\\n\\n[돋을새김] 안개 속을 달리다\\n국민일보\\n2일전\\n\\n\\n김성민 기자\\n\\n\\n구독\\n구독중\\n\\n구독해주셔서 감사합니다\\n\\n김성민 기자의 기사는언론사별에서 볼 수 있습니다\\n\\n닫기\\n\\n\\n언론사도 함께 구독해 보세요.\\n\\n\\n\\t\\t\\t\\t\\t\\t\\t\\t\\t\\t\\t\\t\\t\\t\\t\\t\\t\\t\\t구독\\n\\t\\t\\t\\t\\t\\t\\t\\t\\t\\t\\t\\t\\t\\t\\t\\t\\t\\t\\n\\n\\n\\t\\t\\t\\t\\t\\t\\t\\t\\t\\t\\t\\t\\t\\t\\t\\t\\t\\t언론사를 함께 구독중입니다.\\n\\t\\t\\t\\t\\t\\t\\t\\t\\t\\t\\t\\t\\t\\t\\t\\t\\t\\n\\n\\nASML 신형 최첨단 장비, 첫 배송지는 인텔\\n조선일보\\n2023.12.23.\\n\\n\\n권혁순 기자\\n\\n\\n구독\\n구독중\\n\\n구독해주셔서 감사합니다\\n\\n권혁순 기자의 기사는언론사별에서 볼 수 있습니다\\n\\n닫기\\n\\n\\n언론사도 함께 구독해 보세요.\\n\\n\\n\\t\\t\\t\\t\\t\\t\\t\\t\\t\\t\\t\\t\\t\\t\\t\\t\\t\\t\\t구독\\n\\t\\t\\t\\t\\t\\t\\t\\t\\t\\t\\t\\t\\t\\t\\t\\t\\t\\t\\n\\n\\n\\t\\t\\t\\t\\t\\t\\t\\t\\t\\t\\t\\t\\t\\t\\t\\t\\t\\t언론사를 함께 구독중입니다.\\n\\t\\t\\t\\t\\t\\t\\t\\t\\t\\t\\t\\t\\t\\t\\t\\t\\t\\n\\n\\n[언중언]‘바람아 불어다오’\\n강원일보\\n6일전\\n\\n\\n이은아 기자\\n\\n\\n구독\\n구독중\\n\\n구독해주셔서 감사합니다\\n\\n이은아 기자의 기사는언론사별에서 볼 수 있습니다\\n\\n닫기\\n\\n\\n언론사도 함께 구독해 보세요.\\n\\n\\n\\t\\t\\t\\t\\t\\t\\t\\t\\t\\t\\t\\t\\t\\t\\t\\t\\t\\t\\t구독\\n\\t\\t\\t\\t\\t\\t\\t\\t\\t\\t\\t\\t\\t\\t\\t\\t\\t\\t\\n\\n\\n\\t\\t\\t\\t\\t\\t\\t\\t\\t\\t\\t\\t\\t\\t\\t\\t\\t\\t언론사를 함께 구독중입니다.\\n\\t\\t\\t\\t\\t\\t\\t\\t\\t\\t\\t\\t\\t\\t\\t\\t\\t\\n\\n\\n“우리 동네에 성범죄자가 산다고요?”…화학적 거세·제시카법, 국회에 쏠린 눈 [필동정담]\\n매일경제\\n5시간전\\n\\n\\n김상민 기자\\n\\n\\n구독\\n구독중\\n\\n구독해주셔서 감사합니다\\n\\n김상민 기자의 기사는언론사별에서 볼 수 있습니다\\n\\n닫기\\n\\n\\n언론사도 함께 구독해 보세요.\\n\\n\\n\\t\\t\\t\\t\\t\\t\\t\\t\\t\\t\\t\\t\\t\\t\\t\\t\\t\\t\\t구독\\n\\t\\t\\t\\t\\t\\t\\t\\t\\t\\t\\t\\t\\t\\t\\t\\t\\t\\t\\n\\n\\n\\t\\t\\t\\t\\t\\t\\t\\t\\t\\t\\t\\t\\t\\t\\t\\t\\t\\t언론사를 함께 구독중입니다.\\n\\t\\t\\t\\t\\t\\t\\t\\t\\t\\t\\t\\t\\t\\t\\t\\t\\t\\n\\n\\n[생각그림] 나를 보자\\n경향신문\\n2일전\\n\\n\\n박희준 기자\\n\\n\\n구독\\n구독중\\n\\n구독해주셔서 감사합니다\\n\\n박희준 기자의 기사는언론사별에서 볼 수 있습니다\\n\\n닫기\\n\\n\\n언론사도 함께 구독해 보세요.\\n\\n\\n\\t\\t\\t\\t\\t\\t\\t\\t\\t\\t\\t\\t\\t\\t\\t\\t\\t\\t\\t구독\\n\\t\\t\\t\\t\\t\\t\\t\\t\\t\\t\\t\\t\\t\\t\\t\\t\\t\\t\\n\\n\\n\\t\\t\\t\\t\\t\\t\\t\\t\\t\\t\\t\\t\\t\\t\\t\\t\\t\\t언론사를 함께 구독중입니다.\\n\\t\\t\\t\\t\\t\\t\\t\\t\\t\\t\\t\\t\\t\\t\\t\\t\\t\\n\\n\\n김효준 BMW 고문, 대창그룹 부회장 취임\\n세계일보\\n2시간전\\n\\n\\n김종구 기자\\n\\n\\n구독\\n구독중\\n\\n구독해주셔서 감사합니다\\n\\n김종구 기자의 기사는언론사별에서 볼 수 있습니다\\n\\n닫기\\n\\n\\n언론사도 함께 구독해 보세요.\\n\\n\\n\\t\\t\\t\\t\\t\\t\\t\\t\\t\\t\\t\\t\\t\\t\\t\\t\\t\\t\\t구독', metadata={'source': 'https://n.news.naver.com/article/016/0002247281?sid=110', 'title': '소액투자자 위해 금투세 폐지? 증권거래세는? [홍길용의 화식열전]', 'language': 'ko'}), Document(page_content=\"닫기\\n\\n\\n언론사도 함께 구독해 보세요.\\n\\n\\n\\t\\t\\t\\t\\t\\t\\t\\t\\t\\t\\t\\t\\t\\t\\t\\t\\t\\t\\t구독\\n\\t\\t\\t\\t\\t\\t\\t\\t\\t\\t\\t\\t\\t\\t\\t\\t\\t\\t\\n\\n\\n\\t\\t\\t\\t\\t\\t\\t\\t\\t\\t\\t\\t\\t\\t\\t\\t\\t\\t언론사를 함께 구독중입니다.\\n\\t\\t\\t\\t\\t\\t\\t\\t\\t\\t\\t\\t\\t\\t\\t\\t\\t\\n\\n\\n김효준 BMW 고문, 대창그룹 부회장 취임\\n세계일보\\n2시간전\\n\\n\\n김종구 기자\\n\\n\\n구독\\n구독중\\n\\n구독해주셔서 감사합니다\\n\\n김종구 기자의 기사는언론사별에서 볼 수 있습니다\\n\\n닫기\\n\\n\\n언론사도 함께 구독해 보세요.\\n\\n\\n\\t\\t\\t\\t\\t\\t\\t\\t\\t\\t\\t\\t\\t\\t\\t\\t\\t\\t\\t구독\\n\\t\\t\\t\\t\\t\\t\\t\\t\\t\\t\\t\\t\\t\\t\\t\\t\\t\\t\\n\\n\\n\\t\\t\\t\\t\\t\\t\\t\\t\\t\\t\\t\\t\\t\\t\\t\\t\\t\\t언론사를 함께 구독중입니다.\\n\\t\\t\\t\\t\\t\\t\\t\\t\\t\\t\\t\\t\\t\\t\\t\\t\\t\\n\\n\\n[김종구 칼럼] 이재명 옛 동료 시장들, 줄낙천 당하나\\n경기일보\\n14시간전\\n\\n\\n김능현 기자\\n\\n\\n구독\\n구독중\\n\\n구독해주셔서 감사합니다\\n\\n김능현 기자의 기사는언론사별에서 볼 수 있습니다\\n\\n닫기\\n\\n\\n언론사도 함께 구독해 보세요.\\n\\n\\n\\t\\t\\t\\t\\t\\t\\t\\t\\t\\t\\t\\t\\t\\t\\t\\t\\t\\t\\t구독\\n\\t\\t\\t\\t\\t\\t\\t\\t\\t\\t\\t\\t\\t\\t\\t\\t\\t\\t\\n\\n\\n\\t\\t\\t\\t\\t\\t\\t\\t\\t\\t\\t\\t\\t\\t\\t\\t\\t\\t언론사를 함께 구독중입니다.\\n\\t\\t\\t\\t\\t\\t\\t\\t\\t\\t\\t\\t\\t\\t\\t\\t\\t\\n\\n\\n[만파식적] 6G와 ‘4류 정치’\\n서울경제\\n2일전\\n\\n\\n유성열 기자\\n\\n\\n구독\\n구독중\\n\\n구독해주셔서 감사합니다\\n\\n유성열 기자의 기사는언론사별에서 볼 수 있습니다\\n\\n닫기\\n\\n\\n언론사도 함께 구독해 보세요.\\n\\n\\n\\t\\t\\t\\t\\t\\t\\t\\t\\t\\t\\t\\t\\t\\t\\t\\t\\t\\t\\t구독\\n\\t\\t\\t\\t\\t\\t\\t\\t\\t\\t\\t\\t\\t\\t\\t\\t\\t\\t\\n\\n\\n\\t\\t\\t\\t\\t\\t\\t\\t\\t\\t\\t\\t\\t\\t\\t\\t\\t\\t언론사를 함께 구독중입니다.\\n\\t\\t\\t\\t\\t\\t\\t\\t\\t\\t\\t\\t\\t\\t\\t\\t\\t\\n\\n\\n[광화문에서/유성열]공무원의 정치 중립, 검사는 예외인가\\n동아일보\\n1일전\\n\\n\\n강희철 기자\\n\\n\\n구독\\n구독중\\n\\n구독해주셔서 감사합니다\\n\\n강희철 기자의 기사는언론사별에서 볼 수 있습니다\\n\\n닫기\\n\\n\\n언론사도 함께 구독해 보세요.\\n\\n\\n\\t\\t\\t\\t\\t\\t\\t\\t\\t\\t\\t\\t\\t\\t\\t\\t\\t\\t\\t구독\\n\\t\\t\\t\\t\\t\\t\\t\\t\\t\\t\\t\\t\\t\\t\\t\\t\\t\\t\\n\\n\\n\\t\\t\\t\\t\\t\\t\\t\\t\\t\\t\\t\\t\\t\\t\\t\\t\\t\\t언론사를 함께 구독중입니다.\\n\\t\\t\\t\\t\\t\\t\\t\\t\\t\\t\\t\\t\\t\\t\\t\\t\\t\\n\\n\\n‘김건희 리스크’, 끝날 때까지 끝난 게 아니다\\n한겨레\\n4일전\\n\\n\\n서승욱 기자\\n\\n\\n구독\\n구독중\\n\\n구독해주셔서 감사합니다\\n\\n서승욱 기자의 기사는언론사별에서 볼 수 있습니다\\n\\n닫기\\n\\n\\n언론사도 함께 구독해 보세요.\\n\\n\\n\\t\\t\\t\\t\\t\\t\\t\\t\\t\\t\\t\\t\\t\\t\\t\\t\\t\\t\\t구독\\n\\t\\t\\t\\t\\t\\t\\t\\t\\t\\t\\t\\t\\t\\t\\t\\t\\t\\t\\n\\n\\n\\t\\t\\t\\t\\t\\t\\t\\t\\t\\t\\t\\t\\t\\t\\t\\t\\t\\t언론사를 함께 구독중입니다.\\n\\t\\t\\t\\t\\t\\t\\t\\t\\t\\t\\t\\t\\t\\t\\t\\t\\t\\n\\n\\n[서승욱의 시시각각] 한동훈과 서초동 사투리\\n중앙일보\\n2일전\\n\\n\\n주춘렬 기자\\n\\n\\n구독\\n구독중\\n\\n구독해주셔서 감사합니다\\n\\n주춘렬 기자의 기사는언론사별에서 볼 수 있습니다\\n\\n닫기\\n\\n\\n언론사도 함께 구독해 보세요.\\n\\n\\n\\t\\t\\t\\t\\t\\t\\t\\t\\t\\t\\t\\t\\t\\t\\t\\t\\t\\t\\t구독\\n\\t\\t\\t\\t\\t\\t\\t\\t\\t\\t\\t\\t\\t\\t\\t\\t\\t\\t\\n\\n\\n\\t\\t\\t\\t\\t\\t\\t\\t\\t\\t\\t\\t\\t\\t\\t\\t\\t\\t언론사를 함께 구독중입니다.\\n\\t\\t\\t\\t\\t\\t\\t\\t\\t\\t\\t\\t\\t\\t\\t\\t\\t\\n\\n\\n[설왕설래] AI 저널리즘의 위협\\n세계일보\\n5일전\\n\\n\\n이원율 기자\\n\\n\\n구독\\n구독중\\n\\n구독해주셔서 감사합니다\\n\\n이원율 기자의 기사는언론사별에서 볼 수 있습니다\\n\\n닫기\\n\\n\\n언론사도 함께 구독해 보세요.\\n\\n\\n\\t\\t\\t\\t\\t\\t\\t\\t\\t\\t\\t\\t\\t\\t\\t\\t\\t\\t\\t구독\\n\\t\\t\\t\\t\\t\\t\\t\\t\\t\\t\\t\\t\\t\\t\\t\\t\\t\\t\\n\\n\\n\\t\\t\\t\\t\\t\\t\\t\\t\\t\\t\\t\\t\\t\\t\\t\\t\\t\\t언론사를 함께 구독중입니다.\\n\\t\\t\\t\\t\\t\\t\\t\\t\\t\\t\\t\\t\\t\\t\\t\\t\\t\\n\\n\\n유인태 “한동훈·이재명, 전부 尹직계·친명 공천하면 제3지대 돌풍 가능성”\\n헤럴드경제\\n39분전\\n\\n\\n현화영 기자\\n\\n\\n구독\\n구독중\\n\\n구독해주셔서 감사합니다\\n\\n현화영 기자의 기사는언론사별에서 볼 수 있습니다\\n\\n닫기\\n\\n\\n언론사도 함께 구독해 보세요.\\n\\n\\n\\t\\t\\t\\t\\t\\t\\t\\t\\t\\t\\t\\t\\t\\t\\t\\t\\t\\t\\t구독\\n\\t\\t\\t\\t\\t\\t\\t\\t\\t\\t\\t\\t\\t\\t\\t\\t\\t\\t\\n\\n\\n\\t\\t\\t\\t\\t\\t\\t\\t\\t\\t\\t\\t\\t\\t\\t\\t\\t\\t언론사를 함께 구독중입니다.\\n\\t\\t\\t\\t\\t\\t\\t\\t\\t\\t\\t\\t\\t\\t\\t\\t\\t\\n\\n\\nSKT, 네이버·아프리카TV와 AI 미디어 기술 공동 활용 MOU\\n세계일보\\n1시간전\\n\\n\\n김채현 기자\\n\\n\\n구독\\n구독중\\n\\n구독해주셔서 감사합니다\\n\\n김채현 기자의 기사는언론사별에서 볼 수 있습니다\\n\\n닫기\\n\\n\\n언론사도 함께 구독해 보세요.\\n\\n\\n\\t\\t\\t\\t\\t\\t\\t\\t\\t\\t\\t\\t\\t\\t\\t\\t\\t\\t\\t구독\\n\\t\\t\\t\\t\\t\\t\\t\\t\\t\\t\\t\\t\\t\\t\\t\\t\\t\\t\\n\\n\\n\\t\\t\\t\\t\\t\\t\\t\\t\\t\\t\\t\\t\\t\\t\\t\\t\\t\\t언론사를 함께 구독중입니다.\\n\\t\\t\\t\\t\\t\\t\\t\\t\\t\\t\\t\\t\\t\\t\\t\\t\\t\\n\\n\\n“안녕하세요. 대한항공 승무원입니다”…새 명예 승무원은 누구?\\n서울신문\\n1시간전\\n\\n\\n하수영 기자\\n\\n\\n구독\\n구독중\\n\\n구독해주셔서 감사합니다\\n\\n하수영 기자의 기사는언론사별에서 볼 수 있습니다\\n\\n닫기\\n\\n\\n언론사도 함께 구독해 보세요.\\n\\n\\n\\t\\t\\t\\t\\t\\t\\t\\t\\t\\t\\t\\t\\t\\t\\t\\t\\t\\t\\t구독\\n\\t\\t\\t\\t\\t\\t\\t\\t\\t\\t\\t\\t\\t\\t\\t\\t\\t\\t\\n\\n\\n\\t\\t\\t\\t\\t\\t\\t\\t\\t\\t\\t\\t\\t\\t\\t\\t\\t\\t언론사를 함께 구독중입니다.\\n\\t\\t\\t\\t\\t\\t\\t\\t\\t\\t\\t\\t\\t\\t\\t\\t\\t\\n\\n\\n'독극물 취급 재료' 토핑 올렸다…伊 장인이 만든 피자 정체\\n중앙일보\\n38분전\\n\\n\\n강영운 기자\\n\\n\\n구독\\n구독중\\n\\n구독해주셔서 감사합니다\\n\\n강영운 기자의 기사는언론사별에서 볼 수 있습니다\\n\\n닫기\\n\\n\\n언론사도 함께 구독해 보세요.\\n\\n\\n\\t\\t\\t\\t\\t\\t\\t\\t\\t\\t\\t\\t\\t\\t\\t\\t\\t\\t\\t구독\\n\\t\\t\\t\\t\\t\\t\\t\\t\\t\\t\\t\\t\\t\\t\\t\\t\\t\\t\\n\\n\\n\\t\\t\\t\\t\\t\\t\\t\\t\\t\\t\\t\\t\\t\\t\\t\\t\\t\\t언론사를 함께 구독중입니다.\\n\\t\\t\\t\\t\\t\\t\\t\\t\\t\\t\\t\\t\\t\\t\\t\\t\\t\\n\\n\\n“나쁜 짓 했으니 신상 다 털려도 괜찮다?”…대법원이 내린 판결 보니\\n매일경제\\n6시간전\\n\\n\\n김현주 기자\\n\\n\\n구독\\n구독중\\n\\n구독해주셔서 감사합니다\\n\\n김현주 기자의 기사는언론사별에서 볼 수 있습니다\\n\\n닫기\\n\\n\\n언론사도 함께 구독해 보세요.\\n\\n\\n\\t\\t\\t\\t\\t\\t\\t\\t\\t\\t\\t\\t\\t\\t\\t\\t\\t\\t\\t구독\\n\\t\\t\\t\\t\\t\\t\\t\\t\\t\\t\\t\\t\\t\\t\\t\\t\\t\\t\\n\\n\\n\\t\\t\\t\\t\\t\\t\\t\\t\\t\\t\\t\\t\\t\\t\\t\\t\\t\\t언론사를 함께 구독중입니다.\\n\\t\\t\\t\\t\\t\\t\\t\\t\\t\\t\\t\\t\\t\\t\\t\\t\\t\\n\\n\\n[속보] 김진표 국회 의장 “쌍특검법, 관행 따라 1주일 내 실무 준비 되면 정부 이송”\\n세계일보\\n3시간전\\n\\n\\n박효주 기자\\n\\n\\n구독\\n구독중\\n\\n구독해주셔서 감사합니다\\n\\n박효주 기자의 기사는언론사별에서 볼 수 있습니다\\n\\n닫기\\n\\n\\n언론사도 함께 구독해 보세요.\\n\\n\\n\\t\\t\\t\\t\\t\\t\\t\\t\\t\\t\\t\\t\\t\\t\\t\\t\\t\\t\\t구독\", metadata={'source': 'https://n.news.naver.com/article/016/0002247281?sid=110', 'title': '소액투자자 위해 금투세 폐지? 증권거래세는? [홍길용의 화식열전]', 'language': 'ko'}), Document(page_content='구독\\n\\t\\t\\t\\t\\t\\t\\t\\t\\t\\t\\t\\t\\t\\t\\t\\t\\t\\t\\n\\n\\n\\t\\t\\t\\t\\t\\t\\t\\t\\t\\t\\t\\t\\t\\t\\t\\t\\t\\t언론사를 함께 구독중입니다.\\n\\t\\t\\t\\t\\t\\t\\t\\t\\t\\t\\t\\t\\t\\t\\t\\t\\t\\n\\n\\n[속보] 김진표 국회 의장 “쌍특검법, 관행 따라 1주일 내 실무 준비 되면 정부 이송”\\n세계일보\\n3시간전\\n\\n\\n박효주 기자\\n\\n\\n구독\\n구독중\\n\\n구독해주셔서 감사합니다\\n\\n박효주 기자의 기사는언론사별에서 볼 수 있습니다\\n\\n닫기\\n\\n\\n언론사도 함께 구독해 보세요.\\n\\n\\n\\t\\t\\t\\t\\t\\t\\t\\t\\t\\t\\t\\t\\t\\t\\t\\t\\t\\t\\t구독\\n\\t\\t\\t\\t\\t\\t\\t\\t\\t\\t\\t\\t\\t\\t\\t\\t\\t\\t\\n\\n\\n\\t\\t\\t\\t\\t\\t\\t\\t\\t\\t\\t\\t\\t\\t\\t\\t\\t\\t언론사를 함께 구독중입니다.\\n\\t\\t\\t\\t\\t\\t\\t\\t\\t\\t\\t\\t\\t\\t\\t\\t\\t\\n\\n\\n\"책 주세요\" 요구한 이재명 습격범…유치장서 \\'삼국지\\' 읽었다\\n머니투데이\\n50분전\\n\\n\\n이상규 기자\\n\\n\\n구독\\n구독중\\n\\n구독해주셔서 감사합니다\\n\\n이상규 기자의 기사는언론사별에서 볼 수 있습니다\\n\\n닫기\\n\\n\\n언론사도 함께 구독해 보세요.\\n\\n\\n\\t\\t\\t\\t\\t\\t\\t\\t\\t\\t\\t\\t\\t\\t\\t\\t\\t\\t\\t구독\\n\\t\\t\\t\\t\\t\\t\\t\\t\\t\\t\\t\\t\\t\\t\\t\\t\\t\\t\\n\\n\\n\\t\\t\\t\\t\\t\\t\\t\\t\\t\\t\\t\\t\\t\\t\\t\\t\\t\\t언론사를 함께 구독중입니다.\\n\\t\\t\\t\\t\\t\\t\\t\\t\\t\\t\\t\\t\\t\\t\\t\\t\\t\\n\\n\\n“한달에 은행원 연봉 4배 번다”…매달 억대 수익, ‘훈남’의 정체\\n매일경제\\n2시간전\\n\\n\\n이지희 기자\\n\\n\\n구독\\n구독중\\n\\n구독해주셔서 감사합니다\\n\\n이지희 기자의 기사는언론사별에서 볼 수 있습니다\\n\\n닫기\\n\\n\\n언론사도 함께 구독해 보세요.\\n\\n\\n\\t\\t\\t\\t\\t\\t\\t\\t\\t\\t\\t\\t\\t\\t\\t\\t\\t\\t\\t구독\\n\\t\\t\\t\\t\\t\\t\\t\\t\\t\\t\\t\\t\\t\\t\\t\\t\\t\\t\\n\\n\\n\\t\\t\\t\\t\\t\\t\\t\\t\\t\\t\\t\\t\\t\\t\\t\\t\\t\\t언론사를 함께 구독중입니다.\\n\\t\\t\\t\\t\\t\\t\\t\\t\\t\\t\\t\\t\\t\\t\\t\\t\\t\\n\\n\\n\"주요부위 딱밤 때리고\"… CCTV에 찍힌 해병대 성추행\\n데일리안\\n1시간전\\n\\n\\n박태훈 기자\\n\\n\\n구독\\n구독중\\n\\n구독해주셔서 감사합니다\\n\\n박태훈 기자의 기사는언론사별에서 볼 수 있습니다\\n\\n닫기\\n\\n\\n언론사도 함께 구독해 보세요.\\n\\n\\n\\t\\t\\t\\t\\t\\t\\t\\t\\t\\t\\t\\t\\t\\t\\t\\t\\t\\t\\t구독\\n\\t\\t\\t\\t\\t\\t\\t\\t\\t\\t\\t\\t\\t\\t\\t\\t\\t\\t\\n\\n\\n\\t\\t\\t\\t\\t\\t\\t\\t\\t\\t\\t\\t\\t\\t\\t\\t\\t\\t언론사를 함께 구독중입니다.\\n\\t\\t\\t\\t\\t\\t\\t\\t\\t\\t\\t\\t\\t\\t\\t\\t\\t\\n\\n\\n이재명 공격 60대男, 단 한가지 요구 \"책\"…유치장서 삼국지 삼매경\\n뉴스1\\n2시간전\\n\\n\\n권남영 기자\\n\\n\\n구독\\n구독중\\n\\n구독해주셔서 감사합니다\\n\\n권남영 기자의 기사는언론사별에서 볼 수 있습니다\\n\\n닫기\\n\\n\\n언론사도 함께 구독해 보세요.\\n\\n\\n\\t\\t\\t\\t\\t\\t\\t\\t\\t\\t\\t\\t\\t\\t\\t\\t\\t\\t\\t구독\\n\\t\\t\\t\\t\\t\\t\\t\\t\\t\\t\\t\\t\\t\\t\\t\\t\\t\\t\\n\\n\\n\\t\\t\\t\\t\\t\\t\\t\\t\\t\\t\\t\\t\\t\\t\\t\\t\\t\\t언론사를 함께 구독중입니다.\\n\\t\\t\\t\\t\\t\\t\\t\\t\\t\\t\\t\\t\\t\\t\\t\\t\\t\\n\\n\\n진중권 “이재명 피습, 젓가락·물감 썼다? 말도 안되는”\\n국민일보\\n7시간전\\n\\n\\n이가영 기자\\n\\n\\n구독\\n구독중\\n\\n구독해주셔서 감사합니다\\n\\n이가영 기자의 기사는언론사별에서 볼 수 있습니다\\n\\n닫기\\n\\n\\n언론사도 함께 구독해 보세요.\\n\\n\\n\\t\\t\\t\\t\\t\\t\\t\\t\\t\\t\\t\\t\\t\\t\\t\\t\\t\\t\\t구독\\n\\t\\t\\t\\t\\t\\t\\t\\t\\t\\t\\t\\t\\t\\t\\t\\t\\t\\t\\n\\n\\n\\t\\t\\t\\t\\t\\t\\t\\t\\t\\t\\t\\t\\t\\t\\t\\t\\t\\t언론사를 함께 구독중입니다.\\n\\t\\t\\t\\t\\t\\t\\t\\t\\t\\t\\t\\t\\t\\t\\t\\t\\t\\n\\n\\n부산대병원 “우린 최종의료기관… 헬기로 딴 병원 간 건 이재명이 처음”\\n조선일보\\n3시간전\\n\\n\\n문영진 기자\\n\\n\\n구독\\n구독중\\n\\n구독해주셔서 감사합니다\\n\\n문영진 기자의 기사는언론사별에서 볼 수 있습니다\\n\\n닫기\\n\\n\\n언론사도 함께 구독해 보세요.\\n\\n\\n\\t\\t\\t\\t\\t\\t\\t\\t\\t\\t\\t\\t\\t\\t\\t\\t\\t\\t\\t구독\\n\\t\\t\\t\\t\\t\\t\\t\\t\\t\\t\\t\\t\\t\\t\\t\\t\\t\\t\\n\\n\\n\\t\\t\\t\\t\\t\\t\\t\\t\\t\\t\\t\\t\\t\\t\\t\\t\\t\\t언론사를 함께 구독중입니다.\\n\\t\\t\\t\\t\\t\\t\\t\\t\\t\\t\\t\\t\\t\\t\\t\\t\\t\\n\\n\\n잿더미 된 日항공기서 379명 전원 살린 \\'90초 룰’ 뭐길래 [영상]\\n파이낸셜뉴스\\n2시간전\\n\\n\\n신윤재 기자\\n\\n\\n구독\\n구독중\\n\\n구독해주셔서 감사합니다\\n\\n신윤재 기자의 기사는언론사별에서 볼 수 있습니다\\n\\n닫기\\n\\n\\n언론사도 함께 구독해 보세요.\\n\\n\\n\\t\\t\\t\\t\\t\\t\\t\\t\\t\\t\\t\\t\\t\\t\\t\\t\\t\\t\\t구독\\n\\t\\t\\t\\t\\t\\t\\t\\t\\t\\t\\t\\t\\t\\t\\t\\t\\t\\t\\n\\n\\n\\t\\t\\t\\t\\t\\t\\t\\t\\t\\t\\t\\t\\t\\t\\t\\t\\t\\t언론사를 함께 구독중입니다.\\n\\t\\t\\t\\t\\t\\t\\t\\t\\t\\t\\t\\t\\t\\t\\t\\t\\t\\n\\n\\n영화 ‘마션’ 따라했나...中비행사들, 우주서 토마토 등 채소 재배\\n매일경제\\n2시간전\\n\\n\\n김원장 기자\\n\\n\\n구독\\n구독중\\n\\n구독해주셔서 감사합니다\\n\\n김원장 기자의 기사는언론사별에서 볼 수 있습니다\\n\\n닫기\\n\\n\\n언론사도 함께 구독해 보세요.\\n\\n\\n\\t\\t\\t\\t\\t\\t\\t\\t\\t\\t\\t\\t\\t\\t\\t\\t\\t\\t\\t구독\\n\\t\\t\\t\\t\\t\\t\\t\\t\\t\\t\\t\\t\\t\\t\\t\\t\\t\\t\\n\\n\\n\\t\\t\\t\\t\\t\\t\\t\\t\\t\\t\\t\\t\\t\\t\\t\\t\\t\\t언론사를 함께 구독중입니다.\\n\\t\\t\\t\\t\\t\\t\\t\\t\\t\\t\\t\\t\\t\\t\\t\\t\\t\\n\\n\\n‘1주택자가 시골 집 하나 더 사도 1세대 1주택 혜택’…모르면 손해보는 새해 경제 정책들\\nKBS\\n4시간전\\n\\n새로보기\\n\\n\\n함께 볼만한 뉴스\\n안내\\n\\n이 기사를 본 이용자들이 함께 많이 본 기사, 해당 기사와 유사한 기사, 관심 기사 등을 자동 추천합니다\\n닫기\\n\\n\\n김성태 “이재명 대표 피습 ‘나무젓가락’으로 찔렀다는 얘기 나오면 안돼”\\n김성태 전 의원은 4일 윤석열 대통령의 이재명 더불어민주당 대표 병문안 여부에 대해 “하나하나 정치를 복원해 나가는 과정 속에서 대통령께서도 특단의 의지를 가질 필요는 있다”고 말했다. 김 전 의원은 이날 BBS라디\\n\\n제주 나가는 차량 뒷좌석 바닥 봤더니…숨어있던 중국인 \\'발각\\'\\n제주에 무사증 입국 후 다른 지역으로 이동하려던 중국인과 이를 도운 알선책이 검찰에 넘겨졌다. 4일, 제주해양경찰서는 제주특별자치도 설치 및 국제자유도시 조성을 위한 특별법 위반 혐의로 중국 국적 40대 여성 A 씨\\n\\n\"연봉 1억원, 이런 밥상이 삼시세끼 공짜\" 난리난 이 회사, 어디길래?\\n“맥주 제공 PC방…알고보니 회사?” 매끼 1만5000원의 식사가 ‘공짜’다. 맥주도 마음껏 마실 수 있다. 또 PC방도 편하게 즐길 수 있다. 이는 문화·외식시설이 아닌 한 게임사의 직원 지원 제도들이다. 전세계 \\n\\n\"이선균 협박녀 부친이 사업…돈 펑펑 써\" 카라큘라 주장\\n고(故) 이선균을 협박해 수천만원을 뜯어낸 혐의를 받는 여성이 경제적으로 어려움을 겪지 않는 상황이었고 오히려 그 반대였다는 주장이 제기되면서 여성의 실체에 이목이 쏠리고 있다. 지난 2일 카라', metadata={'source': 'https://n.news.naver.com/article/016/0002247281?sid=110', 'title': '소액투자자 위해 금투세 폐지? 증권거래세는? [홍길용의 화식열전]', 'language': 'ko'}), Document(page_content='\"이선균 협박녀 부친이 사업…돈 펑펑 써\" 카라큘라 주장\\n고(故) 이선균을 협박해 수천만원을 뜯어낸 혐의를 받는 여성이 경제적으로 어려움을 겪지 않는 상황이었고 오히려 그 반대였다는 주장이 제기되면서 여성의 실체에 이목이 쏠리고 있다. 지난 2일 카라\\n\\n교대·지방대의 몰락…수시 정원 20%도 못 채운 대학 나왔다(종합)\\n서울교대 미충원율 80%…경북 한 대학은 90% 미충원 수시모집 14% 미충원…\\'서울 3% vs 비수도권 19%\\' 양극화 \\'학령인구 절벽\\' 등의 영향으로 올해 대입 수시모집에서 선발인원의 40%도 못 채운 대학이 지\\n\\n재생하기\\n재생시간06:25\\n\\n\\n서울대병원 집도의 “이재명 대표, 1.4㎝ 칼로 찔린 자상\"\\n이재명 더불어민주당 대표의 수술을 집도한 서울대병원 이식혈관외과 민승기 교수는 4일 브리핑에서 “수술 이후 다행히 순조롭게 잘 회복 중”이라고 밝혔습니다. 민 교수가 밝힌 수술 소견에 따르면, 좌측 목빗근 위로 1.\\n\\n“헬기 태워주세요. 아이고 나 죽는다”…‘이재명 피습’ 정유라 발언 논란\\n이재명 더불어민주당 대표가 부산 방문 중 60대 남성에게 피습을 당한 것과 관련 국정농단 사건으로 복역 중인 최서원씨의 딸 정유라씨가 비꼬는 듯한 글을 올려 논란이 일고 있다. 정씨는 지난 3일 사회관계망서비스(SN\\n\\n이거 뭐야…유명업체 닭똥집 튀김 노란 이물질 ‘경악’\\n유명 치킨 프랜차이즈 매장에서 닭똥집 튀김을 주문했다가 안에 든 이물질을 발견했다는 소비자 고발이 나왔다. 4일 온라인에 따르면 제보자 A씨는 지난 2일 온라인 커뮤니티 ‘보배드림’에 글을 올려 “어머니 드시라고 ○\\n\\n한동훈 \\'野 텃밭\\' 광주행에 경찰 밀착경호…\\'이재명 피습\\' 여파\\n경찰 인력 280명 이상 동원…동선 따라다니며 韓 에워싼 모습도 與 \"경찰에 경호 최소화 요청\"…\\'빨간마스크\\' 당원들 경호 자원봉사 국민의힘 한동훈 비상대책위원장의 4일 광주 방문에는 경찰 경\\n\\n[단독] 태영, 워크아웃 실패하면 3조 에코비트 KKR에 뺏긴다\\n이 기사는 01월 04일 14:13 마켓인사이트에 게재된 기사입니다. 태영그룹이 3조원 몸값의 계열사인 에코비트 지분을 글로벌 사모펀드(PEF)인 KKR에 한 푼도 못받고 빼앗길 위기에 처했다. KKR은 지난해 1월\\n\\n재생하기\\n재생시간07:27\\n\\n\\n[영상] 서울대병원이 직접 밝힌 이재명 대표 상태…질문 안 받자 \"이럴 거면 왜 브리핑했나\" 항의도\\n이재명 더불어민주당 대표를 치료 중인 서울대병원이 오늘(4일) 이 대표의 수술 경과와 현재 상태를 직접 발표했습니다. 서울대학교병원 대외협력실장 박도중 교수는 \"수술 후 환자가 중환자실 입원 중이었고 외상 환자 특성\\n\\n브라이언 “年매출 157억, ‘플투 25년’보다 더 벌었다”…‘이 시장’ 파고들었더니\\n\\'플라이 투 더 스카이\\' 소속의 가수 브라이언이 \\'라이브커머스\\'를 통한 매출액을 공개했다. 지난 3일 방송된 MBC 예능 프로그램 \\'라디오스타\\'에 출연한 브라이언은 2년 전부터 한 대기업의 라이브커머스와 연이 닿아 \\n\\n“침대서 잠자면 300만원 드려요”…시몬스, 이색 알바 모집\\n침대에서 한시간 동안 잠을 자면 300만원을 벌 수 있는 이색 아르바이트가 나왔다. 시몬스는 4일 지역생활 커뮤니티 당근과 손잡고 ‘당근알바X시몬스 겨울잠 알바’를 모집한다고 밝혔다. 이번 아르바이트는 경기도 이천에\\n\\n\"이재명 테러 가해자, 국민의힘 오랜 당원이다가 작년에 민주당 가입\"\\nJTBC, 민주당 자체조사 결과 보도 이재명 더불어민주당 대표를 흉기로 습격한 피의자 김모씨가 국민의힘 당원 탈퇴 후 민주당에 가입한 것으로 알려졌다. JTBC는 \"더불어민주당 이재명 대표를 흉기로 찌른 혐의로 체포\\n\\n\"한 달에 은행원 연봉의 4배 벌어요\"…\\'300만 유튜버\\' 고백\\n은행 최종 면접에서 떨어졌는데, 그때 붙었으면 제가 유튜브를 안 했겠죠.\" 국내에서 손꼽히는 영화 유튜버인 지무비(본명 나현갑)가 수입을 공개했다. 지무비는 최근 유튜브 채널 \\'휴먼스토리\\'에 출연해 유튜브를 시작하\\n\\n재생하기\\n재생시간03:18\\n\\n\\n\"한동훈은 세련된 尹에 불과‥저러다 궤멸\" 직격에 \"갈비신당 신경 안 써\"\\n국민의힘을 탈당한 가칭 개혁신당 주요 인사들이 일제히 \\'한동훈 비대위\\'를 직격하고 나섰습니다. 천하람 \\'개혁신당\\' 공동창당준비위원장은 오늘 MBC라디오 인터뷰에서 한동훈 비대위원장의 김건희 특검법 대응 기조를 언급하\\n\\n재생하기\\n재생시간01:18\\n\\n\\n“상한 대게는 정말 아닙니다”…사과문 올린 속초 횟집 [잇슈 키워드]\\n잇슈키워드입니다. 오늘 첫 번째 키워드, \\'대게\\'입니다. 강원도 속초에서 횟집을 운영하는 업주가 사과문을 올렸습니다. 무슨 사연인지, 화면으로 만나 보시죠. 업주가 올린 사과문입니다. \"죄송하다\", \"잘못했다\" 거듭\\n\\n\"두툼한 돈봉투에 신문지 잔뜩\"…중고 직거래했다가 \\'경악\\'\\n중고 거래 과정에서 돈 봉투 사기를 당했다는 사연이 전해져 공분을 사고 있다. 지난 3일 X(구 트위터)에 해당 사연을 올린 이용자 A씨는 \"여러분은 당근(중고 거래 플랫폼) 직거래로 돈 봉투 받으시면 그 자리에서 \\n\\n“맨손잡이는 극도의 고통”... 산천어∙송어 축제에 어류는 괴롭다\\n평창 송어축제, 홍천강 꽁꽁축제, 화천 산천어축제···. 올해도 맨손으로 어류를 잡는 행사로 구성된 축제가 잇따라 개최되고 있다. 하지만 동물에게 불필요한 고통을 가한다는 측면에서 동물학대 논란이 꾸준히 제기되고, \\n\\n이재용이 “국물 좀 더 달라”던 어묵집, 매출 ‘수직 상승’\\n이재용 삼성전자 회장이 지난 연말 윤석열 대통령 등과 찾았던 부산 중구 부평깡통시장 어묵집이 홍보 효과를 톡톡히 누리고 있다. 3일 온라인 커뮤니티에는 ‘이재용 어묵집 최신 근황’이라는 제목의 글이 올라왔다. 이 회\\n\\n숨진 다방 여주인 옷 벗겨 설탕 뿌린 살인범 12년만에 잡혔다\\n숨진 여성의 옷을 벗기고 몸에 설탕까지 뿌린 살인범이 12년 만에 붙잡혔다. 장기미제 사건이었던 ‘울산 다방 여주인 살인사건’의 진범이 그동안 발달한 과학수사 기법에 덜미를 잡힌 것이다. 피해자의 손톱에 남아 있던', metadata={'source': 'https://n.news.naver.com/article/016/0002247281?sid=110', 'title': '소액투자자 위해 금투세 폐지? 증권거래세는? [홍길용의 화식열전]', 'language': 'ko'}), Document(page_content='숨진 다방 여주인 옷 벗겨 설탕 뿌린 살인범 12년만에 잡혔다\\n숨진 여성의 옷을 벗기고 몸에 설탕까지 뿌린 살인범이 12년 만에 붙잡혔다. 장기미제 사건이었던 ‘울산 다방 여주인 살인사건’의 진범이 그동안 발달한 과학수사 기법에 덜미를 잡힌 것이다. 피해자의 손톱에 남아 있던 \\n\\n오해였다더니… 이동국 사기미수 고소한 병원장, 소 취하 없었다\\n경기 성남의 한 산부인과 병원장이 축구선수 출신 이동국과 그의 아내를 사기미수 혐의로 고소한 가운데, 인천경찰청이 사건을 접수해 수사하고 있다. 법적 다툼 소식이 알려지자 이동국 측은 “병원장이 소송 취하를 결정했다\\n\\n[Pick] 매일 새벽기도 · 봉사하던 집사…530억 사기극 위한 계략이었다\\n고수익 보장을 앞세워 교인들을 현혹하고 투자금 530억여 원을 뜯어낸 혐의로 재판에 넘겨진 교회 집사가 중형을 선고받았습니다. 서울중앙지법 형사합의 24부(최경서 부장판사)는 특정경제범죄가중처벌법상 사기 등 혐의로 \\n\\n[단독] “태영 막내딸 챙긴 계열사 매각대금 500억 내놔야”…채권단 압박\\n태영건설 채권단이 태영인더스트리 매각대금 중 총수일가의 막내딸 몫인 500억여원을 태영건설에 제공하라고 요구했다. 사재 출연 압박을 총수일가 전반으로 넓히는 모양새다. 앞서 태영그룹은 티와이홀딩스와 윤석민 회장 몫인\\n\\n이수정 \"이재명 피습범, 묻지마테러 아니다..정치적 목적 있을 것\"\\n범죄 심리 전문가인 이수정 경기대 범죄심리학과 교수가 이재명 더불어민주당 대표 피습 사건과 관련해 \"단순히 \\'묻지 마 테러\\'는 아닌 것 같다\"고 진단했다. 국민의힘 총선 예비후보이기도 한 이 교수는 지난 2일 YTN\\n\\n터널서 운전하다 ‘짜증난다’며 급정거한 아내 뺨 때린 남편\\n운전연습하는 아내 뺨 때린 이유? 기사 특정내용과 무관. 게티이미지뱅크 최근 한 온라인 커뮤니티에는 \\'운전연습하는 아내의 뺨을 때린 이유\\'라는 제목의 글이 올라왔다. 사연에 따르면 남편 A씨는 이날 아내의 부탁으로 \\n\\n돼지비계, 꼭 잘라 먹어야 할까? 의외의 건강 효과\\n건강을 위해 돼지고기에서 비계만 제거해서 먹는 경우가 있다. 돼지비계가 기름 덩어리인 것은 사실이나, 그렇다고 해서 꼭 몸에 나쁘기만 한 것은 아니다. 의외로 돼지비계는 여러 영양적 가치를 지닌다. 돼지비계의 영양과\\n\\n퇴실 요구에 모텔 여직원 목 졸랐다…CCTV 속 80대男 충격 장면\\n경기도의 한 모텔에서 80대 투숙객이 여성 직원의 목을 조르는 등 폭행한 사건이 뒤늦게 알려졌다. 피해자는 폭행 피해 후 트라우마에 시달리고 있다고 호소했다. 지난 3일 경찰은 숙박업소에서 카운터 직원을 폭행한 혐의\\n\\n[단독] 부산대 외상센터장 “李대표 이송, 바람직 안해...반대 있었지만 가족뜻 존중”\\n“센터를 잘 아는 외부 의사들은 ‘이재명 대표가 대체 왜 서울로 갔느냐’고 묻습니다.” 부산대병원 권역외상센터장 김영대 교수는 3일 본지와 만나 “경정맥 같은 혈관 손상 치료는 부산대병원 외상센터 의료진들이 경험도 \\n\\n‘1주택자가 시골 집 하나 더 사도 1세대 1주택 혜택’…모르면 손해보는 새해 경제 정책들\\n올해 정부가 계획하고 있는 경제 정책 중에 알아두면 쏠쏠한 것들 몇 가지 정리합니다. ■영세 자영업자에게 영세 소상공인(연 매출 3천만 원 이하)은 연간 20만 원까지 전기요금을 깎아줍니다. 소상공인이 직접 신청을 \\n\\n\\n이전 뉴스들 보기\\n\\n\\n5\\n다음 뉴스들 보기\\n\\n\\n구독\\n\\n\\n본문 듣기를 종료하였습니다.\\n\\n이 기사를 추천했습니다.\\n\\n추천을 취소했습니다.\\n\\n맨위로\\n\\n\\n로그인\\n전체서비스\\n\\n서비스안내\\n뉴스도움말\\n오류신고\\n\\n본 콘텐츠의 저작권은 제공처 또는 네이버에 있으며, 이를 무단이용하는 경우 저작권법 등에 따라 법적책임을 질 수 있습니다.\\nⓒ NAVER Corp.\\nⓒ 헤럴드경제\\n\\n\\n예\\n아니오', metadata={'source': 'https://n.news.naver.com/article/016/0002247281?sid=110', 'title': '소액투자자 위해 금투세 폐지? 증권거래세는? [홍길용의 화식열전]', 'language': 'ko'})], 'output_text': '제목: 윤석열 대통령의 금융투자소득세 폐지 방침에 대한 의견과 경제 전망에 관한 기사\\n\\n주요내용: 윤석열 대통령의 금융투자소득세 폐지 방침에 대한 의견과 경제 전망에 대한 기사가 소개되고 있다.\\n\\n내용:\\n- 금투세 폐지는 법 개정이 필요하며 국회에서의 통과가 어려울 수 있다는 점을 강조하고 있다.\\n- 금투세 폐지는 소액투자자의 부담을 줄이고 증시를 활성화하기 위한 목적이지만, 장기투자 효과가 감소할 수도 있다는 우려가 있다.\\n- 증권거래세도 없애야 증시가 선진국과 차별화될 수 있다는 주장이 제기되고 있다.\\n- 윤석열 대통령의 재건축 안전진단 규제 완화에 대해서도 경제적인 파장을 가져올 수 있는 사안이라고 언급하고 있다.\\n- 총선을 앞두고 행정부가 법 개정이 필요한 사안을 약속하는 것은 어색하다는 의견도 제시되고 있다.'}\n"
          ]
        }
      ]
    },
    {
      "cell_type": "code",
      "source": [
        "import gradio as gr\n",
        "from langchain.chat_models import ChatOpenAI\n",
        "from langchain.document_loaders import WebBaseLoader\n",
        "from langchain.text_splitter import CharacterTextSplitter\n",
        "from langchain.chains.summarize import load_summarize_chain\n",
        "from langchain.prompts import PromptTemplate\n",
        "\n",
        "# 네이버 뉴스기사 주소\n",
        "#url = 'https://n.news.naver.com/article/016/0002247281?sid=110'\n",
        "\n",
        "# Gradio UI 함수 정의\n",
        "def summarize_text(text):\n",
        "    # 웹 문서 크롤링\n",
        "    loader = WebBaseLoader(text)\n",
        "\n",
        "    # 뉴스기사의 본문을 Chunk 단위로 쪼갬\n",
        "    text_splitter = CharacterTextSplitter(\n",
        "        separator=\"\\n\\n\",\n",
        "        chunk_size=3000,\n",
        "        chunk_overlap=300,\n",
        "        length_function=len,\n",
        "        is_separator_regex=False,\n",
        "    )\n",
        "\n",
        "    # 웹사이트 내용 크롤링 후 Chunk 단위로 분할\n",
        "    docs = loader.load_and_split(text_splitter)\n",
        "\n",
        "    # 각 Chunk 단위의 템플릿\n",
        "    template = '''다음의 내용을 한글로 요약해줘:\n",
        "\n",
        "    {text}\n",
        "    '''\n",
        "\n",
        "    # 전체 문서(혹은 전체 Chunk)에 대한 지시(instruct) 정의\n",
        "    combine_template = '''{text}\n",
        "\n",
        "    요약의 결과는 다음의 형식으로 작성해줘:\n",
        "    제목: 신문기사의 제목\n",
        "    주요내용: 한 줄로 요약된 내용\n",
        "    내용: 주요내용을 불렛포인트 형식으로 작성\n",
        "    '''\n",
        "\n",
        "    # 템플릿 생성\n",
        "    prompt = PromptTemplate(template=template, input_variables=['text'])\n",
        "    combine_prompt = PromptTemplate(template=combine_template, input_variables=['text'])\n",
        "\n",
        "    # LLM 객체 생성\n",
        "    llm = ChatOpenAI(temperature=0,\n",
        "                    model_name='gpt-3.5-turbo')\n",
        "\n",
        "    # 요약을 도와주는 load_summarize_chain\n",
        "    chain = load_summarize_chain(llm,\n",
        "                                map_prompt=prompt,\n",
        "                                combine_prompt=combine_prompt,\n",
        "                                chain_type=\"map_reduce\",\n",
        "                                verbose=False)\n",
        "\n",
        "\n",
        "    # 여기에 특정 로직을 추가하여 text를 처리하는 코드를 작성\n",
        "    result = chain.run(docs)  # Use the chain directly without 'process'\n",
        "    return result\n",
        "\n",
        "# Gradio UI 구성\n",
        "iface = gr.Interface(fn=summarize_text, inputs=\"text\", outputs=\"text\")\n",
        "iface.launch(debug=True)  # 웹 브라우저에서 열립니다."
      ],
      "metadata": {
        "colab": {
          "base_uri": "https://localhost:8080/",
          "height": 636
        },
        "id": "-PmkH5brrXDG",
        "outputId": "cfd09512-aa15-4515-b82a-72e824ea016c"
      },
      "execution_count": 46,
      "outputs": [
        {
          "output_type": "stream",
          "name": "stdout",
          "text": [
            "Colab notebook detected. This cell will run indefinitely so that you can see errors and logs. To turn off, set debug=False in launch().\n",
            "Note: opening Chrome Inspector may crash demo inside Colab notebooks.\n",
            "\n",
            "To create a public link, set `share=True` in `launch()`.\n"
          ]
        },
        {
          "output_type": "display_data",
          "data": {
            "text/plain": [
              "<IPython.core.display.Javascript object>"
            ],
            "application/javascript": [
              "(async (port, path, width, height, cache, element) => {\n",
              "                        if (!google.colab.kernel.accessAllowed && !cache) {\n",
              "                            return;\n",
              "                        }\n",
              "                        element.appendChild(document.createTextNode(''));\n",
              "                        const url = await google.colab.kernel.proxyPort(port, {cache});\n",
              "\n",
              "                        const external_link = document.createElement('div');\n",
              "                        external_link.innerHTML = `\n",
              "                            <div style=\"font-family: monospace; margin-bottom: 0.5rem\">\n",
              "                                Running on <a href=${new URL(path, url).toString()} target=\"_blank\">\n",
              "                                    https://localhost:${port}${path}\n",
              "                                </a>\n",
              "                            </div>\n",
              "                        `;\n",
              "                        element.appendChild(external_link);\n",
              "\n",
              "                        const iframe = document.createElement('iframe');\n",
              "                        iframe.src = new URL(path, url).toString();\n",
              "                        iframe.height = height;\n",
              "                        iframe.allow = \"autoplay; camera; microphone; clipboard-read; clipboard-write;\"\n",
              "                        iframe.width = width;\n",
              "                        iframe.style.border = 0;\n",
              "                        element.appendChild(iframe);\n",
              "                    })(7860, \"/\", \"100%\", 500, false, window.element)"
            ]
          },
          "metadata": {}
        },
        {
          "output_type": "stream",
          "name": "stdout",
          "text": [
            "Keyboard interruption in main thread... closing server.\n"
          ]
        },
        {
          "output_type": "execute_result",
          "data": {
            "text/plain": []
          },
          "metadata": {},
          "execution_count": 46
        }
      ]
    }
  ]
}