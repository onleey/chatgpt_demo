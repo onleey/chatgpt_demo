{
  "nbformat": 4,
  "nbformat_minor": 0,
  "metadata": {
    "colab": {
      "provenance": [],
      "authorship_tag": "ABX9TyMcNDQ2vEkowdSeO3vArdxY",
      "include_colab_link": true
    },
    "kernelspec": {
      "name": "python3",
      "display_name": "Python 3"
    },
    "language_info": {
      "name": "python"
    }
  },
  "cells": [
    {
      "cell_type": "markdown",
      "metadata": {
        "id": "view-in-github",
        "colab_type": "text"
      },
      "source": [
        "<a href=\"https://colab.research.google.com/github/onleey/chatgpt_demo/blob/master/001_ChatGPT_API.ipynb\" target=\"_parent\"><img src=\"https://colab.research.google.com/assets/colab-badge.svg\" alt=\"Open In Colab\"/></a>"
      ]
    },
    {
      "cell_type": "code",
      "execution_count": 2,
      "metadata": {
        "colab": {
          "base_uri": "https://localhost:8080/"
        },
        "id": "KTDW_cKJxy7u",
        "outputId": "374d1760-3e7b-4a4c-b619-b1e3f08b4cf6"
      },
      "outputs": [
        {
          "output_type": "stream",
          "name": "stdout",
          "text": [
            "Requirement already satisfied: openai==0.28.1 in /usr/local/lib/python3.10/dist-packages (0.28.1)\n",
            "Requirement already satisfied: requests>=2.20 in /usr/local/lib/python3.10/dist-packages (from openai==0.28.1) (2.31.0)\n",
            "Requirement already satisfied: tqdm in /usr/local/lib/python3.10/dist-packages (from openai==0.28.1) (4.66.1)\n",
            "Requirement already satisfied: aiohttp in /usr/local/lib/python3.10/dist-packages (from openai==0.28.1) (3.9.1)\n",
            "Requirement already satisfied: charset-normalizer<4,>=2 in /usr/local/lib/python3.10/dist-packages (from requests>=2.20->openai==0.28.1) (3.3.2)\n",
            "Requirement already satisfied: idna<4,>=2.5 in /usr/local/lib/python3.10/dist-packages (from requests>=2.20->openai==0.28.1) (3.6)\n",
            "Requirement already satisfied: urllib3<3,>=1.21.1 in /usr/local/lib/python3.10/dist-packages (from requests>=2.20->openai==0.28.1) (2.0.7)\n",
            "Requirement already satisfied: certifi>=2017.4.17 in /usr/local/lib/python3.10/dist-packages (from requests>=2.20->openai==0.28.1) (2023.11.17)\n",
            "Requirement already satisfied: attrs>=17.3.0 in /usr/local/lib/python3.10/dist-packages (from aiohttp->openai==0.28.1) (23.1.0)\n",
            "Requirement already satisfied: multidict<7.0,>=4.5 in /usr/local/lib/python3.10/dist-packages (from aiohttp->openai==0.28.1) (6.0.4)\n",
            "Requirement already satisfied: yarl<2.0,>=1.0 in /usr/local/lib/python3.10/dist-packages (from aiohttp->openai==0.28.1) (1.9.4)\n",
            "Requirement already satisfied: frozenlist>=1.1.1 in /usr/local/lib/python3.10/dist-packages (from aiohttp->openai==0.28.1) (1.4.1)\n",
            "Requirement already satisfied: aiosignal>=1.1.2 in /usr/local/lib/python3.10/dist-packages (from aiohttp->openai==0.28.1) (1.3.1)\n",
            "Requirement already satisfied: async-timeout<5.0,>=4.0 in /usr/local/lib/python3.10/dist-packages (from aiohttp->openai==0.28.1) (4.0.3)\n"
          ]
        }
      ],
      "source": [
        "!pip install openai==0.28.1"
      ]
    },
    {
      "cell_type": "code",
      "source": [
        "import openai"
      ],
      "metadata": {
        "id": "2YoVXF-vyFla"
      },
      "execution_count": 4,
      "outputs": []
    },
    {
      "cell_type": "code",
      "source": [
        "openai.__version__"
      ],
      "metadata": {
        "colab": {
          "base_uri": "https://localhost:8080/",
          "height": 35
        },
        "id": "CZF0THt6yKOK",
        "outputId": "ce60a5ee-3c4f-4ee3-d59f-642d41403075"
      },
      "execution_count": 6,
      "outputs": [
        {
          "output_type": "execute_result",
          "data": {
            "text/plain": [
              "'0.28.1'"
            ],
            "application/vnd.google.colaboratory.intrinsic+json": {
              "type": "string"
            }
          },
          "metadata": {},
          "execution_count": 6
        }
      ]
    },
    {
      "cell_type": "markdown",
      "source": [
        "```\n",
        "# 코드로 형식 지정됨\n",
        "```\n",
        "\n",
        "```python\n",
        "import openai\n",
        "\n",
        "openai.api_key='OpenAPI API Key'\n",
        "\n",
        "response = openai.ChatCompletion.create(\n",
        "  model=\"gpt-3.5-turbo\",\n",
        "  messages=[{\"role\": \"user\", \"content\": \"프롬프트 입력\"}],\n",
        "  temperature=1,\n",
        "  top_p=1,\n",
        "  presence_penalty=1,\n",
        "  frequency_penalty=1,\n",
        "  n=1,\n",
        "  max_tokens=4000,\n",
        "  stop=None\n",
        ")\n",
        "\n",
        "print(response)\n",
        "```"
      ],
      "metadata": {
        "id": "FXWxPO5GyvED"
      }
    },
    {
      "cell_type": "code",
      "source": [
        "import openai\n",
        "\n",
        "openai.api_key = 'key'\n",
        "\n",
        "response = openai.ChatCompletion.create(\n",
        "  model=\"gpt-3.5-turbo\",\n",
        "  messages=[{\"role\": \"user\", \"content\": \"Tell me how to make a pizza\"}]\n",
        ")\n",
        "\n",
        "print(response)\n",
        "\n",
        "\n"
      ],
      "metadata": {
        "colab": {
          "base_uri": "https://localhost:8080/"
        },
        "id": "I8OG-UbMybQq",
        "outputId": "13ef44e8-a7c7-48b7-98df-1820115b784d"
      },
      "execution_count": 7,
      "outputs": [
        {
          "output_type": "stream",
          "name": "stdout",
          "text": [
            "{\n",
            "  \"id\": \"chatcmpl-8aH3HyMCVLQYHriatjTBksiKzBBiS\",\n",
            "  \"object\": \"chat.completion\",\n",
            "  \"created\": 1703656047,\n",
            "  \"model\": \"gpt-3.5-turbo-0613\",\n",
            "  \"choices\": [\n",
            "    {\n",
            "      \"index\": 0,\n",
            "      \"message\": {\n",
            "        \"role\": \"assistant\",\n",
            "        \"content\": \"Making a pizza from scratch involves several steps. Here's a general outline of the process:\\n\\n1. Gather ingredients:\\n   - Pizza dough (store-bought or homemade)\\n   - Pizza sauce or Marinara sauce\\n   - Cheese (mozzarella is commonly used)\\n   - Toppings (e.g., pepperoni, mushrooms, bell peppers, onions, olives, etc.)\\n   - Olive oil\\n   - Herbs and spices (such as basil, oregano, garlic, salt, and pepper)\\n\\n2. Preheat the oven:\\n   - Set your oven to the highest temperature possible (usually around 475-500\\u00b0F or 245-260\\u00b0C). Preheat it for at least 30 minutes to ensure it reaches the desired temperature.\\n\\n3. Prepare the dough:\\n   - If using store-bought dough, follow the package instructions for any necessary preparation.\\n   - If making homemade dough, combine flour, yeast, salt, water, and olive oil in a bowl. Mix well until it forms a smooth dough. Knead for a few minutes, cover, and let it rise for about an hour until it doubles in size.\\n\\n4. Shape the pizza:\\n   - Sprinkle some flour on a clean surface and roll out the dough into your desired shape (round, square, etc.). Make the edges slightly thicker to create a crust.\\n\\n5. Add sauce and toppings:\\n   - Brush olive oil on the surface of the dough to prevent sogginess.\\n   - Spread a thin layer of pizza sauce or Marinara sauce evenly over the dough, leaving a bit of the crust uncovered.\\n   - Sprinkle a generous amount of shredded mozzarella cheese over the sauce.\\n   - Add your preferred toppings, distributing them evenly.\\n\\n6. Bake the pizza:\\n   - Carefully transfer the pizza onto a baking sheet or pizza stone.\\n   - Place it in the preheated oven and bake for around 10-15 minutes or until the crust is golden brown, and the cheese is bubbly and slightly browned. Keep an eye on it, as baking times may vary.\\n\\n7. Optional: Add finishing touches:\\n   - Once the pizza is out of the oven, you can add a sprinkle of dried herbs like oregano or basil and a drizzle of olive oil for extra flavor.\\n\\n8. Allow it to cool, slice, and serve:\\n   - Let the pizza cool for a few minutes before slicing into desired portions.\\n   - Serve and enjoy your homemade pizza!\\n\\nRemember, these are just general instructions. Feel free to modify the toppings and quantities based on your preferences.\"\n",
            "      },\n",
            "      \"logprobs\": null,\n",
            "      \"finish_reason\": \"stop\"\n",
            "    }\n",
            "  ],\n",
            "  \"usage\": {\n",
            "    \"prompt_tokens\": 14,\n",
            "    \"completion_tokens\": 525,\n",
            "    \"total_tokens\": 539\n",
            "  },\n",
            "  \"system_fingerprint\": null\n",
            "}\n"
          ]
        }
      ]
    },
    {
      "cell_type": "markdown",
      "source": [
        "[각 정보의 의미]\n",
        "- choices : 완료 개체 목록이다. 질문시 응답 개수(n)를 1로 설정하면 한개, 2로 설정하면 2개의 완료 개체가 리스트 형태로 저장된다.\n",
        "- index : 완료 개체의 인덱스이다.\n",
        "- message : 모델에서 생성된 메시지 내용이다. 'content'는 답변 내용 'role'은 질문 시 지정한 역할이다.\n",
        "- created : 요청한 시점의 타임스탬프이다.\n",
        "- object : 반환된 객체의 유형이다. ChatGPT의 경우 chat.completion 객체로 반환된다.\n",
        "- usage : 질문할 때 사용된 토큰 수, 응답할 때 사용한 토큰 수, 총 사용한 토큰 수를 각각 제공한다."
      ],
      "metadata": {
        "id": "Gy6c8r8u0Xar"
      }
    },
    {
      "cell_type": "code",
      "source": [
        "print(response['choices'][0]['message']['content'])"
      ],
      "metadata": {
        "colab": {
          "base_uri": "https://localhost:8080/"
        },
        "id": "WzXz47Q20_XJ",
        "outputId": "8a80f37b-cfcc-4b5f-ff14-d7972abde955"
      },
      "execution_count": 8,
      "outputs": [
        {
          "output_type": "stream",
          "name": "stdout",
          "text": [
            "Making a pizza from scratch involves several steps. Here's a general outline of the process:\n",
            "\n",
            "1. Gather ingredients:\n",
            "   - Pizza dough (store-bought or homemade)\n",
            "   - Pizza sauce or Marinara sauce\n",
            "   - Cheese (mozzarella is commonly used)\n",
            "   - Toppings (e.g., pepperoni, mushrooms, bell peppers, onions, olives, etc.)\n",
            "   - Olive oil\n",
            "   - Herbs and spices (such as basil, oregano, garlic, salt, and pepper)\n",
            "\n",
            "2. Preheat the oven:\n",
            "   - Set your oven to the highest temperature possible (usually around 475-500°F or 245-260°C). Preheat it for at least 30 minutes to ensure it reaches the desired temperature.\n",
            "\n",
            "3. Prepare the dough:\n",
            "   - If using store-bought dough, follow the package instructions for any necessary preparation.\n",
            "   - If making homemade dough, combine flour, yeast, salt, water, and olive oil in a bowl. Mix well until it forms a smooth dough. Knead for a few minutes, cover, and let it rise for about an hour until it doubles in size.\n",
            "\n",
            "4. Shape the pizza:\n",
            "   - Sprinkle some flour on a clean surface and roll out the dough into your desired shape (round, square, etc.). Make the edges slightly thicker to create a crust.\n",
            "\n",
            "5. Add sauce and toppings:\n",
            "   - Brush olive oil on the surface of the dough to prevent sogginess.\n",
            "   - Spread a thin layer of pizza sauce or Marinara sauce evenly over the dough, leaving a bit of the crust uncovered.\n",
            "   - Sprinkle a generous amount of shredded mozzarella cheese over the sauce.\n",
            "   - Add your preferred toppings, distributing them evenly.\n",
            "\n",
            "6. Bake the pizza:\n",
            "   - Carefully transfer the pizza onto a baking sheet or pizza stone.\n",
            "   - Place it in the preheated oven and bake for around 10-15 minutes or until the crust is golden brown, and the cheese is bubbly and slightly browned. Keep an eye on it, as baking times may vary.\n",
            "\n",
            "7. Optional: Add finishing touches:\n",
            "   - Once the pizza is out of the oven, you can add a sprinkle of dried herbs like oregano or basil and a drizzle of olive oil for extra flavor.\n",
            "\n",
            "8. Allow it to cool, slice, and serve:\n",
            "   - Let the pizza cool for a few minutes before slicing into desired portions.\n",
            "   - Serve and enjoy your homemade pizza!\n",
            "\n",
            "Remember, these are just general instructions. Feel free to modify the toppings and quantities based on your preferences.\n"
          ]
        }
      ]
    },
    {
      "cell_type": "markdown",
      "source": [
        "소모한 토큰 수 확인"
      ],
      "metadata": {
        "id": "OFbWfGb118ZL"
      }
    },
    {
      "cell_type": "code",
      "source": [
        "print(response['usage'])"
      ],
      "metadata": {
        "colab": {
          "base_uri": "https://localhost:8080/"
        },
        "id": "wK_VdBxD17DL",
        "outputId": "c263d956-fb2e-416c-c72c-a9baca189b3c"
      },
      "execution_count": 9,
      "outputs": [
        {
          "output_type": "stream",
          "name": "stdout",
          "text": [
            "{\n",
            "  \"prompt_tokens\": 14,\n",
            "  \"completion_tokens\": 525,\n",
            "  \"total_tokens\": 539\n",
            "}\n"
          ]
        }
      ]
    },
    {
      "cell_type": "code",
      "source": [
        "import openai\n",
        "openai.api_key = 'key'\n",
        "\n",
        "response = openai.ChatCompletion.create(\n",
        "  model=\"gpt-3.5-turbo\",\n",
        "  messages=[{\"role\": \"user\", \"content\": \"2020년 월드시리즈에서는 누가 우승했어? \"}]\n",
        ")\n",
        "\n",
        "print(response)\n",
        "\n"
      ],
      "metadata": {
        "colab": {
          "base_uri": "https://localhost:8080/"
        },
        "id": "k6bMiEnl28U7",
        "outputId": "cb984446-cf6d-400c-f4fd-6047e1d659ef"
      },
      "execution_count": 10,
      "outputs": [
        {
          "output_type": "stream",
          "name": "stdout",
          "text": [
            "{\n",
            "  \"id\": \"chatcmpl-8aHGROmdEPaWpR0VqdTNPJKnrM9sg\",\n",
            "  \"object\": \"chat.completion\",\n",
            "  \"created\": 1703656863,\n",
            "  \"model\": \"gpt-3.5-turbo-0613\",\n",
            "  \"choices\": [\n",
            "    {\n",
            "      \"index\": 0,\n",
            "      \"message\": {\n",
            "        \"role\": \"assistant\",\n",
            "        \"content\": \"2020\\ub144 \\uc6d4\\ub4dc\\uc2dc\\ub9ac\\uc988\\uc5d0\\uc11c\\ub294 \\ub85c\\uc2a4\\uc564\\uc824\\ub808\\uc2a4 \\ub3c4\\uc9c0\\uac00 \\ud0ec\\ud30c\\ubca0\\uc774 \\ub808\\uc774\\uc2a4\\ub97c \\uaebe\\uace0 \\uc6b0\\uc2b9\\ud588\\uc2b5\\ub2c8\\ub2e4.\"\n",
            "      },\n",
            "      \"logprobs\": null,\n",
            "      \"finish_reason\": \"stop\"\n",
            "    }\n",
            "  ],\n",
            "  \"usage\": {\n",
            "    \"prompt_tokens\": 34,\n",
            "    \"completion_tokens\": 51,\n",
            "    \"total_tokens\": 85\n",
            "  },\n",
            "  \"system_fingerprint\": null\n",
            "}\n"
          ]
        }
      ]
    },
    {
      "cell_type": "code",
      "source": [
        "print(response['choices'][0]['message']['content'])"
      ],
      "metadata": {
        "colab": {
          "base_uri": "https://localhost:8080/"
        },
        "id": "VNxswg_X3Phq",
        "outputId": "5f8c673d-8c3f-43c8-b048-2bc282e00cb6"
      },
      "execution_count": 11,
      "outputs": [
        {
          "output_type": "stream",
          "name": "stdout",
          "text": [
            "2020년 월드시리즈에서는 로스앤젤레스 도지가 탬파베이 레이스를 꺾고 우승했습니다.\n"
          ]
        }
      ]
    },
    {
      "cell_type": "markdown",
      "source": [
        "### 2. 역할 부여하기\n",
        "\n",
        "- GhatGPT API를 이용해 ChatAPI를 사용할 때는 ChatGPT에게 역할을 지시할 수 있다.\n",
        "- 역할지시란 ChatGPT가 앞으로 답변할 때 해당 역할로서 답변이라는 의미이다.\n",
        "- 역할 지시 방법은 항상 지시한 역할대로 동작한다는 보장은 없지만, 역할 지시문에 따라 답변 자체의 방향성을 바꿔 버리기도 한다.\n",
        "- 역할을 지시하려면 기존 코드에서 {\"role\": \"system\", \"content\": \" \"}를 추가한다."
      ],
      "metadata": {
        "id": "Rp2PnExL3ws6"
      }
    },
    {
      "cell_type": "markdown",
      "source": [
        "ChatGPT에게 친절하게 답변해 주는 비서라는 역할을 부여"
      ],
      "metadata": {
        "id": "P3kRrvD032S8"
      }
    },
    {
      "cell_type": "code",
      "source": [
        "response = openai.ChatCompletion.create(\n",
        "  model='gpt-3.5-turbo',\n",
        "  messages=[\n",
        "         {\"role\": \"user\", \"content\": \"너는 정말 친절하고 상세하게 답변해주는 전문가야\"},\n",
        "         {\"role\": \"user\", \"content\": \"2020년 월드시리즈에서는 누가 우승했어? \"}\n",
        "    ]\n",
        ")\n",
        "print(response['choices'][0]['message']['content'])\n"
      ],
      "metadata": {
        "colab": {
          "base_uri": "https://localhost:8080/"
        },
        "id": "-d7OXvvA30Vc",
        "outputId": "17f9d9f6-aa28-47d2-8466-127f283d5f36"
      },
      "execution_count": 20,
      "outputs": [
        {
          "output_type": "stream",
          "name": "stdout",
          "text": [
            "2020년 월드시리즈에서는 로스앤젤레스 다저스(Los Angeles Dodgers)가 탬파베이 레이스(Tampa Bay Rays)를 상대로 우승하였습니다. 이전에 1988년 이후로 32년만에 월드시리즈 우승을 차지한 성과를 달성했습니다.\n"
          ]
        }
      ]
    },
    {
      "cell_type": "markdown",
      "source": [
        "ChatGPT에게 친절하게 답변해 주는 초등선생이라는 역할을 부여"
      ],
      "metadata": {
        "id": "yOOqKTGi5UeL"
      }
    },
    {
      "cell_type": "code",
      "source": [
        "response = openai.ChatCompletion.create(\n",
        "  model='gpt-3.5-turbo',\n",
        "  messages=[\n",
        "         {\"role\": \"user\", \"content\": \"너는 초등학교 선생님이야. 초등학생들도 알수있게 설명해줘\"},\n",
        "         {\"role\": \"user\", \"content\": \"2020년 월드시리즈에서는 누가 우승했어? \"}\n",
        "    ]\n",
        ")\n",
        "response['choices'][0]['message']['content']"
      ],
      "metadata": {
        "colab": {
          "base_uri": "https://localhost:8080/",
          "height": 127
        },
        "id": "CDLiIfHj5Wy8",
        "outputId": "406f0805-2a42-4b20-b606-888fd88b8788"
      },
      "execution_count": 22,
      "outputs": [
        {
          "output_type": "execute_result",
          "data": {
            "text/plain": [
              "'안녕하세요! 저는 인공지능 챗봇입니다. 초등학생들을 위해 2020년 월드시리즈에 대해 설명해드릴게요.\\n\\n2020년 월드시리즈에서는 로스앤젤레스 다저스(Los Angeles Dodgers)라는 야구팀이 우승을 차지했어요. 월드시리즈는 미국 메이저리그 야구에서 매년 열리는 일종의 토너먼트로, 아메리카 리그 우승팀과 내셔널리그 우승팀이 서로 경기를 하는 대결이에요.\\n\\n2020년 월드시리즈에서는 다저스가 탬파베이 레이스(Tampa Bay Rays)와의 경기에서 4승 2패로 이기고 우승을 차지했어요. 다저스는 이번 우승으로 1988년 이후 32년 만에 월드시리즈 우승을 차지한 것이기도 해요.\\n\\n포인트로 이야기하자면, 2020년 월드시리즈 우승은 로스앤젤레스 다저스입니다. 다저스는 탬파베이 레이스와의 대결에서 4승 2패로 이겨서 우승을 차지했어요. \\n\\n초등학생들이 이해하기 쉽도록 설명해봤는데요, 더 궁금한 점이 있으면 언제든지 물어보세요! 저는 당신의 질문에 최대한 알맞게 대답해드릴게요.'"
            ],
            "application/vnd.google.colaboratory.intrinsic+json": {
              "type": "string"
            }
          },
          "metadata": {},
          "execution_count": 22
        }
      ]
    },
    {
      "cell_type": "code",
      "source": [
        "response = openai.ChatCompletion.create(\n",
        "  model='gpt-3.5-turbo',\n",
        "  messages=[\n",
        "         {\"role\": \"user\", \"content\": \"You are a chatbot that answers questions in English even in korean\"},\n",
        "         {\"role\": \"user\", \"content\": \"2020년 월드시리즈에서는 누가 우승했어? \"}\n",
        "    ]\n",
        ")\n",
        "print(response['choices'][0]['message']['content'])"
      ],
      "metadata": {
        "colab": {
          "base_uri": "https://localhost:8080/"
        },
        "id": "JE92wGZj5ygs",
        "outputId": "d72f9406-e6e0-44d1-cb2f-7098463235c2"
      },
      "execution_count": 31,
      "outputs": [
        {
          "output_type": "stream",
          "name": "stdout",
          "text": [
            "The Los Angeles Dodgers won the 2020 World Series.\n"
          ]
        }
      ]
    },
    {
      "cell_type": "code",
      "source": [
        "response = openai.ChatCompletion.create(\n",
        "  model='gpt-3.5-turbo',\n",
        "  messages=[\n",
        "         {\"role\": \"user\", \"content\": \"You are a chatbot that refuses to answer and says sorry when users ask questions.\"},\n",
        "         {\"role\": \"user\", \"content\": \"2020년 월드시리즈에서는 누가 우승했어? \"}\n",
        "    ]\n",
        ")\n",
        "print(response['choices'][0]['message']['content'])\n"
      ],
      "metadata": {
        "colab": {
          "base_uri": "https://localhost:8080/"
        },
        "id": "-a9SqBa061ck",
        "outputId": "807f0ea3-55de-498d-a341-3370d0b9b513"
      },
      "execution_count": 33,
      "outputs": [
        {
          "output_type": "stream",
          "name": "stdout",
          "text": [
            "Sorry, but I am unable to provide an answer to your question.\n"
          ]
        }
      ]
    },
    {
      "cell_type": "code",
      "source": [
        "response = openai.ChatCompletion.create(\n",
        "  model='gpt-3.5-turbo',\n",
        "  messages=[\n",
        "         {\"role\": \"user\", \"content\": \"You're a chatbot that refuses to answer and says sorry when users ask questions.\"},\n",
        "         {\"role\": \"user\", \"content\": \"2020년 월드시리즈에서는 누가 우승했어? \"}\n",
        "    ]\n",
        ")\n",
        "print(response['choices'][0]['message']['content'])"
      ],
      "metadata": {
        "colab": {
          "base_uri": "https://localhost:8080/"
        },
        "id": "wrepMfyX7J1z",
        "outputId": "675405dc-7f90-410b-fc41-7fa776592637"
      },
      "execution_count": 35,
      "outputs": [
        {
          "output_type": "stream",
          "name": "stdout",
          "text": [
            "I'm sorry, but I won't be able to answer your question.\n"
          ]
        }
      ]
    },
    {
      "cell_type": "code",
      "source": [
        "response = openai.ChatCompletion.create(\n",
        "  model='gpt-3.5-turbo',\n",
        "  messages=[\n",
        "         {\"role\": \"user\", \"content\": \"You are a translator who translates user input.\"},\n",
        "         {\"role\": \"user\", \"content\": \"2020년 월드시리즈에서는 누가 우승했어? \"}\n",
        "    ]\n",
        ")\n",
        "print(response['choices'][0]['message']['content'])"
      ],
      "metadata": {
        "colab": {
          "base_uri": "https://localhost:8080/"
        },
        "id": "KfwWD6jG8Q8n",
        "outputId": "2ebf30a6-12ef-4002-8dc5-1de4331218cd"
      },
      "execution_count": 36,
      "outputs": [
        {
          "output_type": "stream",
          "name": "stdout",
          "text": [
            "Who won the World Series in 2020?\n"
          ]
        }
      ]
    },
    {
      "cell_type": "markdown",
      "source": [
        "### 3. 이전대화를 포함하여 답변하기\n",
        "\n",
        "- ChatGPT는 답변할 때 이전 질문과 답변을 모두 고려하여 답변하는 특징이 있다.\n",
        "- ChatGPT API를 이용하면 ChatGPT에게 답변을 요청할 때 '앞서 네가 이런 답변을 한 상태였다'라는 정보를 전달할 수 있다. 이것은 사용자가 가정하는 것이지만, ChatGPT는 마치 과거에 자신이 답변한 것으로 가정하고, 추가 답변을 제공한다.\n",
        "-  mesages=[ ]안에  {'role': 'user', 'content':' '}작성 후 {'role':'assistant', 'content':' '}을 추가로 작성하고, 다시 {'role':'user', 'content':' '}를 번갈아 작성하면 된다."
      ],
      "metadata": {
        "id": "YWscjHIS9I1z"
      }
    },
    {
      "cell_type": "code",
      "source": [
        "response = openai.ChatCompletion.create(\n",
        "  model='gpt-3.5-turbo',\n",
        "  messages=[\n",
        "         {\"role\": \"user\", \"content\": \"2002년 월드컵에서 가장 화제가 되었던 나라는 어디야?\"},\n",
        "         {\"role\": \"assistant\", \"content\": \"한국입니다. \"},\n",
        "         {\"role\": \"user\", \"content\": \"그 나라가 화제가 되었던 이유를 자세하게 설명해줘 \"}\n",
        "    ]\n",
        ")\n",
        "print(response['choices'][0]['message']['content'])"
      ],
      "metadata": {
        "colab": {
          "base_uri": "https://localhost:8080/"
        },
        "id": "Xk7A-cJe9LOq",
        "outputId": "6ff77aee-8620-4afb-a9cf-d61394f575fb"
      },
      "execution_count": 38,
      "outputs": [
        {
          "output_type": "stream",
          "name": "stdout",
          "text": [
            "한국은 2002년 월드컵에서 화제가 된 이유는 몇 가지가 있습니다. \n",
            "\n",
            "첫째, 한국은 이 월드컵에서 역대 최고의 성적을 거두었습니다. 이전 월드컵 대회에서는 한국이 토너먼트의 그룹 스테이지를 넘어서는 것도 드물었지만, 2002년 월드컵에서는 한국이 강한 팀들과 경기에서 승리하였고, 4강까지 진출하여 엄청난 기록을 세웠습니다. 이러한 성과는 한국 사회에서 큰 관심을 받았고, 전국적인 열기와 기대감을 일으켰습니다.\n",
            "\n",
            "둘째, 한국의 홍보와 조직력도 이번 월드컵에서 큰 관심을 받았습니다. 한국은 월드컵을 성공적으로 개최하기 위해 많은 노력을 기울였습니다. 좋은 경기장과 기반시설을 마련하고, 훌륭한 조직력을 보여주었습니다. 또한, 한국은 \"트라이얼 바이 아카이어\"라는 월드컵 공식 음악을 선보이기도 하였고, 국가 이미지와 문화를 알리는 기회로 활용하였습니다.\n",
            "\n",
            "셋째, 한국의 열정적인 응원문화가 월드컵에서 주목받았습니다. 한국인들은 월드컵에서 자국 대표팀의 경기를 응원하기 위해 끊임없이 노력했습니다. 많은 사람들이 붉은 투구를 쓰고, 응원 노래를 부르며 경기장을 가득 메웠습니다. 이러한 열정적인 응원은 선수들에게 큰 힘이 되었고, 월드컵 관중들의 관심을 끌었습니다.\n",
            "\n",
            "이러한 이유들로 인해 한국은 2002년 월드컵에서 가장 화제가 된 나라 중 하나로 꼽히게 되었습니다. 이번 월드컵은 한국에게 큰 자부심과 전 세계에 한국의 대한 이미지를 확립시키는 계기가 되었습니다.\n"
          ]
        }
      ]
    },
    {
      "cell_type": "code",
      "source": [
        "import openai\n",
        "openai.api_key = 'key'\n",
        "\n",
        "response = openai.ChatCompletion.create(\n",
        "  model=\"gpt-3.5-turbo\",\n",
        "  messages=[{\"role\": \"user\", \"content\": \"인공지능에 대해서 알려줘 \"}],\n",
        "  temperature=0,\n",
        "  max_tokens=500\n",
        ")\n",
        "\n",
        "print(print(response['choices'][0]['message']['content']))\n"
      ],
      "metadata": {
        "colab": {
          "base_uri": "https://localhost:8080/"
        },
        "id": "TVOzdo_WDu6N",
        "outputId": "93bd8113-273f-4f1d-a852-ca19994eeb6b"
      },
      "execution_count": 40,
      "outputs": [
        {
          "output_type": "stream",
          "name": "stdout",
          "text": [
            "인공지능(Artificial Intelligence, AI)은 인간의 지능을 모방하거나 대체하기 위해 개발된 컴퓨터 시스템이나 소프트웨어를 말합니다. 인공지능은 사람과 같은 학습, 추론, 문제 해결, 의사 결정 등의 인지 능력을 갖추고 있으며, 다양한 분야에서 활용됩니다.\n",
            "\n",
            "인공지능은 크게 약한 인공지능과 강한 인공지능으로 나뉩니다. 약한 인공지능은 특정한 작업을 수행하는 데에만 특화된 인공지능을 의미하며, 예를 들어 음성 인식, 언어 번역, 이미지 분석 등이 있습니다. 이러한 약한 인공지능은 이미 우리 주변에서 많이 사용되고 있습니다.\n",
            "\n",
            "강한 인공지능은 인간과 거의 동일한 수준의 지능을 가진 인공지능을 의미합니다. 이러한 인공지능은 사고, 학습, 창의성 등 다양한 인간적인 능력을 가지고 있으며, 인간과 같은 복잡한 작업을 수행할 수 있습니다. 하지만 현재로서는 아직까지 강한 인공지능은 개발되지 않았습니다.\n",
            "\n",
            "인공지능은 머신러닝(Machine Learning)과 딥러닝(Deep Learning) 등의 기술을 기반으로 동작합니다. 머신러닝은 데이터를 학습하여 패턴을 파악하고 예측하는 기술이며, 딥러닝은 인공신경망을 사용하여 복잡한 문제를 해결하는 기술입니다.\n",
            "\n",
            "인공지능은 이미 우리 생\n",
            "None\n"
          ]
        }
      ]
    },
    {
      "cell_type": "markdown",
      "source": [
        "번역하기 (나는 사람이다)"
      ],
      "metadata": {
        "id": "NG6dqVT9EZ-l"
      }
    },
    {
      "cell_type": "code",
      "source": [
        "import openai\n",
        "openai.api_key = 'key'\n",
        "\n",
        "prompt = ''' 한국어를 영어로 번역해줘\n",
        "              한국어 : 나는 사람이다.\n",
        "              영어:'''\n",
        "\n",
        "\n",
        "response = openai.ChatCompletion.create(\n",
        "  model=\"gpt-3.5-turbo\",\n",
        "  #messages=[{\"role\": \"user\", \"content\": \"인공지능에 대해서 알려줘 \"}],\n",
        "  messages=[{\"role\": \"user\", \"content\": prompt}],\n",
        "  temperature=0,\n",
        "  max_tokens=500\n",
        ")\n",
        "\n",
        "print(print(response['choices'][0]['message']['content']))"
      ],
      "metadata": {
        "colab": {
          "base_uri": "https://localhost:8080/"
        },
        "id": "G6Gze8RVEdsf",
        "outputId": "223e4b21-5cf5-4217-bcaf-ac02edeae037"
      },
      "execution_count": 44,
      "outputs": [
        {
          "output_type": "stream",
          "name": "stdout",
          "text": [
            "I am a person.\n",
            "None\n"
          ]
        }
      ]
    },
    {
      "cell_type": "markdown",
      "source": [
        "프로그램 생성"
      ],
      "metadata": {
        "id": "docpfY1lFuOk"
      }
    },
    {
      "cell_type": "code",
      "source": [
        "import openai\n",
        "openai.api_key = 'key'\n",
        "\n",
        "prompt = 'sklearn에서 제공해주는 iris 데이터셋을 이용해서 정확도를 구해서 분석하는 프로그램을 파이썬으로 구현해줘'\n",
        "\n",
        "\n",
        "response = openai.ChatCompletion.create(\n",
        "  model=\"gpt-3.5-turbo\",\n",
        "  messages=[{\"role\": \"user\", \"content\": prompt}],\n",
        "  temperature=0,\n",
        "  max_tokens=500\n",
        ")\n",
        "\n",
        "print(print(response['choices'][0]['message']['content']))"
      ],
      "metadata": {
        "colab": {
          "base_uri": "https://localhost:8080/"
        },
        "id": "2bChNswlFtWc",
        "outputId": "345e98e5-9acf-4b15-9b7e-911051fc80e0"
      },
      "execution_count": 49,
      "outputs": [
        {
          "output_type": "stream",
          "name": "stdout",
          "text": [
            "아래는 sklearn에서 제공하는 iris 데이터셋을 이용하여 정확도를 구하는 파이썬 프로그램입니다.\n",
            "\n",
            "```python\n",
            "from sklearn.datasets import load_iris\n",
            "from sklearn.model_selection import train_test_split\n",
            "from sklearn.neighbors import KNeighborsClassifier\n",
            "from sklearn.metrics import accuracy_score\n",
            "\n",
            "# iris 데이터셋 로드\n",
            "iris = load_iris()\n",
            "\n",
            "# 특성 데이터와 타겟 데이터 분리\n",
            "X = iris.data\n",
            "y = iris.target\n",
            "\n",
            "# 훈련 데이터와 테스트 데이터 분리\n",
            "X_train, X_test, y_train, y_test = train_test_split(X, y, test_size=0.2, random_state=42)\n",
            "\n",
            "# KNN 분류기 모델 생성\n",
            "knn = KNeighborsClassifier()\n",
            "\n",
            "# 모델 훈련\n",
            "knn.fit(X_train, y_train)\n",
            "\n",
            "# 테스트 데이터로 예측\n",
            "y_pred = knn.predict(X_test)\n",
            "\n",
            "# 정확도 계산\n",
            "accuracy = accuracy_score(y_test, y_pred)\n",
            "\n",
            "# 결과 출력\n",
            "print(\"정확도:\", accuracy)\n",
            "```\n",
            "\n",
            "위의 코드를 실행하면 iris 데이터셋을 로드하고, 훈련 데이터와 테스트 데이터로 분리한 후 KNN 분류기 모델을 생성하고 훈련시킨 뒤, 테스트 데이터로 예측을 수행합니다. 마지막으로 예측 결과와 실제 타겟 데이터를 비교하여 정확도를 계산하고 출력합니다.\n",
            "None\n"
          ]
        }
      ]
    },
    {
      "cell_type": "code",
      "source": [
        "from sklearn.datasets import load_iris\n",
        "from sklearn.model_selection import train_test_split\n",
        "from sklearn.neighbors import KNeighborsClassifier\n",
        "from sklearn.metrics import accuracy_score\n",
        "\n",
        "# iris 데이터셋 로드\n",
        "iris = load_iris()\n",
        "\n",
        "# 특성 데이터와 타겟 데이터 분리\n",
        "X = iris.data\n",
        "y = iris.target\n",
        "\n",
        "# 훈련 데이터와 테스트 데이터 분리\n",
        "X_train, X_test, y_train, y_test = train_test_split(X, y, test_size=0.2, random_state=42)\n",
        "\n",
        "# KNN 분류기 모델 생성\n",
        "knn = KNeighborsClassifier()\n",
        "\n",
        "# 모델 훈련\n",
        "knn.fit(X_train, y_train)\n",
        "\n",
        "# 테스트 데이터로 예측\n",
        "y_pred = knn.predict(X_test)\n",
        "\n",
        "# 정확도 계산\n",
        "accuracy = accuracy_score(y_test, y_pred)\n",
        "\n",
        "# 결과 출력\n",
        "print(\"정확도:\", accuracy)"
      ],
      "metadata": {
        "colab": {
          "base_uri": "https://localhost:8080/"
        },
        "id": "5RrNtoe6Hsu0",
        "outputId": "4b5e5af9-ca01-4d25-c705-51896ab2f187"
      },
      "execution_count": 50,
      "outputs": [
        {
          "output_type": "stream",
          "name": "stdout",
          "text": [
            "정확도: 1.0\n"
          ]
        }
      ]
    },
    {
      "cell_type": "markdown",
      "source": [
        "data 변수에 저장된 문자열의 길이를 구하는 프로그램을 자바로 구현해줘"
      ],
      "metadata": {
        "id": "v1bX2VJLIK3d"
      }
    },
    {
      "cell_type": "code",
      "source": [
        "import openai\n",
        "openai.api_key = 'key'\n",
        "\n",
        "prompt = 'data 변수에 저장된 문자열의 길이를 구하는 프로그램을 자바로 구현해줘 '\n",
        "\n",
        "\n",
        "response = openai.ChatCompletion.create(\n",
        "  model=\"gpt-3.5-turbo\",\n",
        "  messages=[{\"role\": \"user\", \"content\": prompt}],\n",
        "  temperature=0,\n",
        "  max_tokens=500\n",
        ")\n",
        "\n",
        "print(print(response['choices'][0]['message']['content']))"
      ],
      "metadata": {
        "colab": {
          "base_uri": "https://localhost:8080/"
        },
        "id": "vkgpEiKgIC7c",
        "outputId": "4e8208cf-14e6-4113-ccb0-f58fb8d8d9bc"
      },
      "execution_count": 52,
      "outputs": [
        {
          "output_type": "stream",
          "name": "stdout",
          "text": [
            "아래는 data 변수에 저장된 문자열의 길이를 구하는 자바 프로그램입니다.\n",
            "\n",
            "```java\n",
            "public class Main {\n",
            "    public static void main(String[] args) {\n",
            "        String data = \"Hello, World!\";\n",
            "        int length = data.length();\n",
            "        System.out.println(\"문자열의 길이: \" + length);\n",
            "    }\n",
            "}\n",
            "```\n",
            "\n",
            "위 프로그램을 실행하면 \"문자열의 길이: 13\"이 출력됩니다.\n",
            "None\n"
          ]
        }
      ]
    },
    {
      "cell_type": "markdown",
      "source": [
        "자바와 오라클을 연동해서 오라클의 employees의 데이터를 자바에서 가져와서 출력해주는 프로그램을 구현해줘"
      ],
      "metadata": {
        "id": "O-4hw0FCI69F"
      }
    },
    {
      "cell_type": "code",
      "source": [
        "import openai\n",
        "openai.api_key = 'key'\n",
        "\n",
        "prompt = '자바와 오라클을 연동해서 오라클의 employees의 데이터를 자바에서 가져와서 출력해주는 프로그램을 구현해줘 '\n",
        "\n",
        "\n",
        "response = openai.ChatCompletion.create(\n",
        "  model=\"gpt-3.5-turbo\",\n",
        "  messages=[{\"role\": \"user\", \"content\": prompt}],\n",
        "  temperature=0,\n",
        "  max_tokens=500\n",
        ")\n",
        "\n",
        "print(print(response['choices'][0]['message']['content']))"
      ],
      "metadata": {
        "colab": {
          "base_uri": "https://localhost:8080/"
        },
        "id": "FuaDUPV1JCPV",
        "outputId": "5f7bb2f0-cc7c-45f8-978b-1df209507a29"
      },
      "execution_count": 53,
      "outputs": [
        {
          "output_type": "stream",
          "name": "stdout",
          "text": [
            "아래는 자바와 오라클을 연동하여 employees 테이블의 데이터를 가져와서 출력하는 예제입니다.\n",
            "\n",
            "```java\n",
            "import java.sql.*;\n",
            "\n",
            "public class OracleConnectionExample {\n",
            "    public static void main(String[] args) {\n",
            "        // 오라클 데이터베이스 연결 정보\n",
            "        String url = \"jdbc:oracle:thin:@localhost:1521:xe\";\n",
            "        String username = \"사용자명\";\n",
            "        String password = \"비밀번호\";\n",
            "\n",
            "        // JDBC 드라이버 로드\n",
            "        try {\n",
            "            Class.forName(\"oracle.jdbc.driver.OracleDriver\");\n",
            "        } catch (ClassNotFoundException e) {\n",
            "            e.printStackTrace();\n",
            "        }\n",
            "\n",
            "        // 데이터베이스 연결\n",
            "        try (Connection conn = DriverManager.getConnection(url, username, password)) {\n",
            "            // SQL 쿼리 작성\n",
            "            String sql = \"SELECT * FROM employees\";\n",
            "\n",
            "            // SQL 쿼리 실행\n",
            "            try (Statement stmt = conn.createStatement();\n",
            "                 ResultSet rs = stmt.executeQuery(sql)) {\n",
            "                // 결과 출력\n",
            "                while (rs.next()) {\n",
            "                    int employeeId = rs.getInt(\"employee_id\");\n",
            "                    String firstName = rs.getString(\"first_name\");\n",
            "                    String lastName = rs.getString(\"last_name\");\n",
            "                    Date hireDate = rs.getDate(\"hire_date\");\n",
            "                    double salary = rs.getDouble(\"salary\");\n",
            "\n",
            "                    System.out.println(\"Employee ID: \" + employeeId);\n",
            "                    System.out.println(\"First Name: \" + firstName);\n",
            "                    System.out.println(\"Last Name: \" + lastName);\n",
            "                    System.out.println(\"Hire Date: \" + hireDate);\n",
            "                    System.out.println(\"Salary: \" + salary);\n",
            "                    System.out.println();\n",
            "                }\n",
            "            }\n",
            "        } catch (SQLException e) {\n",
            "            e.printStackTrace();\n",
            "        }\n",
            "    }\n",
            "}\n",
            "```\n",
            "\n",
            "위의 예제에서는 오라클 데이터베이스에 연결하기 위해 `url`, `username`, `password` 변수를 설정하고, `Class.forName()` 메소드를 사용하여 JDBC 드라이버를 로드합니다. 그 후 `DriverManager.getConnection()` 메소드를 사용하여 데이터베이스에 연결합니다.\n",
            "\n",
            "연결이 성공하면 SQL 쿼리를 작성하고 `conn.createStatement()` 메소드를 사용하여 `Statement` 객체를 생성합니다. `stmt.executeQuery()` 메소드를 사용하여\n",
            "None\n"
          ]
        }
      ]
    }
  ]
}