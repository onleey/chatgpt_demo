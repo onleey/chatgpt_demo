{
  "nbformat": 4,
  "nbformat_minor": 0,
  "metadata": {
    "colab": {
      "provenance": [],
      "authorship_tag": "ABX9TyMsuIwgNz5zPSdmzblxqxUr",
      "include_colab_link": true
    },
    "kernelspec": {
      "name": "python3",
      "display_name": "Python 3"
    },
    "language_info": {
      "name": "python"
    }
  },
  "cells": [
    {
      "cell_type": "markdown",
      "metadata": {
        "id": "view-in-github",
        "colab_type": "text"
      },
      "source": [
        "<a href=\"https://colab.research.google.com/github/onleey/chatgpt_demo/blob/master/007_LangchainChatbot_FAQ.ipynb\" target=\"_parent\"><img src=\"https://colab.research.google.com/assets/colab-badge.svg\" alt=\"Open In Colab\"/></a>"
      ]
    },
    {
      "cell_type": "markdown",
      "source": [
        "##여러문서에서 찾아서 답변하는 챗봇 만들기"
      ],
      "metadata": {
        "id": "NYlIZFQn7c6o"
      }
    },
    {
      "cell_type": "markdown",
      "source": [
        "-랭체인(langchain)이란? ChatGPT와 같은 대규모 언어 모델을 사용하여\n",
        "애플리케이션을 쉽게 생성할 수 있도록 설계된 프레임 워크이다.  \n",
        "-랭체인이 도움이 되는 경우는 LLM에 외부의 '지식'이나 '계산능력'을 활용하게 하고 싶을 때이다.  \n",
        "-자신이 학습만으로 대화하던 LLM에게 '책'이나 '프로그램'을 전달해서 외부의 '지식'이나 '계산능력'을 활용할 수 있게 하는 것이 랭체인의 역할이다.   \n",
        "-예를들어, 랭체인으로 LLM에 웹 검색 기능을 연결하면 LLM은 자신이 가진 지식만으로는 충분한 답변을 할 수 없는 경우에 웹 검색을 통해 최신 정보를 얻고 답변 할 수 있게 된다.   "
      ],
      "metadata": {
        "id": "7muUYHoj7hl3"
      }
    },
    {
      "cell_type": "code",
      "execution_count": null,
      "metadata": {
        "colab": {
          "base_uri": "https://localhost:8080/"
        },
        "id": "fyfHs7Vk6uME",
        "outputId": "0632e22d-5ec2-4106-ba4c-53f251f8e9e6"
      },
      "outputs": [
        {
          "output_type": "stream",
          "name": "stdout",
          "text": [
            "Mounted at /content/drive\n",
            "/content/drive/MyDrive/001\n"
          ]
        }
      ],
      "source": [
        "from google.colab import drive\n",
        "drive.mount('/content/drive')\n",
        "\n",
        "%cd '/content/drive/MyDrive/001'"
      ]
    },
    {
      "cell_type": "code",
      "source": [
        "!pip install langchain openai==0.28.1 tiktoken chromadb"
      ],
      "metadata": {
        "colab": {
          "base_uri": "https://localhost:8080/"
        },
        "id": "-UGZvKDq6zMf",
        "outputId": "08043043-73fd-402e-bd6d-be47aea87d67"
      },
      "execution_count": null,
      "outputs": [
        {
          "output_type": "stream",
          "name": "stdout",
          "text": [
            "Collecting langchain\n",
            "  Downloading langchain-0.0.354-py3-none-any.whl (803 kB)\n",
            "\u001b[2K     \u001b[90m━━━━━━━━━━━━━━━━━━━━━━━━━━━━━━━━━━━━━━━━\u001b[0m \u001b[32m803.3/803.3 kB\u001b[0m \u001b[31m7.9 MB/s\u001b[0m eta \u001b[36m0:00:00\u001b[0m\n",
            "\u001b[?25hCollecting openai==0.28.1\n",
            "  Downloading openai-0.28.1-py3-none-any.whl (76 kB)\n",
            "\u001b[2K     \u001b[90m━━━━━━━━━━━━━━━━━━━━━━━━━━━━━━━━━━━━━━━━\u001b[0m \u001b[32m77.0/77.0 kB\u001b[0m \u001b[31m9.3 MB/s\u001b[0m eta \u001b[36m0:00:00\u001b[0m\n",
            "\u001b[?25hCollecting tiktoken\n",
            "  Downloading tiktoken-0.5.2-cp310-cp310-manylinux_2_17_x86_64.manylinux2014_x86_64.whl (2.0 MB)\n",
            "\u001b[2K     \u001b[90m━━━━━━━━━━━━━━━━━━━━━━━━━━━━━━━━━━━━━━━━\u001b[0m \u001b[32m2.0/2.0 MB\u001b[0m \u001b[31m22.1 MB/s\u001b[0m eta \u001b[36m0:00:00\u001b[0m\n",
            "\u001b[?25hCollecting chromadb\n",
            "  Downloading chromadb-0.4.22-py3-none-any.whl (509 kB)\n",
            "\u001b[2K     \u001b[90m━━━━━━━━━━━━━━━━━━━━━━━━━━━━━━━━━━━━━━━━\u001b[0m \u001b[32m509.0/509.0 kB\u001b[0m \u001b[31m24.8 MB/s\u001b[0m eta \u001b[36m0:00:00\u001b[0m\n",
            "\u001b[?25hRequirement already satisfied: requests>=2.20 in /usr/local/lib/python3.10/dist-packages (from openai==0.28.1) (2.31.0)\n",
            "Requirement already satisfied: tqdm in /usr/local/lib/python3.10/dist-packages (from openai==0.28.1) (4.66.1)\n",
            "Requirement already satisfied: aiohttp in /usr/local/lib/python3.10/dist-packages (from openai==0.28.1) (3.9.1)\n",
            "Requirement already satisfied: PyYAML>=5.3 in /usr/local/lib/python3.10/dist-packages (from langchain) (6.0.1)\n",
            "Requirement already satisfied: SQLAlchemy<3,>=1.4 in /usr/local/lib/python3.10/dist-packages (from langchain) (2.0.23)\n",
            "Requirement already satisfied: async-timeout<5.0.0,>=4.0.0 in /usr/local/lib/python3.10/dist-packages (from langchain) (4.0.3)\n",
            "Collecting dataclasses-json<0.7,>=0.5.7 (from langchain)\n",
            "  Downloading dataclasses_json-0.6.3-py3-none-any.whl (28 kB)\n",
            "Collecting jsonpatch<2.0,>=1.33 (from langchain)\n",
            "  Downloading jsonpatch-1.33-py2.py3-none-any.whl (12 kB)\n",
            "Collecting langchain-community<0.1,>=0.0.8 (from langchain)\n",
            "  Downloading langchain_community-0.0.8-py3-none-any.whl (1.5 MB)\n",
            "\u001b[2K     \u001b[90m━━━━━━━━━━━━━━━━━━━━━━━━━━━━━━━━━━━━━━━━\u001b[0m \u001b[32m1.5/1.5 MB\u001b[0m \u001b[31m36.2 MB/s\u001b[0m eta \u001b[36m0:00:00\u001b[0m\n",
            "\u001b[?25hCollecting langchain-core<0.2,>=0.1.5 (from langchain)\n",
            "  Downloading langchain_core-0.1.5-py3-none-any.whl (205 kB)\n",
            "\u001b[2K     \u001b[90m━━━━━━━━━━━━━━━━━━━━━━━━━━━━━━━━━━━━━━━━\u001b[0m \u001b[32m205.3/205.3 kB\u001b[0m \u001b[31m22.7 MB/s\u001b[0m eta \u001b[36m0:00:00\u001b[0m\n",
            "\u001b[?25hCollecting langsmith<0.1.0,>=0.0.77 (from langchain)\n",
            "  Downloading langsmith-0.0.77-py3-none-any.whl (48 kB)\n",
            "\u001b[2K     \u001b[90m━━━━━━━━━━━━━━━━━━━━━━━━━━━━━━━━━━━━━━━━\u001b[0m \u001b[32m48.2/48.2 kB\u001b[0m \u001b[31m5.8 MB/s\u001b[0m eta \u001b[36m0:00:00\u001b[0m\n",
            "\u001b[?25hRequirement already satisfied: numpy<2,>=1 in /usr/local/lib/python3.10/dist-packages (from langchain) (1.23.5)\n",
            "Requirement already satisfied: pydantic<3,>=1 in /usr/local/lib/python3.10/dist-packages (from langchain) (1.10.13)\n",
            "Requirement already satisfied: tenacity<9.0.0,>=8.1.0 in /usr/local/lib/python3.10/dist-packages (from langchain) (8.2.3)\n",
            "Requirement already satisfied: regex>=2022.1.18 in /usr/local/lib/python3.10/dist-packages (from tiktoken) (2023.6.3)\n",
            "Requirement already satisfied: build>=1.0.3 in /usr/local/lib/python3.10/dist-packages (from chromadb) (1.0.3)\n",
            "Collecting chroma-hnswlib==0.7.3 (from chromadb)\n",
            "  Downloading chroma_hnswlib-0.7.3-cp310-cp310-manylinux_2_17_x86_64.manylinux2014_x86_64.whl (2.4 MB)\n",
            "\u001b[2K     \u001b[90m━━━━━━━━━━━━━━━━━━━━━━━━━━━━━━━━━━━━━━━━\u001b[0m \u001b[32m2.4/2.4 MB\u001b[0m \u001b[31m44.9 MB/s\u001b[0m eta \u001b[36m0:00:00\u001b[0m\n",
            "\u001b[?25hCollecting fastapi>=0.95.2 (from chromadb)\n",
            "  Downloading fastapi-0.108.0-py3-none-any.whl (92 kB)\n",
            "\u001b[2K     \u001b[90m━━━━━━━━━━━━━━━━━━━━━━━━━━━━━━━━━━━━━━━━\u001b[0m \u001b[32m92.0/92.0 kB\u001b[0m \u001b[31m10.9 MB/s\u001b[0m eta \u001b[36m0:00:00\u001b[0m\n",
            "\u001b[?25hCollecting uvicorn[standard]>=0.18.3 (from chromadb)\n",
            "  Downloading uvicorn-0.25.0-py3-none-any.whl (60 kB)\n",
            "\u001b[2K     \u001b[90m━━━━━━━━━━━━━━━━━━━━━━━━━━━━━━━━━━━━━━━━\u001b[0m \u001b[32m60.3/60.3 kB\u001b[0m \u001b[31m7.1 MB/s\u001b[0m eta \u001b[36m0:00:00\u001b[0m\n",
            "\u001b[?25hCollecting posthog>=2.4.0 (from chromadb)\n",
            "  Downloading posthog-3.1.0-py2.py3-none-any.whl (37 kB)\n",
            "Requirement already satisfied: typing-extensions>=4.5.0 in /usr/local/lib/python3.10/dist-packages (from chromadb) (4.5.0)\n",
            "Collecting pulsar-client>=3.1.0 (from chromadb)\n",
            "  Downloading pulsar_client-3.4.0-cp310-cp310-manylinux_2_17_x86_64.manylinux2014_x86_64.whl (5.4 MB)\n",
            "\u001b[2K     \u001b[90m━━━━━━━━━━━━━━━━━━━━━━━━━━━━━━━━━━━━━━━━\u001b[0m \u001b[32m5.4/5.4 MB\u001b[0m \u001b[31m62.4 MB/s\u001b[0m eta \u001b[36m0:00:00\u001b[0m\n",
            "\u001b[?25hCollecting onnxruntime>=1.14.1 (from chromadb)\n",
            "  Downloading onnxruntime-1.16.3-cp310-cp310-manylinux_2_17_x86_64.manylinux2014_x86_64.whl (6.4 MB)\n",
            "\u001b[2K     \u001b[90m━━━━━━━━━━━━━━━━━━━━━━━━━━━━━━━━━━━━━━━━\u001b[0m \u001b[32m6.4/6.4 MB\u001b[0m \u001b[31m63.8 MB/s\u001b[0m eta \u001b[36m0:00:00\u001b[0m\n",
            "\u001b[?25hCollecting opentelemetry-api>=1.2.0 (from chromadb)\n",
            "  Downloading opentelemetry_api-1.22.0-py3-none-any.whl (57 kB)\n",
            "\u001b[2K     \u001b[90m━━━━━━━━━━━━━━━━━━━━━━━━━━━━━━━━━━━━━━━━\u001b[0m \u001b[32m57.9/57.9 kB\u001b[0m \u001b[31m6.9 MB/s\u001b[0m eta \u001b[36m0:00:00\u001b[0m\n",
            "\u001b[?25hCollecting opentelemetry-exporter-otlp-proto-grpc>=1.2.0 (from chromadb)\n",
            "  Downloading opentelemetry_exporter_otlp_proto_grpc-1.22.0-py3-none-any.whl (18 kB)\n",
            "Collecting opentelemetry-instrumentation-fastapi>=0.41b0 (from chromadb)\n",
            "  Downloading opentelemetry_instrumentation_fastapi-0.43b0-py3-none-any.whl (11 kB)\n",
            "Collecting opentelemetry-sdk>=1.2.0 (from chromadb)\n",
            "  Downloading opentelemetry_sdk-1.22.0-py3-none-any.whl (105 kB)\n",
            "\u001b[2K     \u001b[90m━━━━━━━━━━━━━━━━━━━━━━━━━━━━━━━━━━━━━━━━\u001b[0m \u001b[32m105.6/105.6 kB\u001b[0m \u001b[31m14.3 MB/s\u001b[0m eta \u001b[36m0:00:00\u001b[0m\n",
            "\u001b[?25hRequirement already satisfied: tokenizers>=0.13.2 in /usr/local/lib/python3.10/dist-packages (from chromadb) (0.15.0)\n",
            "Collecting pypika>=0.48.9 (from chromadb)\n",
            "  Downloading PyPika-0.48.9.tar.gz (67 kB)\n",
            "\u001b[2K     \u001b[90m━━━━━━━━━━━━━━━━━━━━━━━━━━━━━━━━━━━━━━━━\u001b[0m \u001b[32m67.3/67.3 kB\u001b[0m \u001b[31m9.1 MB/s\u001b[0m eta \u001b[36m0:00:00\u001b[0m\n",
            "\u001b[?25h  Installing build dependencies ... \u001b[?25l\u001b[?25hdone\n",
            "  Getting requirements to build wheel ... \u001b[?25l\u001b[?25hdone\n",
            "  Preparing metadata (pyproject.toml) ... \u001b[?25l\u001b[?25hdone\n",
            "Collecting overrides>=7.3.1 (from chromadb)\n",
            "  Downloading overrides-7.4.0-py3-none-any.whl (17 kB)\n",
            "Requirement already satisfied: importlib-resources in /usr/local/lib/python3.10/dist-packages (from chromadb) (6.1.1)\n",
            "Requirement already satisfied: grpcio>=1.58.0 in /usr/local/lib/python3.10/dist-packages (from chromadb) (1.60.0)\n",
            "Collecting bcrypt>=4.0.1 (from chromadb)\n",
            "  Downloading bcrypt-4.1.2-cp39-abi3-manylinux_2_28_x86_64.whl (698 kB)\n",
            "\u001b[2K     \u001b[90m━━━━━━━━━━━━━━━━━━━━━━━━━━━━━━━━━━━━━━━━\u001b[0m \u001b[32m698.9/698.9 kB\u001b[0m \u001b[31m28.4 MB/s\u001b[0m eta \u001b[36m0:00:00\u001b[0m\n",
            "\u001b[?25hRequirement already satisfied: typer>=0.9.0 in /usr/local/lib/python3.10/dist-packages (from chromadb) (0.9.0)\n",
            "Collecting kubernetes>=28.1.0 (from chromadb)\n",
            "  Downloading kubernetes-28.1.0-py2.py3-none-any.whl (1.6 MB)\n",
            "\u001b[2K     \u001b[90m━━━━━━━━━━━━━━━━━━━━━━━━━━━━━━━━━━━━━━━━\u001b[0m \u001b[32m1.6/1.6 MB\u001b[0m \u001b[31m29.7 MB/s\u001b[0m eta \u001b[36m0:00:00\u001b[0m\n",
            "\u001b[?25hCollecting mmh3>=4.0.1 (from chromadb)\n",
            "  Downloading mmh3-4.0.1-cp310-cp310-manylinux_2_5_x86_64.manylinux1_x86_64.manylinux_2_17_x86_64.manylinux2014_x86_64.whl (72 kB)\n",
            "\u001b[2K     \u001b[90m━━━━━━━━━━━━━━━━━━━━━━━━━━━━━━━━━━━━━━━━\u001b[0m \u001b[32m72.6/72.6 kB\u001b[0m \u001b[31m10.3 MB/s\u001b[0m eta \u001b[36m0:00:00\u001b[0m\n",
            "\u001b[?25hRequirement already satisfied: attrs>=17.3.0 in /usr/local/lib/python3.10/dist-packages (from aiohttp->openai==0.28.1) (23.1.0)\n",
            "Requirement already satisfied: multidict<7.0,>=4.5 in /usr/local/lib/python3.10/dist-packages (from aiohttp->openai==0.28.1) (6.0.4)\n",
            "Requirement already satisfied: yarl<2.0,>=1.0 in /usr/local/lib/python3.10/dist-packages (from aiohttp->openai==0.28.1) (1.9.4)\n",
            "Requirement already satisfied: frozenlist>=1.1.1 in /usr/local/lib/python3.10/dist-packages (from aiohttp->openai==0.28.1) (1.4.1)\n",
            "Requirement already satisfied: aiosignal>=1.1.2 in /usr/local/lib/python3.10/dist-packages (from aiohttp->openai==0.28.1) (1.3.1)\n",
            "Requirement already satisfied: packaging>=19.0 in /usr/local/lib/python3.10/dist-packages (from build>=1.0.3->chromadb) (23.2)\n",
            "Requirement already satisfied: pyproject_hooks in /usr/local/lib/python3.10/dist-packages (from build>=1.0.3->chromadb) (1.0.0)\n",
            "Requirement already satisfied: tomli>=1.1.0 in /usr/local/lib/python3.10/dist-packages (from build>=1.0.3->chromadb) (2.0.1)\n",
            "Collecting marshmallow<4.0.0,>=3.18.0 (from dataclasses-json<0.7,>=0.5.7->langchain)\n",
            "  Downloading marshmallow-3.20.1-py3-none-any.whl (49 kB)\n",
            "\u001b[2K     \u001b[90m━━━━━━━━━━━━━━━━━━━━━━━━━━━━━━━━━━━━━━━━\u001b[0m \u001b[32m49.4/49.4 kB\u001b[0m \u001b[31m4.7 MB/s\u001b[0m eta \u001b[36m0:00:00\u001b[0m\n",
            "\u001b[?25hCollecting typing-inspect<1,>=0.4.0 (from dataclasses-json<0.7,>=0.5.7->langchain)\n",
            "  Downloading typing_inspect-0.9.0-py3-none-any.whl (8.8 kB)\n",
            "Collecting starlette<0.33.0,>=0.29.0 (from fastapi>=0.95.2->chromadb)\n",
            "  Downloading starlette-0.32.0.post1-py3-none-any.whl (70 kB)\n",
            "\u001b[2K     \u001b[90m━━━━━━━━━━━━━━━━━━━━━━━━━━━━━━━━━━━━━━━━\u001b[0m \u001b[32m70.0/70.0 kB\u001b[0m \u001b[31m7.2 MB/s\u001b[0m eta \u001b[36m0:00:00\u001b[0m\n",
            "\u001b[?25hCollecting typing-extensions>=4.5.0 (from chromadb)\n",
            "  Downloading typing_extensions-4.9.0-py3-none-any.whl (32 kB)\n",
            "Collecting jsonpointer>=1.9 (from jsonpatch<2.0,>=1.33->langchain)\n",
            "  Downloading jsonpointer-2.4-py2.py3-none-any.whl (7.8 kB)\n",
            "Requirement already satisfied: certifi>=14.05.14 in /usr/local/lib/python3.10/dist-packages (from kubernetes>=28.1.0->chromadb) (2023.11.17)\n",
            "Requirement already satisfied: six>=1.9.0 in /usr/local/lib/python3.10/dist-packages (from kubernetes>=28.1.0->chromadb) (1.16.0)\n",
            "Requirement already satisfied: python-dateutil>=2.5.3 in /usr/local/lib/python3.10/dist-packages (from kubernetes>=28.1.0->chromadb) (2.8.2)\n",
            "Requirement already satisfied: google-auth>=1.0.1 in /usr/local/lib/python3.10/dist-packages (from kubernetes>=28.1.0->chromadb) (2.17.3)\n",
            "Requirement already satisfied: websocket-client!=0.40.0,!=0.41.*,!=0.42.*,>=0.32.0 in /usr/local/lib/python3.10/dist-packages (from kubernetes>=28.1.0->chromadb) (1.7.0)\n",
            "Requirement already satisfied: requests-oauthlib in /usr/local/lib/python3.10/dist-packages (from kubernetes>=28.1.0->chromadb) (1.3.1)\n",
            "Requirement already satisfied: oauthlib>=3.2.2 in /usr/local/lib/python3.10/dist-packages (from kubernetes>=28.1.0->chromadb) (3.2.2)\n",
            "Collecting urllib3<2.0,>=1.24.2 (from kubernetes>=28.1.0->chromadb)\n",
            "  Downloading urllib3-1.26.18-py2.py3-none-any.whl (143 kB)\n",
            "\u001b[2K     \u001b[90m━━━━━━━━━━━━━━━━━━━━━━━━━━━━━━━━━━━━━━━━\u001b[0m \u001b[32m143.8/143.8 kB\u001b[0m \u001b[31m16.6 MB/s\u001b[0m eta \u001b[36m0:00:00\u001b[0m\n",
            "\u001b[?25hRequirement already satisfied: anyio<5,>=3 in /usr/local/lib/python3.10/dist-packages (from langchain-core<0.2,>=0.1.5->langchain) (3.7.1)\n",
            "Collecting coloredlogs (from onnxruntime>=1.14.1->chromadb)\n",
            "  Downloading coloredlogs-15.0.1-py2.py3-none-any.whl (46 kB)\n",
            "\u001b[2K     \u001b[90m━━━━━━━━━━━━━━━━━━━━━━━━━━━━━━━━━━━━━━━━\u001b[0m \u001b[32m46.0/46.0 kB\u001b[0m \u001b[31m5.6 MB/s\u001b[0m eta \u001b[36m0:00:00\u001b[0m\n",
            "\u001b[?25hRequirement already satisfied: flatbuffers in /usr/local/lib/python3.10/dist-packages (from onnxruntime>=1.14.1->chromadb) (23.5.26)\n",
            "Requirement already satisfied: protobuf in /usr/local/lib/python3.10/dist-packages (from onnxruntime>=1.14.1->chromadb) (3.20.3)\n",
            "Requirement already satisfied: sympy in /usr/local/lib/python3.10/dist-packages (from onnxruntime>=1.14.1->chromadb) (1.12)\n",
            "Collecting deprecated>=1.2.6 (from opentelemetry-api>=1.2.0->chromadb)\n",
            "  Downloading Deprecated-1.2.14-py2.py3-none-any.whl (9.6 kB)\n",
            "Collecting importlib-metadata<7.0,>=6.0 (from opentelemetry-api>=1.2.0->chromadb)\n",
            "  Downloading importlib_metadata-6.11.0-py3-none-any.whl (23 kB)\n",
            "Collecting backoff<3.0.0,>=1.10.0 (from opentelemetry-exporter-otlp-proto-grpc>=1.2.0->chromadb)\n",
            "  Downloading backoff-2.2.1-py3-none-any.whl (15 kB)\n",
            "Requirement already satisfied: googleapis-common-protos~=1.52 in /usr/local/lib/python3.10/dist-packages (from opentelemetry-exporter-otlp-proto-grpc>=1.2.0->chromadb) (1.62.0)\n",
            "Collecting opentelemetry-exporter-otlp-proto-common==1.22.0 (from opentelemetry-exporter-otlp-proto-grpc>=1.2.0->chromadb)\n",
            "  Downloading opentelemetry_exporter_otlp_proto_common-1.22.0-py3-none-any.whl (17 kB)\n",
            "Collecting opentelemetry-proto==1.22.0 (from opentelemetry-exporter-otlp-proto-grpc>=1.2.0->chromadb)\n",
            "  Downloading opentelemetry_proto-1.22.0-py3-none-any.whl (50 kB)\n",
            "\u001b[2K     \u001b[90m━━━━━━━━━━━━━━━━━━━━━━━━━━━━━━━━━━━━━━━━\u001b[0m \u001b[32m50.8/50.8 kB\u001b[0m \u001b[31m6.6 MB/s\u001b[0m eta \u001b[36m0:00:00\u001b[0m\n",
            "\u001b[?25hCollecting opentelemetry-instrumentation-asgi==0.43b0 (from opentelemetry-instrumentation-fastapi>=0.41b0->chromadb)\n",
            "  Downloading opentelemetry_instrumentation_asgi-0.43b0-py3-none-any.whl (14 kB)\n",
            "Collecting opentelemetry-instrumentation==0.43b0 (from opentelemetry-instrumentation-fastapi>=0.41b0->chromadb)\n",
            "  Downloading opentelemetry_instrumentation-0.43b0-py3-none-any.whl (28 kB)\n",
            "Collecting opentelemetry-semantic-conventions==0.43b0 (from opentelemetry-instrumentation-fastapi>=0.41b0->chromadb)\n",
            "  Downloading opentelemetry_semantic_conventions-0.43b0-py3-none-any.whl (36 kB)\n",
            "Collecting opentelemetry-util-http==0.43b0 (from opentelemetry-instrumentation-fastapi>=0.41b0->chromadb)\n",
            "  Downloading opentelemetry_util_http-0.43b0-py3-none-any.whl (6.9 kB)\n",
            "Requirement already satisfied: setuptools>=16.0 in /usr/local/lib/python3.10/dist-packages (from opentelemetry-instrumentation==0.43b0->opentelemetry-instrumentation-fastapi>=0.41b0->chromadb) (67.7.2)\n",
            "Requirement already satisfied: wrapt<2.0.0,>=1.0.0 in /usr/local/lib/python3.10/dist-packages (from opentelemetry-instrumentation==0.43b0->opentelemetry-instrumentation-fastapi>=0.41b0->chromadb) (1.14.1)\n",
            "Collecting asgiref~=3.0 (from opentelemetry-instrumentation-asgi==0.43b0->opentelemetry-instrumentation-fastapi>=0.41b0->chromadb)\n",
            "  Downloading asgiref-3.7.2-py3-none-any.whl (24 kB)\n",
            "Collecting monotonic>=1.5 (from posthog>=2.4.0->chromadb)\n",
            "  Downloading monotonic-1.6-py2.py3-none-any.whl (8.2 kB)\n",
            "Requirement already satisfied: charset-normalizer<4,>=2 in /usr/local/lib/python3.10/dist-packages (from requests>=2.20->openai==0.28.1) (3.3.2)\n",
            "Requirement already satisfied: idna<4,>=2.5 in /usr/local/lib/python3.10/dist-packages (from requests>=2.20->openai==0.28.1) (3.6)\n",
            "Requirement already satisfied: greenlet!=0.4.17 in /usr/local/lib/python3.10/dist-packages (from SQLAlchemy<3,>=1.4->langchain) (3.0.2)\n",
            "Requirement already satisfied: huggingface_hub<1.0,>=0.16.4 in /usr/local/lib/python3.10/dist-packages (from tokenizers>=0.13.2->chromadb) (0.20.1)\n",
            "Requirement already satisfied: click<9.0.0,>=7.1.1 in /usr/local/lib/python3.10/dist-packages (from typer>=0.9.0->chromadb) (8.1.7)\n",
            "Collecting h11>=0.8 (from uvicorn[standard]>=0.18.3->chromadb)\n",
            "  Downloading h11-0.14.0-py3-none-any.whl (58 kB)\n",
            "\u001b[2K     \u001b[90m━━━━━━━━━━━━━━━━━━━━━━━━━━━━━━━━━━━━━━━━\u001b[0m \u001b[32m58.3/58.3 kB\u001b[0m \u001b[31m7.5 MB/s\u001b[0m eta \u001b[36m0:00:00\u001b[0m\n",
            "\u001b[?25hCollecting httptools>=0.5.0 (from uvicorn[standard]>=0.18.3->chromadb)\n",
            "  Downloading httptools-0.6.1-cp310-cp310-manylinux_2_5_x86_64.manylinux1_x86_64.manylinux_2_17_x86_64.manylinux2014_x86_64.whl (341 kB)\n",
            "\u001b[2K     \u001b[90m━━━━━━━━━━━━━━━━━━━━━━━━━━━━━━━━━━━━━━━━\u001b[0m \u001b[32m341.4/341.4 kB\u001b[0m \u001b[31m31.4 MB/s\u001b[0m eta \u001b[36m0:00:00\u001b[0m\n",
            "\u001b[?25hCollecting python-dotenv>=0.13 (from uvicorn[standard]>=0.18.3->chromadb)\n",
            "  Downloading python_dotenv-1.0.0-py3-none-any.whl (19 kB)\n",
            "Collecting uvloop!=0.15.0,!=0.15.1,>=0.14.0 (from uvicorn[standard]>=0.18.3->chromadb)\n",
            "  Downloading uvloop-0.19.0-cp310-cp310-manylinux_2_17_x86_64.manylinux2014_x86_64.whl (3.4 MB)\n",
            "\u001b[2K     \u001b[90m━━━━━━━━━━━━━━━━━━━━━━━━━━━━━━━━━━━━━━━━\u001b[0m \u001b[32m3.4/3.4 MB\u001b[0m \u001b[31m50.9 MB/s\u001b[0m eta \u001b[36m0:00:00\u001b[0m\n",
            "\u001b[?25hCollecting watchfiles>=0.13 (from uvicorn[standard]>=0.18.3->chromadb)\n",
            "  Downloading watchfiles-0.21.0-cp310-cp310-manylinux_2_17_x86_64.manylinux2014_x86_64.whl (1.3 MB)\n",
            "\u001b[2K     \u001b[90m━━━━━━━━━━━━━━━━━━━━━━━━━━━━━━━━━━━━━━━━\u001b[0m \u001b[32m1.3/1.3 MB\u001b[0m \u001b[31m56.5 MB/s\u001b[0m eta \u001b[36m0:00:00\u001b[0m\n",
            "\u001b[?25hCollecting websockets>=10.4 (from uvicorn[standard]>=0.18.3->chromadb)\n",
            "  Downloading websockets-12.0-cp310-cp310-manylinux_2_5_x86_64.manylinux1_x86_64.manylinux_2_17_x86_64.manylinux2014_x86_64.whl (130 kB)\n",
            "\u001b[2K     \u001b[90m━━━━━━━━━━━━━━━━━━━━━━━━━━━━━━━━━━━━━━━━\u001b[0m \u001b[32m130.2/130.2 kB\u001b[0m \u001b[31m12.3 MB/s\u001b[0m eta \u001b[36m0:00:00\u001b[0m\n",
            "\u001b[?25hRequirement already satisfied: sniffio>=1.1 in /usr/local/lib/python3.10/dist-packages (from anyio<5,>=3->langchain-core<0.2,>=0.1.5->langchain) (1.3.0)\n",
            "Requirement already satisfied: exceptiongroup in /usr/local/lib/python3.10/dist-packages (from anyio<5,>=3->langchain-core<0.2,>=0.1.5->langchain) (1.2.0)\n",
            "Requirement already satisfied: cachetools<6.0,>=2.0.0 in /usr/local/lib/python3.10/dist-packages (from google-auth>=1.0.1->kubernetes>=28.1.0->chromadb) (5.3.2)\n",
            "Requirement already satisfied: pyasn1-modules>=0.2.1 in /usr/local/lib/python3.10/dist-packages (from google-auth>=1.0.1->kubernetes>=28.1.0->chromadb) (0.3.0)\n",
            "Requirement already satisfied: rsa<5,>=3.1.4 in /usr/local/lib/python3.10/dist-packages (from google-auth>=1.0.1->kubernetes>=28.1.0->chromadb) (4.9)\n",
            "Requirement already satisfied: filelock in /usr/local/lib/python3.10/dist-packages (from huggingface_hub<1.0,>=0.16.4->tokenizers>=0.13.2->chromadb) (3.13.1)\n",
            "Requirement already satisfied: fsspec>=2023.5.0 in /usr/local/lib/python3.10/dist-packages (from huggingface_hub<1.0,>=0.16.4->tokenizers>=0.13.2->chromadb) (2023.6.0)\n",
            "Requirement already satisfied: zipp>=0.5 in /usr/local/lib/python3.10/dist-packages (from importlib-metadata<7.0,>=6.0->opentelemetry-api>=1.2.0->chromadb) (3.17.0)\n",
            "Collecting mypy-extensions>=0.3.0 (from typing-inspect<1,>=0.4.0->dataclasses-json<0.7,>=0.5.7->langchain)\n",
            "  Downloading mypy_extensions-1.0.0-py3-none-any.whl (4.7 kB)\n",
            "Collecting humanfriendly>=9.1 (from coloredlogs->onnxruntime>=1.14.1->chromadb)\n",
            "  Downloading humanfriendly-10.0-py2.py3-none-any.whl (86 kB)\n",
            "\u001b[2K     \u001b[90m━━━━━━━━━━━━━━━━━━━━━━━━━━━━━━━━━━━━━━━━\u001b[0m \u001b[32m86.8/86.8 kB\u001b[0m \u001b[31m10.7 MB/s\u001b[0m eta \u001b[36m0:00:00\u001b[0m\n",
            "\u001b[?25hRequirement already satisfied: mpmath>=0.19 in /usr/local/lib/python3.10/dist-packages (from sympy->onnxruntime>=1.14.1->chromadb) (1.3.0)\n",
            "Requirement already satisfied: pyasn1<0.6.0,>=0.4.6 in /usr/local/lib/python3.10/dist-packages (from pyasn1-modules>=0.2.1->google-auth>=1.0.1->kubernetes>=28.1.0->chromadb) (0.5.1)\n",
            "Building wheels for collected packages: pypika\n",
            "  Building wheel for pypika (pyproject.toml) ... \u001b[?25l\u001b[?25hdone\n",
            "  Created wheel for pypika: filename=PyPika-0.48.9-py2.py3-none-any.whl size=53723 sha256=aa694446291a1673f305ac6ca386e3ebabc8ba798655b392dc402bf3537c71d2\n",
            "  Stored in directory: /root/.cache/pip/wheels/e1/26/51/d0bffb3d2fd82256676d7ad3003faea3bd6dddc9577af665f4\n",
            "Successfully built pypika\n",
            "Installing collected packages: pypika, monotonic, mmh3, websockets, uvloop, urllib3, typing-extensions, python-dotenv, pulsar-client, overrides, opentelemetry-util-http, opentelemetry-semantic-conventions, opentelemetry-proto, mypy-extensions, marshmallow, jsonpointer, importlib-metadata, humanfriendly, httptools, h11, deprecated, chroma-hnswlib, bcrypt, backoff, watchfiles, uvicorn, typing-inspect, starlette, opentelemetry-exporter-otlp-proto-common, opentelemetry-api, jsonpatch, coloredlogs, asgiref, tiktoken, posthog, opentelemetry-sdk, opentelemetry-instrumentation, openai, onnxruntime, langsmith, fastapi, dataclasses-json, opentelemetry-instrumentation-asgi, opentelemetry-exporter-otlp-proto-grpc, langchain-core, kubernetes, opentelemetry-instrumentation-fastapi, langchain-community, langchain, chromadb\n",
            "  Attempting uninstall: urllib3\n",
            "    Found existing installation: urllib3 2.0.7\n",
            "    Uninstalling urllib3-2.0.7:\n",
            "      Successfully uninstalled urllib3-2.0.7\n",
            "  Attempting uninstall: typing-extensions\n",
            "    Found existing installation: typing_extensions 4.5.0\n",
            "    Uninstalling typing_extensions-4.5.0:\n",
            "      Successfully uninstalled typing_extensions-4.5.0\n",
            "  Attempting uninstall: importlib-metadata\n",
            "    Found existing installation: importlib-metadata 7.0.0\n",
            "    Uninstalling importlib-metadata-7.0.0:\n",
            "      Successfully uninstalled importlib-metadata-7.0.0\n",
            "\u001b[31mERROR: pip's dependency resolver does not currently take into account all the packages that are installed. This behaviour is the source of the following dependency conflicts.\n",
            "lida 0.0.10 requires kaleido, which is not installed.\n",
            "lida 0.0.10 requires python-multipart, which is not installed.\n",
            "llmx 0.0.15a0 requires cohere, which is not installed.\n",
            "tensorflow-probability 0.22.0 requires typing-extensions<4.6.0, but you have typing-extensions 4.9.0 which is incompatible.\u001b[0m\u001b[31m\n",
            "\u001b[0mSuccessfully installed asgiref-3.7.2 backoff-2.2.1 bcrypt-4.1.2 chroma-hnswlib-0.7.3 chromadb-0.4.22 coloredlogs-15.0.1 dataclasses-json-0.6.3 deprecated-1.2.14 fastapi-0.108.0 h11-0.14.0 httptools-0.6.1 humanfriendly-10.0 importlib-metadata-6.11.0 jsonpatch-1.33 jsonpointer-2.4 kubernetes-28.1.0 langchain-0.0.354 langchain-community-0.0.8 langchain-core-0.1.5 langsmith-0.0.77 marshmallow-3.20.1 mmh3-4.0.1 monotonic-1.6 mypy-extensions-1.0.0 onnxruntime-1.16.3 openai-0.28.1 opentelemetry-api-1.22.0 opentelemetry-exporter-otlp-proto-common-1.22.0 opentelemetry-exporter-otlp-proto-grpc-1.22.0 opentelemetry-instrumentation-0.43b0 opentelemetry-instrumentation-asgi-0.43b0 opentelemetry-instrumentation-fastapi-0.43b0 opentelemetry-proto-1.22.0 opentelemetry-sdk-1.22.0 opentelemetry-semantic-conventions-0.43b0 opentelemetry-util-http-0.43b0 overrides-7.4.0 posthog-3.1.0 pulsar-client-3.4.0 pypika-0.48.9 python-dotenv-1.0.0 starlette-0.32.0.post1 tiktoken-0.5.2 typing-extensions-4.9.0 typing-inspect-0.9.0 urllib3-1.26.18 uvicorn-0.25.0 uvloop-0.19.0 watchfiles-0.21.0 websockets-12.0\n"
          ]
        }
      ]
    },
    {
      "cell_type": "markdown",
      "source": [
        "LOAD"
      ],
      "metadata": {
        "id": "LfFE4ou09C5S"
      }
    },
    {
      "cell_type": "code",
      "source": [
        "from langchain.vectorstores import Chroma\n",
        "from langchain.embeddings import OpenAIEmbeddings\n",
        "from langchain.text_splitter import RecursiveCharacterTextSplitter\n",
        "from langchain.chat_models import ChatOpenAI\n",
        "from langchain.chains import RetrievalQA\n",
        "from langchain.document_loaders import TextLoader\n",
        "from langchain.document_loaders import DirectoryLoader\n",
        "from collections import Counter\n",
        "from openai.embeddings_utils import get_embedding"
      ],
      "metadata": {
        "id": "gsu1yJ1v821m"
      },
      "execution_count": null,
      "outputs": []
    },
    {
      "cell_type": "code",
      "source": [
        "loader = DirectoryLoader('./H_data' , glob='*.txt', loader_cls=TextLoader)\n",
        "\n",
        "documents = loader.load()\n",
        "\n",
        "print('문서의 개수:', len(documents))"
      ],
      "metadata": {
        "colab": {
          "base_uri": "https://localhost:8080/"
        },
        "id": "MOc3qB1L-GUn",
        "outputId": "202953f9-d893-4104-9d45-829d1b76e5fb"
      },
      "execution_count": null,
      "outputs": [
        {
          "output_type": "stream",
          "name": "stdout",
          "text": [
            "문서의 개수: 30\n"
          ]
        }
      ]
    },
    {
      "cell_type": "code",
      "source": [
        "import openai\n",
        "openai.api_key='api_key'"
      ],
      "metadata": {
        "id": "JD62KQXnL_PG"
      },
      "execution_count": null,
      "outputs": []
    },
    {
      "cell_type": "code",
      "source": [
        "import os\n",
        "os.environ['OPENAI_API_KEY'] = 'api_key'"
      ],
      "metadata": {
        "id": "k0T_C03AMfkG"
      },
      "execution_count": null,
      "outputs": []
    },
    {
      "cell_type": "code",
      "source": [
        "print('1번 문서:', documents[1])\n",
        "print('-'*20)\n",
        "print('21번 문서:', documents[2])\n",
        "print('-'*20)\n",
        "\n",
        "print( type(documents[1]))\n",
        "print(dir(documents[1]))\n",
        "print('-'*20)\n",
        "documents[1]"
      ],
      "metadata": {
        "colab": {
          "base_uri": "https://localhost:8080/"
        },
        "id": "6z6nV0Is_FWv",
        "outputId": "37a22cab-b353-4cb1-e85f-59bd6f84705e"
      },
      "execution_count": null,
      "outputs": [
        {
          "output_type": "stream",
          "name": "stdout",
          "text": [
            "1번 문서: page_content='기온이 내려가고 눈이 내린 산이 많아지면서 겨울 등산을 고려하는 이들이 적지 않다. 겨울철 산행은 눈으로 인해 길은 미끄럽고 기온도 낮아 부상 위험이 높다.\\n\\n\\n\\n가장 흔한 ‘발목 염좌’, 방치하면 관절염 될 수 있어\\n\\n\\n\\n발목염좌는 등산에서 흔한 부상 중 하나다. 울퉁불퉁한 바닥을 걸을 때 헛디뎌 발을 접질리면서 발목의 정상적인 운동 범위를 벗어나면 발목 관절을 잡아주는 인대들이 손상되면서 발생한다. 시간이 지나면 통증이 가라앉기 때문에 치료하지 않고 지나가는 경우가 많은데, 이에 정덕환 교수는 “적절한 시기에 치료하지 않으면 급성 염좌의 약 20% 정도에서 만성 염좌 및 발목 관절 불안정성이 발생할 수 있고, 불안정성이 지속할 경우 장기적으로는 발목 관절염으로 진행할 수 있다”라고 설명했다.\\n\\n\\n\\n스틱 등으로 무게 분산, 발목 테이핑 등 도움\\n\\n\\n\\n발목 염좌를 예방하려면 입산 전 충분한 스트레칭을 통해 관절 유연성을 높여야 한다. 발에 가해지는 부담은 몸무게에 비례한다. 한 걸음마다 체중의 1.5배, 뛸 때는 4배, 점프할 때는 5배가량의 하중을 견뎌야 한다. 그러므로 너무 무거운 짐을 메고 등산하는 것은 피하고, 등산스틱을 이용해 체중을 발 이외의 곳으로 분산시키는 것도 좋다. 발목에 테이핑하는 것도 발목 보호에 좋은 방법이다.\\n\\n\\n\\n미끄러져 낙상 골절, 오랜 등산으로 피로 골절 주의\\n\\n\\n\\n겨울철에는 눈이 오거나 서리가 있어 등산길이 더 미끄러운 경우가 많다. 특히 균형감각이 떨어지고 뼈가 약한 노인들은 낙상 시 골절 위험이 더 높아 주의해야 한다. 이외에도 오랜 시간 등산을 하다 보면 뼈에도 스트레스가 쌓이며 피로골절이 발생할 수도 있다.\\n\\n\\n\\n아이젠 함께 활용하고 갑자기 무리한 등산 말아야\\n\\n\\n\\n낙상 예방을 위해서는 잘 미끄러지지 않고 발목 위까지 올라오는 등산화를 신고 아이젠을 함께 활용하는 것이 좋다. 피로골절은 뼈에 반복적인 하중이 가해지는 일이 갑자기 증가하지 않는 것이 중요하다. 겨울철 갑자기 무리한 등산보다는 평소에도 운동 및 등산을 통해 조금씩 시간과 등산 거리를 늘려나가는 것이 좋다.\\n\\n\\n\\n방치하기 쉬운 족저근막염, 등산 마니아도 방심 금물\\n\\n\\n\\n초보자가 아닌 등산을 오래 하는 사람도 조심해야 하는 부상이 있다. 바로 족저근막염이다. 족저근막은 발가락부터 발뒤꿈치까지 발바닥에 아치형으로 붙은 두껍고 강한 섬유 띠로, 근막에 자극이 지속되면서 일부 퇴행성 변화와 염증성 변화가 나타나며 발생하는 질환이다. 대부분 뒤꿈치 중앙부 혹은 약간 안쪽의 통증이 있고, 걷기 시작할 때의 통증이 주요한 증상 때문에 발바닥 아치 중앙부가 주로 아프거나, 걷고 나서 통증이 심해지거나, 걷지 않고 가만히 휴식을 취하고 있을 때도 발바닥이 아프다면 다른 원인은 아닌지 꼭 확인이 필요하다. 진찰과 문진만으로 정확한 진단이 되지 않는 경우도 많아 추가 검사가 필요할 수 있다.\\n\\n\\n\\n발바닥부터 종아리까지 등산 전후 스트레칭 및 아킬레스건 강화 운동해야\\n\\n\\n\\n증상이 경미한 경우에는 생활 습관을 고치거나 신발 등 발병 원인만 제거해도 좋아질 수 있지만, 수축한 근막을 늘려주는 스트레칭이 효과가 좋다. 정 교수는 “산행 직후 음료수 캔 등을 발바닥 아치에 대고 문질러 주면 회복에 도움이 된다. 만성일 때는 등산 횟수를 줄이고 족저근막 및 종아리 부위 스트레칭을 꾸준히 하고 동시에 아킬레스건 강화 운동을 함께 해주는 것이 좋다”라고 설명했다. 증상 호전이 없는 경우 체외충격파 치료를 하거나 스테로이드 주사를 맞기도 한다. 주사 치료는 족저근막 파열 등 심각한 합병증을 유발할 수 있어 숙련된 정형외과 의사와 반드시 상의해서 진행해야 한다. 또 뒤꿈치 충격을 줄이는 깔창 등의 쿠션, 보조기를 착용할 수도 있다.\\n\\n\\n\\n장시간 등산하며 차가워진 손·발, 여벌 양말 등 챙겨 젖으면 갈아신어야\\n\\n\\n\\n장시간 등산하다 보면 손·발 등에 동상이 생길 수 있다. 처음에는 통증이 심하지 않다가 가렵고 차가운 느낌을 거쳐 찌르는 듯한 통증이 발생한다. 동상은 심하면 손가락을 절단까지 해야 할 수 있어 주의해야 한다. 통증과 저림이 느껴지거나 감각이 저하되면 등산을 멈추고 따뜻한 물 등으로 보온하는 것이 좋다. 장갑이나 양말은 젖지 않게 유지하고 여벌을 챙겨가서 젖었다면 갈아 신는 것이 좋다.\\n\\n\\n\\n부상 예방의 지름길 ‘스트레칭’, 시간 관리 및 등반 포기도 중요\\n\\n\\n\\n등산은 하체에 힘이 많이 들어가는 운동인 만큼 준비운동과 스트레칭도 필수다. 특히 겨울은 추위로 관절, 인대, 힘줄이 모두 뻣뻣하기 쉬워 충분히 스트레칭하고 등산하는 것이 좋다. 그러므로 등산 전 발목, 무릎, 고관절을 포함한 하지관절을 구부렸다 폈다 하는 스트레칭과 허벅지 근육, 종아리 근육과 햄스트링 근육을 늘리는 스트레칭, 발목을 돌리는 스트레칭 등을 충분히 해야 한다. 등산 후에도 잊지 말고 근육통 방지를 위해 스트레칭을 해주면 좋다. 또한, 등반 시간을 제대로 계산하지 못해 날이 어두워지면 낙상부터 조난까지 사고 위험이 커지므로 시간 관리를 철저히 하고, 체력과 시간이 부족하다면 과감히 등산을 마무리하고 내려가는 것도 중요하다.\\n\\n\\n\\n<도움말: 강동경희대학교병원 정형외과 정덕환 교수>\\n\\n\\n\\n저작권자 ⓒ 메디팜스투데이 무단전재 및 재배포 금지' metadata={'source': 'H_data/2.txt'}\n",
            "--------------------\n",
            "21번 문서: page_content='연말연시에는 그간 미루었던 만남을 갖기 위한 모임이 많이 생긴다. 친구들과의 송년회, 사내 회식 등과 같은 연말 모임을 모두 참석하다 보면 과음이나 과식을 피하기 어렵다. 과음이 반복되는 시기에 주의해야 하는 질환이 있다. 체한 증상이 지속되고 복통과 구역 증상을 호소하며, 누웠을 때 등으로 뻗치는 통증까지 느껴지는 ‘급성 췌장염’이다.\\n\\n\\n\\n췌장염은 췌장에 염증이 생긴 질환으로, 급성과 만성으로 구분할 수 있다. 급성 췌장염은 주로 과도한 음주, 담석, 고중성지방혈증 등에 의해 발생하며 적절한 치료를 받으면 완치될 수 있다. 하지만, 반복적으로 급성 췌장염을 앓게 되면 만성 췌장염이 되어 췌장에 비가역적인 변화를 일으켜 만성 복통, 영양결핍, 지방 변, 당뇨병 등을 유발할 수 있다.\\n\\n\\n\\n급성 췌장염이 발생하면 대부분 극심한 상복부 통증을 호소한다. 통증이 시작되고 약 30분 이내에 통증의 강도가 커지며 호전 없이 수 시간에서 수일간 지속된다. 그 외 증상으로 구역, 구토, 발열 등이 동반되기도 한다.\\n\\n\\n\\n전태주 인제대학교 상계백병원 소화기병센터 교수는 “췌장은 복막 뒤에 있는 후복막 장기이기 때문에 똑바로 누웠을 때 통증이 심하고 앉거나 몸을 앞으로 구부리면 통증이 완화되는 특징이 있다”고 말했다.\\n\\n\\n\\n급성 췌장염은 혈액 검사와 복부 전산화단층촬영 등으로 진단할 수 있다. 혈액 검사에서 혈청 아밀라아제나 리파아제 수치가 정상치보다 3배 이상 오르고, 복부 전산화단층촬영에서 췌장 주변으로 염증액이 고여 있거나 췌장의 괴사 소견이 있으면 진단할 수 있다. 복부 전산화단층촬영은 급성 췌장염 진단뿐만 아니라 중증도를 평가하는 데 유용하여 췌장과 주변 장기의 상태, 췌장 괴사 유무 등을 확인할 수 있으며, 조영제를 사용해 조직 변화까지 파악할 수 있어 급성 췌장염의 합병증 진단에도 도움이 된다.\\n\\n\\n\\n급성 췌장염의 80~90%는 대부분 금식, 수액 요법 등의 보존적 치료만으로 호전될 수 있다. 하지만, 괴사성 췌장염의 경우 감염이 동반될 수 있고 패혈증과 다장기 부전 등으로 진행되면 중재적 시술이나 수술적 치료가 필요할 수도 있다. 담석성 췌장염이 의심될 때는 내시경 역행 담췌관조영술과 같은 내시경 시술을 시행하여 급성 췌장염을 유발한 담석을 제거해야 한다.\\n\\n\\n\\n전태주 교수는 “급성 췌장염이 음주로 인해 발생했다면 예방을 위해 금주해야 한다”며, “급성 췌장염 완치 후에도 음주로 인해 췌장염이 재발하는 경우가 많기 때문”이라고 말했다. 췌장염을 앓았거나 평소 과음을 하는 편이라면 주의가 필요하다. 담석성 췌장염이라면 수분과 채소를 많이 섭취하고 규칙적인 운동하는 것이 좋다. 회복 후에는 기름진 음식을 피하고 스트레스를 피하는 것도 도움이 된다.\\n \\n\\n저작권자 ⓒ 메디팜스투데이 무단전재 및 재배포 금지' metadata={'source': 'H_data/3.txt'}\n",
            "--------------------\n",
            "<class 'langchain_core.documents.base.Document'>\n",
            "['Config', '__abstractmethods__', '__annotations__', '__class__', '__class_vars__', '__config__', '__custom_root_type__', '__delattr__', '__dict__', '__dir__', '__doc__', '__eq__', '__exclude_fields__', '__fields__', '__fields_set__', '__format__', '__ge__', '__get_validators__', '__getattribute__', '__getstate__', '__gt__', '__hash__', '__include_fields__', '__init__', '__init_subclass__', '__iter__', '__json_encoder__', '__le__', '__lt__', '__module__', '__ne__', '__new__', '__post_root_validators__', '__pre_root_validators__', '__pretty__', '__private_attributes__', '__reduce__', '__reduce_ex__', '__repr__', '__repr_args__', '__repr_name__', '__repr_str__', '__rich_repr__', '__schema_cache__', '__setattr__', '__setstate__', '__signature__', '__sizeof__', '__slots__', '__str__', '__subclasshook__', '__try_update_forward_refs__', '__validators__', '_abc_impl', '_calculate_keys', '_copy_and_set_values', '_decompose_class', '_enforce_dict_if_root', '_get_value', '_init_private_attributes', '_iter', '_lc_kwargs', 'construct', 'copy', 'dict', 'from_orm', 'get_lc_namespace', 'is_lc_serializable', 'json', 'lc_attributes', 'lc_id', 'lc_secrets', 'metadata', 'page_content', 'parse_file', 'parse_obj', 'parse_raw', 'schema', 'schema_json', 'to_json', 'to_json_not_implemented', 'type', 'update_forward_refs', 'validate']\n",
            "--------------------\n"
          ]
        },
        {
          "output_type": "execute_result",
          "data": {
            "text/plain": [
              "Document(page_content='기온이 내려가고 눈이 내린 산이 많아지면서 겨울 등산을 고려하는 이들이 적지 않다. 겨울철 산행은 눈으로 인해 길은 미끄럽고 기온도 낮아 부상 위험이 높다.\\n\\n\\n\\n가장 흔한 ‘발목 염좌’, 방치하면 관절염 될 수 있어\\n\\n\\n\\n발목염좌는 등산에서 흔한 부상 중 하나다. 울퉁불퉁한 바닥을 걸을 때 헛디뎌 발을 접질리면서 발목의 정상적인 운동 범위를 벗어나면 발목 관절을 잡아주는 인대들이 손상되면서 발생한다. 시간이 지나면 통증이 가라앉기 때문에 치료하지 않고 지나가는 경우가 많은데, 이에 정덕환 교수는 “적절한 시기에 치료하지 않으면 급성 염좌의 약 20% 정도에서 만성 염좌 및 발목 관절 불안정성이 발생할 수 있고, 불안정성이 지속할 경우 장기적으로는 발목 관절염으로 진행할 수 있다”라고 설명했다.\\n\\n\\n\\n스틱 등으로 무게 분산, 발목 테이핑 등 도움\\n\\n\\n\\n발목 염좌를 예방하려면 입산 전 충분한 스트레칭을 통해 관절 유연성을 높여야 한다. 발에 가해지는 부담은 몸무게에 비례한다. 한 걸음마다 체중의 1.5배, 뛸 때는 4배, 점프할 때는 5배가량의 하중을 견뎌야 한다. 그러므로 너무 무거운 짐을 메고 등산하는 것은 피하고, 등산스틱을 이용해 체중을 발 이외의 곳으로 분산시키는 것도 좋다. 발목에 테이핑하는 것도 발목 보호에 좋은 방법이다.\\n\\n\\n\\n미끄러져 낙상 골절, 오랜 등산으로 피로 골절 주의\\n\\n\\n\\n겨울철에는 눈이 오거나 서리가 있어 등산길이 더 미끄러운 경우가 많다. 특히 균형감각이 떨어지고 뼈가 약한 노인들은 낙상 시 골절 위험이 더 높아 주의해야 한다. 이외에도 오랜 시간 등산을 하다 보면 뼈에도 스트레스가 쌓이며 피로골절이 발생할 수도 있다.\\n\\n\\n\\n아이젠 함께 활용하고 갑자기 무리한 등산 말아야\\n\\n\\n\\n낙상 예방을 위해서는 잘 미끄러지지 않고 발목 위까지 올라오는 등산화를 신고 아이젠을 함께 활용하는 것이 좋다. 피로골절은 뼈에 반복적인 하중이 가해지는 일이 갑자기 증가하지 않는 것이 중요하다. 겨울철 갑자기 무리한 등산보다는 평소에도 운동 및 등산을 통해 조금씩 시간과 등산 거리를 늘려나가는 것이 좋다.\\n\\n\\n\\n방치하기 쉬운 족저근막염, 등산 마니아도 방심 금물\\n\\n\\n\\n초보자가 아닌 등산을 오래 하는 사람도 조심해야 하는 부상이 있다. 바로 족저근막염이다. 족저근막은 발가락부터 발뒤꿈치까지 발바닥에 아치형으로 붙은 두껍고 강한 섬유 띠로, 근막에 자극이 지속되면서 일부 퇴행성 변화와 염증성 변화가 나타나며 발생하는 질환이다. 대부분 뒤꿈치 중앙부 혹은 약간 안쪽의 통증이 있고, 걷기 시작할 때의 통증이 주요한 증상 때문에 발바닥 아치 중앙부가 주로 아프거나, 걷고 나서 통증이 심해지거나, 걷지 않고 가만히 휴식을 취하고 있을 때도 발바닥이 아프다면 다른 원인은 아닌지 꼭 확인이 필요하다. 진찰과 문진만으로 정확한 진단이 되지 않는 경우도 많아 추가 검사가 필요할 수 있다.\\n\\n\\n\\n발바닥부터 종아리까지 등산 전후 스트레칭 및 아킬레스건 강화 운동해야\\n\\n\\n\\n증상이 경미한 경우에는 생활 습관을 고치거나 신발 등 발병 원인만 제거해도 좋아질 수 있지만, 수축한 근막을 늘려주는 스트레칭이 효과가 좋다. 정 교수는 “산행 직후 음료수 캔 등을 발바닥 아치에 대고 문질러 주면 회복에 도움이 된다. 만성일 때는 등산 횟수를 줄이고 족저근막 및 종아리 부위 스트레칭을 꾸준히 하고 동시에 아킬레스건 강화 운동을 함께 해주는 것이 좋다”라고 설명했다. 증상 호전이 없는 경우 체외충격파 치료를 하거나 스테로이드 주사를 맞기도 한다. 주사 치료는 족저근막 파열 등 심각한 합병증을 유발할 수 있어 숙련된 정형외과 의사와 반드시 상의해서 진행해야 한다. 또 뒤꿈치 충격을 줄이는 깔창 등의 쿠션, 보조기를 착용할 수도 있다.\\n\\n\\n\\n장시간 등산하며 차가워진 손·발, 여벌 양말 등 챙겨 젖으면 갈아신어야\\n\\n\\n\\n장시간 등산하다 보면 손·발 등에 동상이 생길 수 있다. 처음에는 통증이 심하지 않다가 가렵고 차가운 느낌을 거쳐 찌르는 듯한 통증이 발생한다. 동상은 심하면 손가락을 절단까지 해야 할 수 있어 주의해야 한다. 통증과 저림이 느껴지거나 감각이 저하되면 등산을 멈추고 따뜻한 물 등으로 보온하는 것이 좋다. 장갑이나 양말은 젖지 않게 유지하고 여벌을 챙겨가서 젖었다면 갈아 신는 것이 좋다.\\n\\n\\n\\n부상 예방의 지름길 ‘스트레칭’, 시간 관리 및 등반 포기도 중요\\n\\n\\n\\n등산은 하체에 힘이 많이 들어가는 운동인 만큼 준비운동과 스트레칭도 필수다. 특히 겨울은 추위로 관절, 인대, 힘줄이 모두 뻣뻣하기 쉬워 충분히 스트레칭하고 등산하는 것이 좋다. 그러므로 등산 전 발목, 무릎, 고관절을 포함한 하지관절을 구부렸다 폈다 하는 스트레칭과 허벅지 근육, 종아리 근육과 햄스트링 근육을 늘리는 스트레칭, 발목을 돌리는 스트레칭 등을 충분히 해야 한다. 등산 후에도 잊지 말고 근육통 방지를 위해 스트레칭을 해주면 좋다. 또한, 등반 시간을 제대로 계산하지 못해 날이 어두워지면 낙상부터 조난까지 사고 위험이 커지므로 시간 관리를 철저히 하고, 체력과 시간이 부족하다면 과감히 등산을 마무리하고 내려가는 것도 중요하다.\\n\\n\\n\\n<도움말: 강동경희대학교병원 정형외과 정덕환 교수>\\n\\n\\n\\n저작권자 ⓒ 메디팜스투데이 무단전재 및 재배포 금지', metadata={'source': 'H_data/2.txt'})"
            ]
          },
          "metadata": {},
          "execution_count": 16
        }
      ]
    },
    {
      "cell_type": "markdown",
      "source": [
        "##split text (텍스트 분할하기)\n",
        "\n"
      ],
      "metadata": {
        "id": "h701RrjcAK6X"
      }
    },
    {
      "cell_type": "markdown",
      "source": [
        "- ChatGPT API의 GPT-3.5-turbo 모델은 입력으로 사용하는 텍스트와 ChatGPT API가 반환하는 답변의 길이를 모두 포함하여 최대 4,096 토큰을 처리할 수 있다.  \n",
        "- 예를 들어, ChatGPT API 입력으로 약 3,000토큰 정도의 길이를 가진 입력을 사용하면 ChatGPT는 최대 약 1,000토큰의 답변을 할 수 있는 구조이다.  \n",
        "- 입력의 길이가 4,096의 길이에 인접한 입력을 사용하면 ChatGPT API가 답변을 하던 도중 4,096개의 토큰을 모두 소진하면 더 이상 답변을 생성할 수 없어 텍스트가 중간에 끊길 수 있다. 또한 입력의 길이가 4,096을 넘으면 ChatGPT의 입력으로 사용할 수 없다는 에러가 발생한다.  \n",
        "\n",
        "- 이런 현상 때문에 너무 긴 문서들은 한 번에 입력으로 사용할 수 없으므로 여러 개의 뭉치(chunk)로 자른 후 ChatGPT API를 여러 번 호출하여 처리해야 한다.  \n",
        "- 랭체인의 RecursiveCharacterTextSplitter는 이를 위해 사용하는 도구로, 주어진 문서를 더 작은 단위의 텍스트 뭉치(chunk)로 잘라주는 역할을 한다.  \n",
        "-chunk_size에는 텍스트의 분할 기준이 되는 길이를 설정하고, chunk_overlap에는 텍스트를 분할할 때 텍스트의 내용을 얼마나 겹쳐서 자를 것인지 지정한다.  "
      ],
      "metadata": {
        "id": "W5kTC9fODDpw"
      }
    },
    {
      "cell_type": "code",
      "source": [
        "text_splitter= RecursiveCharacterTextSplitter(chunk_size=1000,chunk_overlap=200)\n",
        "texts = text_splitter.split_documents(documents)\n",
        "\n",
        "print('분할된 텍스트의 개수:', len(texts))"
      ],
      "metadata": {
        "colab": {
          "base_uri": "https://localhost:8080/"
        },
        "id": "twlcJ-auAKR_",
        "outputId": "f6b26382-1d5a-4d33-ba5f-485f68276966"
      },
      "execution_count": null,
      "outputs": [
        {
          "output_type": "stream",
          "name": "stdout",
          "text": [
            "분할된 텍스트의 개수: 93\n"
          ]
        }
      ]
    },
    {
      "cell_type": "code",
      "source": [
        "texts[0]"
      ],
      "metadata": {
        "colab": {
          "base_uri": "https://localhost:8080/"
        },
        "id": "VlvBeYtkBgcu",
        "outputId": "5134c4e6-0e46-4de4-83df-ea1ff1dee810"
      },
      "execution_count": null,
      "outputs": [
        {
          "output_type": "execute_result",
          "data": {
            "text/plain": [
              "Document(page_content=\"대부분 무증상 초음파?세포검사 통해 진단…변형 일어나기도 주기적 추적관찰 필요\\n\\n\\n고대구로병원 송의연 교수 “크기 큰 양성 결절로 목소리 변화 시 수술 고려해야”\\n\\n\\n[의학신문·일간보사=정광성 기자] 목의 한가운데에서 앞으로 튀어나온 물렁뼈(갑상연골, 甲狀軟骨)의 아래쪽 기도의 주위를 감싸고 있는 내분비선인 ‘갑상선’은 음식물을 통해 섭취한 아이오딘을 이용해 갑상선 호르몬을 생성한 후 체내로 분비해 우리몸의 대사와 체온조절 등 인체 내 모든 기관의 기능을 적절하게 유지시킨다.\\n\\n\\n\\n이러한 갑상선에 세포의 과증식으로 발생하는 ‘갑상선 결절’은 갑상선 질환 중 가장 흔한 질환이다. 건강보험심사평가원에 따르면 2017년 27만4799명에서 2022년 40만9609명으로 5년간 49% 증가세를 보이고 있다.\\n\\n\\n\\n이렇게 흔하게 생길 수 있는 갑상선 결절은 무조건적으로 치료하는 것은 아니다. 갑상선상의 결절이 보일 경우 미세침흡인 세포검사를 통해 양성/악성여부를 확인한다.\\n\\n\\n\\n갑상선 결절은 대부분 양성결절이나 악성일 경우 전문의와의 진료를 통해 적극적으로 치료를 해야 한다.\\n\\n\\n\\n◇특별한 증상 없는 ‘갑상선 결절', 대부분 검진을 통해 발견=갑상선 결절은 정상적인 세포가 과도하게 증식해서 발생하는데 아직까지 증식의 원인은 명확하게 밝혀지지 않았다. 다양한 환경적 및 유전적 요소가 복합적으로 작용할 것으로 추측되고 있다.\\n\\n\\n\\n갑상선 결절은 대부분 특별한 증상이 없고, 초음파 검사로 우연히 발견되는 경우가 가장 흔하다. 만약 결절의 크기가 수주 또는 수개월 사이에 갑자기 커졌거나, 목이 쉬는 등 목소리의 변화가 발생한 경우, 호흡 곤란, 삼킴 곤란, 통증이 발생한 경우에는 갑상선 암일 경우가 높으므로 반드시 전문의의 진료를 보는 것이 좋다.\", metadata={'source': 'H_data/1.txt'})"
            ]
          },
          "metadata": {},
          "execution_count": 18
        }
      ]
    },
    {
      "cell_type": "code",
      "source": [
        "source_lst=[]\n",
        "for i in range(0,len(texts)):\n",
        "  source_lst.append(texts[i].metadata['source'])\n",
        "\n",
        "element_counts =Counter(source_lst)\n",
        "filtered_counts = {key: value for key, value in element_counts.items() if value >=2}\n",
        "print('2개 이상으로 분할된 문서 :',filtered_counts)\n",
        "print('분할된 텍스트의 개수:',len(documents)+len(filtered_counts))"
      ],
      "metadata": {
        "colab": {
          "base_uri": "https://localhost:8080/"
        },
        "id": "euFELHoBB1o3",
        "outputId": "9be9583d-431e-49ca-d968-aa99f1024e1a"
      },
      "execution_count": null,
      "outputs": [
        {
          "output_type": "stream",
          "name": "stdout",
          "text": [
            "2개 이상으로 분할된 문서 : {'H_data/1.txt': 3, 'H_data/2.txt': 4, 'H_data/3.txt': 2, 'H_data/4.txt': 3, 'H_data/5.txt': 4, 'H_data/6.txt': 3, 'H_data/7.txt': 4, 'H_data/8.txt': 2, 'H_data/9.txt': 2, 'H_data/10.txt': 3, 'H_data/12.txt': 4, 'H_data/13.txt': 3, 'H_data/14.txt': 4, 'H_data/15.txt': 2, 'H_data/16.txt': 3, 'H_data/17.txt': 3, 'H_data/18.txt': 2, 'H_data/19.txt': 4, 'H_data/20.txt': 3, 'H_data/21.txt': 2, 'H_data/22.txt': 4, 'H_data/23.txt': 2, 'H_data/24.txt': 3, 'H_data/25.txt': 2, 'H_data/26.txt': 5, 'H_data/27.txt': 4, 'H_data/28.txt': 5, 'H_data/29.txt': 2, 'H_data/30.txt': 5}\n",
            "분할된 텍스트의 개수: 59\n"
          ]
        }
      ]
    },
    {
      "cell_type": "markdown",
      "source": [
        "##Create Chroma DB"
      ],
      "metadata": {
        "id": "AkfqawbnCjpP"
      }
    },
    {
      "cell_type": "markdown",
      "source": [
        "get_embedding('저는 배가 고파요', engine='text-embedding-ada-002')\n",
        "\n",
        "def cos_sim(A,b):\n",
        "  return dot(A,B)/ (norm(A) * norm(B))\n",
        "\n",
        "\n",
        "  -ChormDB는 이러한 과정들을 기능별로 구현하여 사용자가 벡터를 좀 더 쉽게 다룰 수 있게 도화주는 편리한 벡터응용 도구이다.  \n",
        "  -ChormDB.from_documents( ) 함수를 이용해 벡터도구 객체를 선언한다. 이때 documents에서는 벡터화의 단위가 될 텍스트 리스트를 매개변수로 전달하고, embedding에는 어떤 종류의 임베딩을 사용 할 것인지를 기재한다."
      ],
      "metadata": {
        "id": "HN9B94_WJ7S-"
      }
    },
    {
      "cell_type": "markdown",
      "source": [
        "그동안에는 OPEN AI Embedding API를 이용해 텍스트를 임베딩하고, 코사인 유사도를 계산해 유사한 텍스트를 가져오는 작업을 했다."
      ],
      "metadata": {
        "id": "hcsFBb4fKShO"
      }
    },
    {
      "cell_type": "code",
      "source": [
        "embedding = OpenAIEmbeddings()\n",
        "\n",
        "vectordb = Chroma.from_documents(\n",
        "    documents=texts,\n",
        "    embedding=embedding)\n",
        "\n",
        "print(vectordb)\n",
        "print(dir(vectordb))"
      ],
      "metadata": {
        "colab": {
          "base_uri": "https://localhost:8080/"
        },
        "id": "ljkfDJG-CmtW",
        "outputId": "6baefb60-d9be-4f12-b8fa-3135d043f144"
      },
      "execution_count": null,
      "outputs": [
        {
          "output_type": "stream",
          "name": "stdout",
          "text": [
            "<langchain_community.vectorstores.chroma.Chroma object at 0x78c0c414cc40>\n",
            "['_Chroma__query_collection', '_LANGCHAIN_DEFAULT_COLLECTION_NAME', '__abstractmethods__', '__annotations__', '__class__', '__delattr__', '__dict__', '__dir__', '__doc__', '__eq__', '__format__', '__ge__', '__getattribute__', '__gt__', '__hash__', '__init__', '__init_subclass__', '__le__', '__lt__', '__module__', '__ne__', '__new__', '__reduce__', '__reduce_ex__', '__repr__', '__setattr__', '__sizeof__', '__slots__', '__str__', '__subclasshook__', '__weakref__', '_abc_impl', '_asimilarity_search_with_relevance_scores', '_client', '_client_settings', '_collection', '_cosine_relevance_score_fn', '_embedding_function', '_euclidean_relevance_score_fn', '_get_retriever_tags', '_max_inner_product_relevance_score_fn', '_persist_directory', '_select_relevance_score_fn', '_similarity_search_with_relevance_scores', 'aadd_documents', 'aadd_texts', 'add_documents', 'add_images', 'add_texts', 'adelete', 'afrom_documents', 'afrom_texts', 'amax_marginal_relevance_search', 'amax_marginal_relevance_search_by_vector', 'as_retriever', 'asearch', 'asimilarity_search', 'asimilarity_search_by_vector', 'asimilarity_search_with_relevance_scores', 'asimilarity_search_with_score', 'delete', 'delete_collection', 'embeddings', 'encode_image', 'from_documents', 'from_texts', 'get', 'max_marginal_relevance_search', 'max_marginal_relevance_search_by_vector', 'override_relevance_score_fn', 'persist', 'search', 'similarity_search', 'similarity_search_by_vector', 'similarity_search_by_vector_with_relevance_scores', 'similarity_search_with_relevance_scores', 'similarity_search_with_score', 'update_document', 'update_documents']\n"
          ]
        }
      ]
    },
    {
      "cell_type": "markdown",
      "source": [
        "## Make a retriever (검색기)\n",
        "- 벡터 도구 객체를 선언하고 나면 as_retriever()함수를 이용해 입력된 텍스트로부터 유사한 텍스트를 찾아주는 검색기 (retriever)를 선언한다.\n"
      ],
      "metadata": {
        "id": "jO51BI8TN_jw"
      }
    },
    {
      "cell_type": "code",
      "source": [
        "retriever = vectordb.as_retriever()\n",
        "print(type(retriever))"
      ],
      "metadata": {
        "colab": {
          "base_uri": "https://localhost:8080/"
        },
        "id": "S4shUf4bN38-",
        "outputId": "179bd199-74ac-4d6c-bf65-4a96d71e84ab"
      },
      "execution_count": null,
      "outputs": [
        {
          "output_type": "stream",
          "name": "stdout",
          "text": [
            "<class 'langchain_core.vectorstores.VectorStoreRetriever'>\n"
          ]
        }
      ]
    },
    {
      "cell_type": "code",
      "source": [
        "docs = retriever.get_relevant_documents('당뇨가뭐야?')\n",
        "print('유사문서 개수:', len(docs))\n",
        "print('--'*20)\n",
        "print('첫번째 유사문서:', docs[0])\n",
        "print('--'*20)\n",
        "print('각 유사 문서의 문서 출처:')\n",
        "\n",
        "for doc in docs:\n",
        "     print(doc.metadata['source'])\n",
        "\n"
      ],
      "metadata": {
        "colab": {
          "base_uri": "https://localhost:8080/"
        },
        "id": "jN4UxUxhON59",
        "outputId": "f4e3859d-7936-440f-fd7b-8cba4b17a17a"
      },
      "execution_count": null,
      "outputs": [
        {
          "output_type": "stream",
          "name": "stdout",
          "text": [
            "유사문서 개수: 4\n",
            "----------------------------------------\n",
            "첫번째 유사문서: page_content='당뇨 환자, 건강한 설 보내기\\n\\n\\n당뇨병을 앓고 있는 환자에게 명절은 이래저래 고민거리를 가져다 주기도 하는데, 실제 명절 후에 평소보다 혈당이 높아지는 경향을 보이기 때문이다. 명절이면 자고로 가족과 함께 정성을 다해 만드는 음식이 떠오르는데, 평소 먹기 쉽지 않고 맛이 좋아 자꾸 손이 가게 된다. 하지만 영양학적으로는 열량을 많이 함유하고 있을 뿐만 아니라 기름져 자칫 혈당이나 체중 조절에 어려움을 겪게 한다. 그렇다면 당뇨병 환자가 명절을 슬기롭게 보내려면 어떤 걸 주의해야 할까?\\n\\n우선, 과식하지 않는 것이 가장 중요하다. 명절에는 여러 종류의 음식이 있어 조금씩만 먹더라도 과식하기 쉬우며, 대부분 열량이 높고 기름진 음식이라 혈당 및 체중 조절이 어렵다. 최대한 먹더라도 평소 포만감을 느낄 정도로만 먹는 것이 좋으며, 얼핏 보았을 때 달고 기름진 것은 피해야 한다.\\n\\n또한, 먹은 양과 운동량의 균형을 맞추어야 한다. 계속 망설이다가 하는 군것질 후에는 혈당을 떨어트리기 위해 보통 생각하는 것보다 운동을 훨씬 많이 해야 한다. 평소 정해진 식단 이외 추가로 섭취한 음식이나 간식의 열량을 알아본 후, 섭취 열량과 운동량의 균형을 따져보아야 한다.\\n\\n도로 사정이 좋지 않은 명절에는 당뇨병 약을 복용 중인 환자의 경우 정해진 식사 시간을 놓친다면 저혈당에 빠질 위험이 있다. 장거리 운전을 한다면 저혈당 대비용 사탕을 가지고 다녀야 하며, 무엇보다 안전수칙에 맞추어 쉬엄쉬엄 운전하는 것이 좋다.\\n\\n평소 바쁘다는 이유로 지키지 못했던 당뇨병 환자는 스스로 자신의 모습을 다시 되짚어보는 것이 좋다. 긴 명절 연휴에 생활수칙을 잘 지킬 수 있을지, 아니면 평소에도 충실한 생활로 잘 지킬 수 있었던 수칙은 아니었는지 스스로 판단해본다.' metadata={'source': 'H_data/25.txt'}\n",
            "----------------------------------------\n",
            "각 유사 문서의 문서 출처:\n",
            "H_data/25.txt\n",
            "H_data/28.txt\n",
            "H_data/28.txt\n",
            "H_data/20.txt\n"
          ]
        }
      ]
    },
    {
      "cell_type": "code",
      "source": [
        "#search_kwargs={'k':문서의 개수}를 선언하면 유사도 문저갯수가 지정한 갯수만큼 리턴해준다.\n",
        "retriever = vectordb.as_retriever(search_kwargs={'k':2})\n"
      ],
      "metadata": {
        "id": "kuwV_ujmPc4W"
      },
      "execution_count": null,
      "outputs": []
    },
    {
      "cell_type": "code",
      "source": [
        "docs = retriever.get_relevant_documents('갑상선에 도움이되는 음식이 있어?')\n",
        "for doc in docs:\n",
        "     print(doc.metadata['source'])"
      ],
      "metadata": {
        "colab": {
          "base_uri": "https://localhost:8080/"
        },
        "id": "OjMC05HcQpgY",
        "outputId": "f830fbb5-3706-477f-d7a8-be2b407c5d98"
      },
      "execution_count": null,
      "outputs": [
        {
          "output_type": "stream",
          "name": "stdout",
          "text": [
            "H_data/26.txt\n",
            "H_data/25.txt\n"
          ]
        }
      ]
    },
    {
      "cell_type": "markdown",
      "source": [
        "## MAKE a Chain\n",
        "\n",
        "```\n",
        "Use the following pieces of context to answer the users question.\n",
        "If you don't know the answer, just say that you don't know, don't try to make up an answer.\n",
        "----------------\n",
        "{텍스트}\n",
        "\n",
        "{질문}\n",
        "```"
      ],
      "metadata": {
        "id": "YiUD6yJ7Rn7N"
      }
    },
    {
      "cell_type": "code",
      "source": [
        "#RetrievalQA.from_chain_type( )함수의 llm 매개변수 값으로 ChatOpenAI( )를 지정하고,\n",
        "#내부매개변수로 model_name의 값으로 'gpt-3.5-turbo'를 지정하면 ChatGPT API를 사용할 수 있다.\n",
        "#temperature=0이면 같은 답변을 반환하고, 1이면 랜덤이 발생한다. 기본값은 1이다.\n",
        "#chain type= stuff 이면 내부적으로 위에있는 문장처럼 수행한다.\n",
        "#{텍스트}에는 입력데이터와 유사도가 높은 텍스트의 본문이 삽입되고, {질문}에는 입력텍스트가 삽입되는구조이다.\n",
        "#그동안 사용자가 직접 프롬프트를 작성한 것과 달리 이미 여기서는 이미 작성된 프롬프트를 사용한다.\n",
        "\n",
        "qa_chain = RetrievalQA.from_chain_type (\n",
        "    llm=ChatOpenAI(model_name='gpt-3.5-turbo', temperature=0),\n",
        "    chain_type = 'stuff',\n",
        "    retriever=retriever,\n",
        "    return_source_documents=True)\n"
      ],
      "metadata": {
        "id": "3uGrfjSkRtjZ"
      },
      "execution_count": null,
      "outputs": []
    },
    {
      "cell_type": "markdown",
      "source": [
        "Query"
      ],
      "metadata": {
        "id": "TXtJbzDhU1L-"
      }
    },
    {
      "cell_type": "code",
      "source": [
        "input_text = '당뇨와 관련된 질환이 궁금합니다'\n",
        "chatbot_response = qa_chain(input_text)\n",
        "print(chatbot_response)\n",
        "print(dir(chatbot_response))\n",
        "print(chatbot_response.keys)"
      ],
      "metadata": {
        "colab": {
          "base_uri": "https://localhost:8080/"
        },
        "id": "_Rx_Kd1xU2j-",
        "outputId": "4e90de06-cdc7-4d7e-c6c2-29c37783466f"
      },
      "execution_count": null,
      "outputs": [
        {
          "output_type": "stream",
          "name": "stdout",
          "text": [
            "{'query': '당뇨와 관련된 질환이 궁금합니다', 'result': '당뇨와 관련된 질환이 여러 가지 있을 수 있습니다. 일반적으로 당뇨병은 혈당 조절에 문제가 있는 질환으로, 만성적인 고혈당 상태가 지속되면 다양한 합병증이 발생할 수 있습니다. \\n\\n가장 흔한 당뇨 합병증은 신장 질환인 당뇨 신병입니다. 고혈당이 지속되면 신장의 혈관이 손상되어 신장 기능이 저하되고, 신장 손상에 따른 당뇨 신병이 발생할 수 있습니다. 이는 신장 기능 저하, 단백뇨, 고혈압 등으로 나타날 수 있습니다.\\n\\n또한, 당뇨로 인해 혈관 손상이 발생할 수 있으며, 이는 말초혈관 질환인 당뇨병 말초혈관병증을 일으킬 수 있습니다. 이는 손발의 혈액 공급이 저하되어 근육 통증, 근력 감퇴, 궤양, 궤양이 감염되어 근육을 파괴하는 등의 증상을 유발할 수 있습니다.\\n\\n또한, 당뇨로 인해 신경 손상이 발생할 수 있으며, 이는 당뇨 신경병증으로 알려져 있습니다. 이는 신경 손상으로 인해 손과 발의 감각 이상, 통증, 근육 약화 등의 증상을 유발할 수 있습니다.\\n\\n이 외에도 당뇨로 인해 발생할 수 있는 합병증으로는 당뇨망막병증, 당뇨 심장병, 당뇨 신경병증, 당뇨 발병증 등이 있습니다. 이러한 합병증은 당뇨의 혈당 조절을 철저히 관리하고, 건강한 생활습관을 유지하는 것이 중요합니다. 당뇨와 관련된 질환에 대해서는 당뇨 전문의와 상담하여 자세한 정보를 얻는 것이 좋습니다.', 'source_documents': [Document(page_content='피부질환이 동반되지 않은 경우 혈액검사를 통해 신장·간·갑상선 및 빈혈 수치 등을 확인하고 소변검사를 통한 당뇨여부, 흉부 X선 검사, 간염 및 매독, HIV(인간면역결핍바이러스) 항체 검사 등을 시행한다. 또한 필요시 악성 질환 감별을 위한 선별 검사를 진행한다. 이외에 신경학적, 정신적 요인을 확인하는 것도 중요하다.\\n\\n\\n\\n치료는 가려움증의 원인 제거 및 증상 완화를 위한 치료를 병행하는 것이 중요하다. 항히스타민제는 가려움 조절에 많이 사용되는 약이지만, 만성 가려움증 환자들에서는 아쉽게도 항히스타민의 효과가 제한적이다. 따라서 만성가려움증 환자들은 그동안 사이클로스포린과 같은 면역 조절제, 신경전달 체계를 조절하는 가바펜틴이나 아미트립틸린 등을 많이 복용했다.\\n\\n\\n\\n최근에는 생물학적 제제인 듀필루맙(Dupilumab)과 오말리주맙(Omalizumab)이 아토피피부염이나 만성두드러기와 관련된 가려움증 억제에 도움이 된다는 연구가 있고, 여러 염증 기전을 조절할 수 있는 야누스키나제(Janus kinase, JAK) 억제제가 가려움증에 큰 효과를 보인다는 사실이 밝혀졌다.\\n\\n\\n\\n국소 도포제로는 스테로이드, 칼시뉴린억제제가 염증 반응을 억제함으로써 가려움증을 완화시킬 수 있고 국소마취제, 캡사이신 크림과 패치도 도움이 될 수 있다. 또 피부를 차갑게 하는 쿨링 효과를 통해 가려움증을 완화시키는 칼라민 로션과 멘톨 로션, 그리고 인트린직 아이비젤과 같이 쿨링 효과와 보습효과를 동시에 가지는 도포제가 만성 가려움증 환자들에게 효과적으로 쓰이고 있다. 광선치료도 염증 반응 감소 및 신경 활성 감소를 통해 가려움증 치료에 안전하게 시도해볼 수 있다.\\n\\n다만 이러한 다양한 전신 치료와 국소 치료는 가려움증의 원인과 양상에 따라 효과가 다르게 나타날 수 있다. 따라서 피부과 전문의와의 상담을 통해 환자마다 개별화된 치료를 받는 것이 중요하다.', metadata={'source': 'H_data/30.txt'}), Document(page_content='유실되고 퇴행하는 과정에서 나타나는 노년의 질환들\\n\\n노화로 인해 심장이 확장되고 심벽은 두꺼워지며 심방과 심실도 조금씩 커지는 등 문제가 생기면 고혈압, 심부전, 허혈성 심질환, 부정맥 등 심혈관계 질환을 유발할 수 있다. 고혈압, 비만, 당뇨병 같은 질환을 이미 앓고 있는 경우라면 만성질환 자체가 심장에 영향을 끼쳐 만성 심부전을 유발하기도 한다.\\n\\n또 나이가 들면 뇌신경 세포 수와 무게가 10% 정도 감소하면서 뇌실이 커지게 되는데, 이 과정에서 신경계 손상이 일어나고 뇌혈관질환과 치매, 우울증, 섬망, 파킨슨병과 같은 다양한 신경계 및 뇌 질환이 나타난다. 기억력 감퇴와 판단력 저하, 언어장애 등이 동반되는 치매는 혈관성 치매와 알츠하이머가 있다. 파킨슨병은 운동신경이 둔화하고 떨림, 근육 강직, 굽은 자세 등을 보이는 진행형 신경 퇴행성 질환이다. 이외에도 천식·만성 폐기종·폐렴·폐암 등의 폐질환, 골다공증·관절염의 뼈관절 질환과 신장 비뇨기계의 질환 등 만성질환이 노년기 건강을 위협한다.\\n\\n이처럼 노인질환은 서서히 발생해 만성적으로 진행하기 때문에 무엇보다 질병의 조기 발견과 예방이 중요하다. 치료와 기능 회복을 병행해야 하며 만성질환으로 기능이 현저히 떨어진 노인에게는 장기적인 치료 방침과 재활치료를 통해 지속해서 관리한다.\\n\\n\\n\\n만성질환 관리가 노년기 삶의 질을 결정한다', metadata={'source': 'H_data/26.txt'})]}\n",
            "['__class__', '__class_getitem__', '__contains__', '__delattr__', '__delitem__', '__dir__', '__doc__', '__eq__', '__format__', '__ge__', '__getattribute__', '__getitem__', '__gt__', '__hash__', '__init__', '__init_subclass__', '__ior__', '__iter__', '__le__', '__len__', '__lt__', '__ne__', '__new__', '__or__', '__reduce__', '__reduce_ex__', '__repr__', '__reversed__', '__ror__', '__setattr__', '__setitem__', '__sizeof__', '__str__', '__subclasshook__', 'clear', 'copy', 'fromkeys', 'get', 'items', 'keys', 'pop', 'popitem', 'setdefault', 'update', 'values']\n",
            "<built-in method keys of dict object at 0x78c0c055f740>\n"
          ]
        }
      ]
    },
    {
      "cell_type": "code",
      "source": [
        "print(chatbot_response.keys())"
      ],
      "metadata": {
        "colab": {
          "base_uri": "https://localhost:8080/"
        },
        "id": "uyMS3klAZZ3Z",
        "outputId": "ec3f4580-b8b9-4709-b66d-e5e4287921cf"
      },
      "execution_count": null,
      "outputs": [
        {
          "output_type": "stream",
          "name": "stdout",
          "text": [
            "dict_keys(['query', 'result', 'source_documents'])\n"
          ]
        }
      ]
    },
    {
      "cell_type": "code",
      "source": [
        "def get_chatbot_response(chatbot_response):\n",
        "  print(chatbot_response['result'].strip())\n",
        "  print('\\n문서출처:')\n",
        "  for source in chatbot_response['source_documents']:\n",
        "     print(source.metadata['source'])"
      ],
      "metadata": {
        "id": "HlVGm3yNXBlO"
      },
      "execution_count": null,
      "outputs": []
    },
    {
      "cell_type": "code",
      "source": [
        "input_text = '당뇨를 예방할 방법이 있을까?'\n",
        "chatbot_response= qa_chain(input_text)\n",
        "get_chatbot_response(chatbot_response)"
      ],
      "metadata": {
        "colab": {
          "base_uri": "https://localhost:8080/"
        },
        "id": "QzAEbB5ZZ5O0",
        "outputId": "42286943-51c8-4590-f8ce-364450c7a182"
      },
      "execution_count": null,
      "outputs": [
        {
          "output_type": "stream",
          "name": "stdout",
          "text": [
            "당뇨병을 예방하기 위해서는 다음과 같은 방법들을 실천할 수 있습니다:\n",
            "\n",
            "1. 건강한 식습관 유지: 균형 잡힌 식단을 유지하고, 과다한 탄수화물과 당의 섭취를 제한하는 것이 중요합니다. 신선한 과일과 채소, 고기와 양파 등의 단백질을 포함한 식품을 섭취하는 것이 좋습니다.\n",
            "\n",
            "2. 체중 관리: 비만은 당뇨병 발병 위험을 증가시키므로, 건강한 체중을 유지하는 것이 중요합니다. 규칙적인 운동과 적절한 식단 조절을 통해 체중을 관리할 수 있습니다.\n",
            "\n",
            "3. 규칙적인 운동: 일주일에 최소 150분 이상의 유산소 운동을 실천하는 것이 좋습니다. 운동은 혈당 조절에 도움을 주고, 체중 감량과 근육 강화에도 도움이 됩니다.\n",
            "\n",
            "4. 스트레스 관리: 스트레스는 혈당 조절에 영향을 줄 수 있으므로, 스트레스를 관리하는 방법을 찾는 것이 중요합니다. 명상, 요가, 걷기 등의 활동을 통해 스트레스를 해소할 수 있습니다.\n",
            "\n",
            "5. 정기적인 건강 검진: 당뇨병의 초기 증상을 빠르게 발견하고 예방하기 위해 정기적인 건강 검진을 받는 것이 중요합니다. 혈당 수치와 다른 건강 지표를 모니터링하여 조기에 대처할 수 있습니다.\n",
            "\n",
            "이러한 예방 방법들을 실천하면 당뇨병 발병 위험을 줄일 수 있습니다. 하지만 개인의 상황에 따라 적절한 조언을 받기 위해 의사나 건강 전문가와 상담하는 것이 좋습니다.\n",
            "\n",
            "문서출처:\n",
            "H_data/28.txt\n",
            "H_data/25.txt\n"
          ]
        }
      ]
    },
    {
      "cell_type": "markdown",
      "source": [],
      "metadata": {
        "id": "Ozj6FOIFav32"
      }
    },
    {
      "cell_type": "code",
      "source": [
        "input_text = '가려움증 원인이 뭐야?'\n",
        "llm_response = qa_chain(input_text)\n",
        "get_chatbot_response(llm_response)"
      ],
      "metadata": {
        "colab": {
          "base_uri": "https://localhost:8080/"
        },
        "id": "IrTJepQUaxVc",
        "outputId": "0853508a-ff5b-42fd-b861-b99554551d55"
      },
      "execution_count": null,
      "outputs": [
        {
          "output_type": "stream",
          "name": "stdout",
          "text": [
            "가려움증의 원인은 다양할 수 있습니다. 일반적으로 피부질환, 전신 질환, 신경학적 원인, 정신적 원인 등이 가려움증을 유발할 수 있습니다. 피부질환으로는 피부건조증, 아토피피부염, 건선, 두드러기, 접촉 피부염, 편평태선, 결절성 양진, 옴, 곤충 물림, 무좀 등이 있습니다. 전신 질환으로는 만성 신장질환, 만성 간질환, 담즙 정체, 당뇨병, 갑상선 기능 항진 및 저하증, 고형암, 백혈병, 림프종, 진성적혈구증가증, 빈혈, 후천성면역결핍증 등이 있습니다. 신경학적 원인으로는 다발성 경화증, 상완요골 가려움증, 이상감각등신경통, 대상포진 등이 있습니다. 정신적 원인으로는 강박반응성 장애 등이 있습니다. 하지만 가려움증의 원인은 개인마다 다를 수 있으므로, 자세한 병력 청취와 진찰을 통해 원인을 찾는 것이 중요합니다.\n",
            "\n",
            "문서출처:\n",
            "H_data/30.txt\n",
            "H_data/30.txt\n"
          ]
        }
      ]
    },
    {
      "cell_type": "code",
      "source": [
        "query= \"가려움증을 예방하려면?\"\n",
        "llm_response = qa_chain(query)\n",
        "get_chatbot_response(llm_response)"
      ],
      "metadata": {
        "colab": {
          "base_uri": "https://localhost:8080/"
        },
        "id": "6BUEcy9Vb-1W",
        "outputId": "635c7263-4976-4ab7-cb12-88b1de4fad5f"
      },
      "execution_count": null,
      "outputs": [
        {
          "output_type": "stream",
          "name": "stdout",
          "text": [
            "가려움증을 예방하기 위해서는 다음과 같은 조치를 취할 수 있습니다:\n",
            "\n",
            "1. 피부를 적절하게 보호하세요: 피부를 건강하게 유지하기 위해 적절한 보습제를 사용하고, 피부를 건조하게 만드는 요인을 피하세요. 또한 피부를 자극하는 화학물질이나 알레르기 원인물질을 피하도록 주의하세요.\n",
            "\n",
            "2. 스트레스를 관리하세요: 스트레스는 가려움증을 악화시킬 수 있는 요인입니다. 스트레스 관리 기술을 사용하여 스트레스를 줄이고, 신체와 마음의 안정을 유지하세요.\n",
            "\n",
            "3. 옷차림과 환경을 조절하세요: 피부를 자극하는 옷이나 환경 요인을 피하고, 피부를 보호할 수 있는 옷을 착용하세요. 또한 건조한 환경에서는 가습기를 사용하여 공기를 적절하게 유지하세요.\n",
            "\n",
            "4. 올바른 식습관을 유지하세요: 올바른 식습관은 피부 건강에도 중요한 역할을 합니다. 식이 섬유를 충분히 섭취하고, 수분을 충분히 섭취하여 피부를 건강하게 유지하세요.\n",
            "\n",
            "5. 알레르기 원인물질을 피하세요: 알레르기 반응을 유발하는 원인물질을 피하고, 알레르기 테스트를 받아 알레르기를 관리하세요.\n",
            "\n",
            "6. 피부 관리를 철저히 하세요: 피부를 깨끗하게 유지하고, 적절한 피부 관리 제품을 사용하여 피부를 보호하세요. 피부에 자극을 주는 화학물질이나 알레르기 원인물질을 피하도록 주의하세요.\n",
            "\n",
            "7. 의사와 상담하세요: 만성 가려움증이나 피부 질환의 경우, 피부과 전문의와 상담하여 개별화된 치료 방법을 받으세요. 의사의 지도를 따르면 가려움증을 예방하고 관리할 수 있습니다.\n",
            "\n",
            "문서출처:\n",
            "H_data/30.txt\n",
            "H_data/30.txt\n"
          ]
        }
      ]
    },
    {
      "cell_type": "code",
      "source": [
        "query= \"불면증에대해서 알려줘\"\n",
        "llm_response = qa_chain(query)\n",
        "get_chatbot_response(llm_response)"
      ],
      "metadata": {
        "colab": {
          "base_uri": "https://localhost:8080/"
        },
        "id": "kot81eyHci8m",
        "outputId": "4ac17be7-1d80-4cb9-a159-00c70b6070bb"
      },
      "execution_count": null,
      "outputs": [
        {
          "output_type": "stream",
          "name": "stdout",
          "text": [
            "불면증은 잠들기 어렵거나, 잠이 들어도 자주 깨거나, 새벽에 일찍 깨서 잠이 안 오는 증상이 복합적으로 나타나는 질환이다. 불면증은 누구나 한 번쯤 겪을 수 있지만, 주 3회 이상, 3개월 이상 지속되면 만성 불면증으로 분류된다.\n",
            "\n",
            "급성 불면증은 다음날 중요한 시험 등 신경 쓰이는 일이 있거나 스트레스, 우울, 불안, 통증, 카페인, 술, 질병, 환경 등이 주요 원인이며, 유발 요인 없이 나타나기도 한다. 원인을 제거하면 자연스럽게 호전될 수 있다. 수면 위생을 잘 지키고 불면증을 악화시키는 심리적, 인지적, 행동적 요인들을 중재하는 인지행동치료가 도움이 될 수 있다.\n",
            "\n",
            "만성 불면증의 경우 불면증 외에도 다른 수면질환이 동반됐거나, 다른 수면질환이 불면증처럼 보이는 것일 수도 있다. 이러한 질환들은 단순 불면증과는 치료 방법이 다르므로 잘 감별해 함께 치료하는 것이 중요하다.\n",
            "\n",
            "불면증은 누구나 한 번쯤 겪을 수 있지만, 만성 불면증은 주의가 필요하며, 적절한 치료를 받아야 한다. 만성 불면증의 경우 수면 병력 확인, 수면 일기 작성, 수면각성활동량검사 등을 통해 정확한 진단을 받고 적절한 치료 방법을 선택해야 한다.\n",
            "\n",
            "문서출처:\n",
            "H_data/7.txt\n",
            "H_data/7.txt\n"
          ]
        }
      ]
    },
    {
      "cell_type": "code",
      "source": [
        "query= \"생리통이 너무 심해\"\n",
        "llm_response = qa_chain(query)\n",
        "get_chatbot_response(llm_response)"
      ],
      "metadata": {
        "colab": {
          "base_uri": "https://localhost:8080/"
        },
        "id": "xAoMDkasdWS1",
        "outputId": "c6f54df4-f023-44b8-d3c4-2fd062dcb434"
      },
      "execution_count": null,
      "outputs": [
        {
          "output_type": "stream",
          "name": "stdout",
          "text": [
            "생리통이 심한 경우, 자궁내막종을 의심해볼 수 있습니다. 자궁내막종은 극심한 월경통을 유발할 수 있으며, 난임과 관련된 문제도 초래할 수 있습니다. 자궁내막종은 건강검진을 통해 발견되는 경우가 많으며, 조기 치료가 필요합니다. 자세한 진단과 치료는 의사와 상담하여 결정해야 합니다.\n",
            "\n",
            "문서출처:\n",
            "H_data/18.txt\n",
            "H_data/5.txt\n"
          ]
        }
      ]
    },
    {
      "cell_type": "code",
      "source": [
        "print(chatbot_response)\n",
        "print('-------------')\n",
        "chatbot_response"
      ],
      "metadata": {
        "colab": {
          "base_uri": "https://localhost:8080/"
        },
        "id": "sZLJHOfUaz7v",
        "outputId": "08a0845e-8b5d-4ce7-880a-ff78fb012295"
      },
      "execution_count": null,
      "outputs": [
        {
          "output_type": "stream",
          "name": "stdout",
          "text": [
            "{'query': '당뇨를 예방할 방법이 있을까?', 'result': '당뇨병을 예방하기 위해서는 다음과 같은 방법들을 실천할 수 있습니다:\\n\\n1. 건강한 식습관 유지: 균형 잡힌 식단을 유지하고, 과다한 탄수화물과 당의 섭취를 제한하는 것이 중요합니다. 신선한 과일과 채소, 고기와 양파 등의 단백질을 포함한 식품을 섭취하는 것이 좋습니다.\\n\\n2. 체중 관리: 비만은 당뇨병 발병 위험을 증가시키므로, 건강한 체중을 유지하는 것이 중요합니다. 규칙적인 운동과 적절한 식단 조절을 통해 체중을 관리할 수 있습니다.\\n\\n3. 규칙적인 운동: 일주일에 최소 150분 이상의 유산소 운동을 실천하는 것이 좋습니다. 운동은 혈당 조절에 도움을 주고, 체중 감량과 근육 강화에도 도움이 됩니다.\\n\\n4. 스트레스 관리: 스트레스는 혈당 조절에 영향을 줄 수 있으므로, 스트레스를 관리하는 방법을 찾는 것이 중요합니다. 명상, 요가, 걷기 등의 활동을 통해 스트레스를 해소할 수 있습니다.\\n\\n5. 정기적인 건강 검진: 당뇨병의 초기 증상을 빠르게 발견하고 예방하기 위해 정기적인 건강 검진을 받는 것이 중요합니다. 혈당 수치와 다른 건강 지표를 모니터링하여 조기에 대처할 수 있습니다.\\n\\n이러한 예방 방법들을 실천하면 당뇨병 발병 위험을 줄일 수 있습니다. 하지만 개인의 상황에 따라 적절한 조언을 받기 위해 의사나 건강 전문가와 상담하는 것이 좋습니다.', 'source_documents': [Document(page_content='먼저 정기검진에서 당뇨병 전단계라는 진단을 받게 되면 규칙적인 식습관, 균형적인 식단과 함께 운동 시작을 권한다. 비만이라면 체중감량을 하는 것도 도움이 된다. 무엇보다 1년에 1회 정기적인 검사는 필수다. 당뇨병 고위험군의 경우 운동, 식이조절을 통해 체중 조절 시 당뇨병 발생을 예방함은 물론 효과가 10여 년 이상 지속된다는 연구 결과도 있다.\\n\\n\\n\\n김은숙 교수는 “우리가 안경을 쓰는 것을 완전히 치료했다고 하지 않듯 당뇨병도 마찬가지다. 혈당을 잘 관리하면 합병증을 예방할 수 있고 불편 없이 일상생활을 누릴 수 있다. 또 초기에 혈당 관리를 잘하면 이후에도 고혈당으로 인한 질환 발생 위험을 크게 감소시킬 수 있다”고 강조했다.\\n\\n\\n\\n치료 시 혈당 변동폭 확인이 중요… 개인별 ‘맞춤치료’ 권고\\n\\n\\n\\n당뇨병을 치료할 때는 하루 동안 최고 혈당과 최저 혈당의 차이인 혈당 변동폭을 확인하고 얼마나 안정적으로 조절되는지 확인하는 것이 중요하다. 혈당이 급격하게 변할수록 혈관 속 산화스트레스가 증가해 혈관의 내피세포를 자극하고 동맥경화를 부르는 등 혈관을 병들게 하기 때문이다. 또 혈당 변동폭은 하루 중 최고 혈당과 최저 혈당에 달려 있기 때문에 저혈당, 고혈당과도 연관이 깊다. 적절한 수치에서 큰 병이 없도록 관리하는 것이 중요하다.\\n\\n\\n\\n당뇨병을 잘 다스리면 혈당 변동폭이 크지 않다. 하지만 조절이 안 되는 경우에는 약제의 작용 시간이나 복용량, 먹는 음식의 양, 운동 여부에 따라 혈당이 수시로 변해 변동폭이 커진다. 이때 혈당 변동폭을 지표 삼아 치료제와 함께 다각적 치료를 통해 혈당 변동폭을 관리하게 된다.\\n\\n\\n\\n당뇨병 환자는 정상인과 같은 양의 음식을 먹어도 혈중 포도당 수치가 과도하게 높아 음식을 조금씩 여러 번 나눠 먹는 습관을 갖는 것이 좋다. 일반적으로 탄수화물은 총열량의 50~60%, 지방과 단백질은 각각 20% 내외로 섭취하도록 권고한다. 다만 식습관, 기호도, 치료 목표에 따라 개별 적용할 수 있다.', metadata={'source': 'H_data/28.txt'}), Document(page_content='당뇨 환자, 건강한 설 보내기\\n\\n\\n당뇨병을 앓고 있는 환자에게 명절은 이래저래 고민거리를 가져다 주기도 하는데, 실제 명절 후에 평소보다 혈당이 높아지는 경향을 보이기 때문이다. 명절이면 자고로 가족과 함께 정성을 다해 만드는 음식이 떠오르는데, 평소 먹기 쉽지 않고 맛이 좋아 자꾸 손이 가게 된다. 하지만 영양학적으로는 열량을 많이 함유하고 있을 뿐만 아니라 기름져 자칫 혈당이나 체중 조절에 어려움을 겪게 한다. 그렇다면 당뇨병 환자가 명절을 슬기롭게 보내려면 어떤 걸 주의해야 할까?\\n\\n우선, 과식하지 않는 것이 가장 중요하다. 명절에는 여러 종류의 음식이 있어 조금씩만 먹더라도 과식하기 쉬우며, 대부분 열량이 높고 기름진 음식이라 혈당 및 체중 조절이 어렵다. 최대한 먹더라도 평소 포만감을 느낄 정도로만 먹는 것이 좋으며, 얼핏 보았을 때 달고 기름진 것은 피해야 한다.\\n\\n또한, 먹은 양과 운동량의 균형을 맞추어야 한다. 계속 망설이다가 하는 군것질 후에는 혈당을 떨어트리기 위해 보통 생각하는 것보다 운동을 훨씬 많이 해야 한다. 평소 정해진 식단 이외 추가로 섭취한 음식이나 간식의 열량을 알아본 후, 섭취 열량과 운동량의 균형을 따져보아야 한다.\\n\\n도로 사정이 좋지 않은 명절에는 당뇨병 약을 복용 중인 환자의 경우 정해진 식사 시간을 놓친다면 저혈당에 빠질 위험이 있다. 장거리 운전을 한다면 저혈당 대비용 사탕을 가지고 다녀야 하며, 무엇보다 안전수칙에 맞추어 쉬엄쉬엄 운전하는 것이 좋다.\\n\\n평소 바쁘다는 이유로 지키지 못했던 당뇨병 환자는 스스로 자신의 모습을 다시 되짚어보는 것이 좋다. 긴 명절 연휴에 생활수칙을 잘 지킬 수 있을지, 아니면 평소에도 충실한 생활로 잘 지킬 수 있었던 수칙은 아니었는지 스스로 판단해본다.', metadata={'source': 'H_data/25.txt'})]}\n",
            "-------------\n"
          ]
        },
        {
          "output_type": "execute_result",
          "data": {
            "text/plain": [
              "{'query': '당뇨를 예방할 방법이 있을까?',\n",
              " 'result': '당뇨병을 예방하기 위해서는 다음과 같은 방법들을 실천할 수 있습니다:\\n\\n1. 건강한 식습관 유지: 균형 잡힌 식단을 유지하고, 과다한 탄수화물과 당의 섭취를 제한하는 것이 중요합니다. 신선한 과일과 채소, 고기와 양파 등의 단백질을 포함한 식품을 섭취하는 것이 좋습니다.\\n\\n2. 체중 관리: 비만은 당뇨병 발병 위험을 증가시키므로, 건강한 체중을 유지하는 것이 중요합니다. 규칙적인 운동과 적절한 식단 조절을 통해 체중을 관리할 수 있습니다.\\n\\n3. 규칙적인 운동: 일주일에 최소 150분 이상의 유산소 운동을 실천하는 것이 좋습니다. 운동은 혈당 조절에 도움을 주고, 체중 감량과 근육 강화에도 도움이 됩니다.\\n\\n4. 스트레스 관리: 스트레스는 혈당 조절에 영향을 줄 수 있으므로, 스트레스를 관리하는 방법을 찾는 것이 중요합니다. 명상, 요가, 걷기 등의 활동을 통해 스트레스를 해소할 수 있습니다.\\n\\n5. 정기적인 건강 검진: 당뇨병의 초기 증상을 빠르게 발견하고 예방하기 위해 정기적인 건강 검진을 받는 것이 중요합니다. 혈당 수치와 다른 건강 지표를 모니터링하여 조기에 대처할 수 있습니다.\\n\\n이러한 예방 방법들을 실천하면 당뇨병 발병 위험을 줄일 수 있습니다. 하지만 개인의 상황에 따라 적절한 조언을 받기 위해 의사나 건강 전문가와 상담하는 것이 좋습니다.',\n",
              " 'source_documents': [Document(page_content='먼저 정기검진에서 당뇨병 전단계라는 진단을 받게 되면 규칙적인 식습관, 균형적인 식단과 함께 운동 시작을 권한다. 비만이라면 체중감량을 하는 것도 도움이 된다. 무엇보다 1년에 1회 정기적인 검사는 필수다. 당뇨병 고위험군의 경우 운동, 식이조절을 통해 체중 조절 시 당뇨병 발생을 예방함은 물론 효과가 10여 년 이상 지속된다는 연구 결과도 있다.\\n\\n\\n\\n김은숙 교수는 “우리가 안경을 쓰는 것을 완전히 치료했다고 하지 않듯 당뇨병도 마찬가지다. 혈당을 잘 관리하면 합병증을 예방할 수 있고 불편 없이 일상생활을 누릴 수 있다. 또 초기에 혈당 관리를 잘하면 이후에도 고혈당으로 인한 질환 발생 위험을 크게 감소시킬 수 있다”고 강조했다.\\n\\n\\n\\n치료 시 혈당 변동폭 확인이 중요… 개인별 ‘맞춤치료’ 권고\\n\\n\\n\\n당뇨병을 치료할 때는 하루 동안 최고 혈당과 최저 혈당의 차이인 혈당 변동폭을 확인하고 얼마나 안정적으로 조절되는지 확인하는 것이 중요하다. 혈당이 급격하게 변할수록 혈관 속 산화스트레스가 증가해 혈관의 내피세포를 자극하고 동맥경화를 부르는 등 혈관을 병들게 하기 때문이다. 또 혈당 변동폭은 하루 중 최고 혈당과 최저 혈당에 달려 있기 때문에 저혈당, 고혈당과도 연관이 깊다. 적절한 수치에서 큰 병이 없도록 관리하는 것이 중요하다.\\n\\n\\n\\n당뇨병을 잘 다스리면 혈당 변동폭이 크지 않다. 하지만 조절이 안 되는 경우에는 약제의 작용 시간이나 복용량, 먹는 음식의 양, 운동 여부에 따라 혈당이 수시로 변해 변동폭이 커진다. 이때 혈당 변동폭을 지표 삼아 치료제와 함께 다각적 치료를 통해 혈당 변동폭을 관리하게 된다.\\n\\n\\n\\n당뇨병 환자는 정상인과 같은 양의 음식을 먹어도 혈중 포도당 수치가 과도하게 높아 음식을 조금씩 여러 번 나눠 먹는 습관을 갖는 것이 좋다. 일반적으로 탄수화물은 총열량의 50~60%, 지방과 단백질은 각각 20% 내외로 섭취하도록 권고한다. 다만 식습관, 기호도, 치료 목표에 따라 개별 적용할 수 있다.', metadata={'source': 'H_data/28.txt'}),\n",
              "  Document(page_content='당뇨 환자, 건강한 설 보내기\\n\\n\\n당뇨병을 앓고 있는 환자에게 명절은 이래저래 고민거리를 가져다 주기도 하는데, 실제 명절 후에 평소보다 혈당이 높아지는 경향을 보이기 때문이다. 명절이면 자고로 가족과 함께 정성을 다해 만드는 음식이 떠오르는데, 평소 먹기 쉽지 않고 맛이 좋아 자꾸 손이 가게 된다. 하지만 영양학적으로는 열량을 많이 함유하고 있을 뿐만 아니라 기름져 자칫 혈당이나 체중 조절에 어려움을 겪게 한다. 그렇다면 당뇨병 환자가 명절을 슬기롭게 보내려면 어떤 걸 주의해야 할까?\\n\\n우선, 과식하지 않는 것이 가장 중요하다. 명절에는 여러 종류의 음식이 있어 조금씩만 먹더라도 과식하기 쉬우며, 대부분 열량이 높고 기름진 음식이라 혈당 및 체중 조절이 어렵다. 최대한 먹더라도 평소 포만감을 느낄 정도로만 먹는 것이 좋으며, 얼핏 보았을 때 달고 기름진 것은 피해야 한다.\\n\\n또한, 먹은 양과 운동량의 균형을 맞추어야 한다. 계속 망설이다가 하는 군것질 후에는 혈당을 떨어트리기 위해 보통 생각하는 것보다 운동을 훨씬 많이 해야 한다. 평소 정해진 식단 이외 추가로 섭취한 음식이나 간식의 열량을 알아본 후, 섭취 열량과 운동량의 균형을 따져보아야 한다.\\n\\n도로 사정이 좋지 않은 명절에는 당뇨병 약을 복용 중인 환자의 경우 정해진 식사 시간을 놓친다면 저혈당에 빠질 위험이 있다. 장거리 운전을 한다면 저혈당 대비용 사탕을 가지고 다녀야 하며, 무엇보다 안전수칙에 맞추어 쉬엄쉬엄 운전하는 것이 좋다.\\n\\n평소 바쁘다는 이유로 지키지 못했던 당뇨병 환자는 스스로 자신의 모습을 다시 되짚어보는 것이 좋다. 긴 명절 연휴에 생활수칙을 잘 지킬 수 있을지, 아니면 평소에도 충실한 생활로 잘 지킬 수 있었던 수칙은 아니었는지 스스로 판단해본다.', metadata={'source': 'H_data/25.txt'})]}"
            ]
          },
          "metadata": {},
          "execution_count": 35
        }
      ]
    },
    {
      "cell_type": "markdown",
      "source": [
        "### Gradio 챗봇의 UI 만들기\n"
      ],
      "metadata": {
        "id": "UX4u8uhnesku"
      }
    },
    {
      "cell_type": "code",
      "source": [
        "!pip install gradio==3.40.1"
      ],
      "metadata": {
        "colab": {
          "base_uri": "https://localhost:8080/"
        },
        "id": "WEl5eDZaea0t",
        "outputId": "94b50021-e078-4087-84f9-bda08a46a0af"
      },
      "execution_count": null,
      "outputs": [
        {
          "output_type": "stream",
          "name": "stdout",
          "text": [
            "Collecting gradio==3.40.1\n",
            "  Downloading gradio-3.40.1-py3-none-any.whl (20.0 MB)\n",
            "\u001b[2K     \u001b[90m━━━━━━━━━━━━━━━━━━━━━━━━━━━━━━━━━━━━━━━━\u001b[0m \u001b[32m20.0/20.0 MB\u001b[0m \u001b[31m53.5 MB/s\u001b[0m eta \u001b[36m0:00:00\u001b[0m\n",
            "\u001b[?25hCollecting aiofiles<24.0,>=22.0 (from gradio==3.40.1)\n",
            "  Downloading aiofiles-23.2.1-py3-none-any.whl (15 kB)\n",
            "Requirement already satisfied: aiohttp~=3.0 in /usr/local/lib/python3.10/dist-packages (from gradio==3.40.1) (3.9.1)\n",
            "Requirement already satisfied: altair<6.0,>=4.2.0 in /usr/local/lib/python3.10/dist-packages (from gradio==3.40.1) (4.2.2)\n",
            "Requirement already satisfied: fastapi in /usr/local/lib/python3.10/dist-packages (from gradio==3.40.1) (0.108.0)\n",
            "Collecting ffmpy (from gradio==3.40.1)\n",
            "  Downloading ffmpy-0.3.1.tar.gz (5.5 kB)\n",
            "  Preparing metadata (setup.py) ... \u001b[?25l\u001b[?25hdone\n",
            "Collecting gradio-client>=0.4.0 (from gradio==3.40.1)\n",
            "  Downloading gradio_client-0.8.0-py3-none-any.whl (305 kB)\n",
            "\u001b[2K     \u001b[90m━━━━━━━━━━━━━━━━━━━━━━━━━━━━━━━━━━━━━━━━\u001b[0m \u001b[32m305.1/305.1 kB\u001b[0m \u001b[31m25.0 MB/s\u001b[0m eta \u001b[36m0:00:00\u001b[0m\n",
            "\u001b[?25hCollecting httpx (from gradio==3.40.1)\n",
            "  Downloading httpx-0.26.0-py3-none-any.whl (75 kB)\n",
            "\u001b[2K     \u001b[90m━━━━━━━━━━━━━━━━━━━━━━━━━━━━━━━━━━━━━━━━\u001b[0m \u001b[32m75.9/75.9 kB\u001b[0m \u001b[31m9.6 MB/s\u001b[0m eta \u001b[36m0:00:00\u001b[0m\n",
            "\u001b[?25hRequirement already satisfied: huggingface-hub>=0.14.0 in /usr/local/lib/python3.10/dist-packages (from gradio==3.40.1) (0.20.1)\n",
            "Requirement already satisfied: importlib-resources<7.0,>=1.3 in /usr/local/lib/python3.10/dist-packages (from gradio==3.40.1) (6.1.1)\n",
            "Requirement already satisfied: jinja2<4.0 in /usr/local/lib/python3.10/dist-packages (from gradio==3.40.1) (3.1.2)\n",
            "Requirement already satisfied: markdown-it-py[linkify]>=2.0.0 in /usr/local/lib/python3.10/dist-packages (from gradio==3.40.1) (3.0.0)\n",
            "Requirement already satisfied: markupsafe~=2.0 in /usr/local/lib/python3.10/dist-packages (from gradio==3.40.1) (2.1.3)\n",
            "Requirement already satisfied: matplotlib~=3.0 in /usr/local/lib/python3.10/dist-packages (from gradio==3.40.1) (3.7.1)\n",
            "Collecting mdit-py-plugins<=0.3.3 (from gradio==3.40.1)\n",
            "  Downloading mdit_py_plugins-0.3.3-py3-none-any.whl (50 kB)\n",
            "\u001b[2K     \u001b[90m━━━━━━━━━━━━━━━━━━━━━━━━━━━━━━━━━━━━━━━━\u001b[0m \u001b[32m50.5/50.5 kB\u001b[0m \u001b[31m6.4 MB/s\u001b[0m eta \u001b[36m0:00:00\u001b[0m\n",
            "\u001b[?25hRequirement already satisfied: numpy~=1.0 in /usr/local/lib/python3.10/dist-packages (from gradio==3.40.1) (1.23.5)\n",
            "Collecting orjson~=3.0 (from gradio==3.40.1)\n",
            "  Downloading orjson-3.9.10-cp310-cp310-manylinux_2_17_x86_64.manylinux2014_x86_64.whl (138 kB)\n",
            "\u001b[2K     \u001b[90m━━━━━━━━━━━━━━━━━━━━━━━━━━━━━━━━━━━━━━━━\u001b[0m \u001b[32m138.7/138.7 kB\u001b[0m \u001b[31m16.8 MB/s\u001b[0m eta \u001b[36m0:00:00\u001b[0m\n",
            "\u001b[?25hRequirement already satisfied: packaging in /usr/local/lib/python3.10/dist-packages (from gradio==3.40.1) (23.2)\n",
            "Requirement already satisfied: pandas<3.0,>=1.0 in /usr/local/lib/python3.10/dist-packages (from gradio==3.40.1) (1.5.3)\n",
            "Requirement already satisfied: pillow<11.0,>=8.0 in /usr/local/lib/python3.10/dist-packages (from gradio==3.40.1) (9.4.0)\n",
            "Requirement already satisfied: pydantic!=1.8,!=1.8.1,!=2.0.0,!=2.0.1,<3.0.0,>=1.7.4 in /usr/local/lib/python3.10/dist-packages (from gradio==3.40.1) (1.10.13)\n",
            "Collecting pydub (from gradio==3.40.1)\n",
            "  Downloading pydub-0.25.1-py2.py3-none-any.whl (32 kB)\n",
            "Collecting python-multipart (from gradio==3.40.1)\n",
            "  Downloading python_multipart-0.0.6-py3-none-any.whl (45 kB)\n",
            "\u001b[2K     \u001b[90m━━━━━━━━━━━━━━━━━━━━━━━━━━━━━━━━━━━━━━━━\u001b[0m \u001b[32m45.7/45.7 kB\u001b[0m \u001b[31m4.4 MB/s\u001b[0m eta \u001b[36m0:00:00\u001b[0m\n",
            "\u001b[?25hRequirement already satisfied: pyyaml<7.0,>=5.0 in /usr/local/lib/python3.10/dist-packages (from gradio==3.40.1) (6.0.1)\n",
            "Requirement already satisfied: requests~=2.0 in /usr/local/lib/python3.10/dist-packages (from gradio==3.40.1) (2.31.0)\n",
            "Collecting semantic-version~=2.0 (from gradio==3.40.1)\n",
            "  Downloading semantic_version-2.10.0-py2.py3-none-any.whl (15 kB)\n",
            "Requirement already satisfied: typing-extensions~=4.0 in /usr/local/lib/python3.10/dist-packages (from gradio==3.40.1) (4.9.0)\n",
            "Requirement already satisfied: uvicorn>=0.14.0 in /usr/local/lib/python3.10/dist-packages (from gradio==3.40.1) (0.25.0)\n",
            "Collecting websockets<12.0,>=10.0 (from gradio==3.40.1)\n",
            "  Downloading websockets-11.0.3-cp310-cp310-manylinux_2_5_x86_64.manylinux1_x86_64.manylinux_2_17_x86_64.manylinux2014_x86_64.whl (129 kB)\n",
            "\u001b[2K     \u001b[90m━━━━━━━━━━━━━━━━━━━━━━━━━━━━━━━━━━━━━━━━\u001b[0m \u001b[32m129.9/129.9 kB\u001b[0m \u001b[31m7.7 MB/s\u001b[0m eta \u001b[36m0:00:00\u001b[0m\n",
            "\u001b[?25hRequirement already satisfied: attrs>=17.3.0 in /usr/local/lib/python3.10/dist-packages (from aiohttp~=3.0->gradio==3.40.1) (23.1.0)\n",
            "Requirement already satisfied: multidict<7.0,>=4.5 in /usr/local/lib/python3.10/dist-packages (from aiohttp~=3.0->gradio==3.40.1) (6.0.4)\n",
            "Requirement already satisfied: yarl<2.0,>=1.0 in /usr/local/lib/python3.10/dist-packages (from aiohttp~=3.0->gradio==3.40.1) (1.9.4)\n",
            "Requirement already satisfied: frozenlist>=1.1.1 in /usr/local/lib/python3.10/dist-packages (from aiohttp~=3.0->gradio==3.40.1) (1.4.1)\n",
            "Requirement already satisfied: aiosignal>=1.1.2 in /usr/local/lib/python3.10/dist-packages (from aiohttp~=3.0->gradio==3.40.1) (1.3.1)\n",
            "Requirement already satisfied: async-timeout<5.0,>=4.0 in /usr/local/lib/python3.10/dist-packages (from aiohttp~=3.0->gradio==3.40.1) (4.0.3)\n",
            "Requirement already satisfied: entrypoints in /usr/local/lib/python3.10/dist-packages (from altair<6.0,>=4.2.0->gradio==3.40.1) (0.4)\n",
            "Requirement already satisfied: jsonschema>=3.0 in /usr/local/lib/python3.10/dist-packages (from altair<6.0,>=4.2.0->gradio==3.40.1) (4.19.2)\n",
            "Requirement already satisfied: toolz in /usr/local/lib/python3.10/dist-packages (from altair<6.0,>=4.2.0->gradio==3.40.1) (0.12.0)\n",
            "Requirement already satisfied: fsspec in /usr/local/lib/python3.10/dist-packages (from gradio-client>=0.4.0->gradio==3.40.1) (2023.6.0)\n",
            "Requirement already satisfied: filelock in /usr/local/lib/python3.10/dist-packages (from huggingface-hub>=0.14.0->gradio==3.40.1) (3.13.1)\n",
            "Requirement already satisfied: tqdm>=4.42.1 in /usr/local/lib/python3.10/dist-packages (from huggingface-hub>=0.14.0->gradio==3.40.1) (4.66.1)\n",
            "Requirement already satisfied: mdurl~=0.1 in /usr/local/lib/python3.10/dist-packages (from markdown-it-py[linkify]>=2.0.0->gradio==3.40.1) (0.1.2)\n",
            "Requirement already satisfied: linkify-it-py<3,>=1 in /usr/local/lib/python3.10/dist-packages (from markdown-it-py[linkify]>=2.0.0->gradio==3.40.1) (2.0.2)\n",
            "Requirement already satisfied: contourpy>=1.0.1 in /usr/local/lib/python3.10/dist-packages (from matplotlib~=3.0->gradio==3.40.1) (1.2.0)\n",
            "Requirement already satisfied: cycler>=0.10 in /usr/local/lib/python3.10/dist-packages (from matplotlib~=3.0->gradio==3.40.1) (0.12.1)\n",
            "Requirement already satisfied: fonttools>=4.22.0 in /usr/local/lib/python3.10/dist-packages (from matplotlib~=3.0->gradio==3.40.1) (4.47.0)\n",
            "Requirement already satisfied: kiwisolver>=1.0.1 in /usr/local/lib/python3.10/dist-packages (from matplotlib~=3.0->gradio==3.40.1) (1.4.5)\n",
            "Requirement already satisfied: pyparsing>=2.3.1 in /usr/local/lib/python3.10/dist-packages (from matplotlib~=3.0->gradio==3.40.1) (3.1.1)\n",
            "Requirement already satisfied: python-dateutil>=2.7 in /usr/local/lib/python3.10/dist-packages (from matplotlib~=3.0->gradio==3.40.1) (2.8.2)\n",
            "INFO: pip is looking at multiple versions of mdit-py-plugins to determine which version is compatible with other requirements. This could take a while.\n",
            "Collecting mdit-py-plugins<=0.3.3 (from gradio==3.40.1)\n",
            "  Downloading mdit_py_plugins-0.3.2-py3-none-any.whl (50 kB)\n",
            "\u001b[2K     \u001b[90m━━━━━━━━━━━━━━━━━━━━━━━━━━━━━━━━━━━━━━━━\u001b[0m \u001b[32m50.4/50.4 kB\u001b[0m \u001b[31m6.2 MB/s\u001b[0m eta \u001b[36m0:00:00\u001b[0m\n",
            "\u001b[?25h  Downloading mdit_py_plugins-0.3.1-py3-none-any.whl (46 kB)\n",
            "\u001b[2K     \u001b[90m━━━━━━━━━━━━━━━━━━━━━━━━━━━━━━━━━━━━━━━━\u001b[0m \u001b[32m46.5/46.5 kB\u001b[0m \u001b[31m5.7 MB/s\u001b[0m eta \u001b[36m0:00:00\u001b[0m\n",
            "\u001b[?25h  Downloading mdit_py_plugins-0.3.0-py3-none-any.whl (43 kB)\n",
            "\u001b[2K     \u001b[90m━━━━━━━━━━━━━━━━━━━━━━━━━━━━━━━━━━━━━━━━\u001b[0m \u001b[32m43.7/43.7 kB\u001b[0m \u001b[31m4.9 MB/s\u001b[0m eta \u001b[36m0:00:00\u001b[0m\n",
            "\u001b[?25h  Downloading mdit_py_plugins-0.2.8-py3-none-any.whl (41 kB)\n",
            "\u001b[2K     \u001b[90m━━━━━━━━━━━━━━━━━━━━━━━━━━━━━━━━━━━━━━━━\u001b[0m \u001b[32m41.0/41.0 kB\u001b[0m \u001b[31m4.9 MB/s\u001b[0m eta \u001b[36m0:00:00\u001b[0m\n",
            "\u001b[?25h  Downloading mdit_py_plugins-0.2.7-py3-none-any.whl (41 kB)\n",
            "\u001b[2K     \u001b[90m━━━━━━━━━━━━━━━━━━━━━━━━━━━━━━━━━━━━━━━━\u001b[0m \u001b[32m41.0/41.0 kB\u001b[0m \u001b[31m4.8 MB/s\u001b[0m eta \u001b[36m0:00:00\u001b[0m\n",
            "\u001b[?25h  Downloading mdit_py_plugins-0.2.6-py3-none-any.whl (39 kB)\n",
            "  Downloading mdit_py_plugins-0.2.5-py3-none-any.whl (39 kB)\n",
            "INFO: pip is looking at multiple versions of mdit-py-plugins to determine which version is compatible with other requirements. This could take a while.\n",
            "  Downloading mdit_py_plugins-0.2.4-py3-none-any.whl (39 kB)\n",
            "  Downloading mdit_py_plugins-0.2.3-py3-none-any.whl (39 kB)\n",
            "  Downloading mdit_py_plugins-0.2.2-py3-none-any.whl (39 kB)\n",
            "  Downloading mdit_py_plugins-0.2.1-py3-none-any.whl (38 kB)\n",
            "  Downloading mdit_py_plugins-0.2.0-py3-none-any.whl (38 kB)\n",
            "INFO: This is taking longer than usual. You might need to provide the dependency resolver with stricter constraints to reduce runtime. See https://pip.pypa.io/warnings/backtracking for guidance. If you want to abort this run, press Ctrl + C.\n",
            "  Downloading mdit_py_plugins-0.1.0-py3-none-any.whl (37 kB)\n",
            "Collecting markdown-it-py[linkify]>=2.0.0 (from gradio==3.40.1)\n",
            "  Downloading markdown_it_py-3.0.0-py3-none-any.whl (87 kB)\n",
            "\u001b[2K     \u001b[90m━━━━━━━━━━━━━━━━━━━━━━━━━━━━━━━━━━━━━━━━\u001b[0m \u001b[32m87.5/87.5 kB\u001b[0m \u001b[31m11.1 MB/s\u001b[0m eta \u001b[36m0:00:00\u001b[0m\n",
            "\u001b[?25h  Downloading markdown_it_py-2.2.0-py3-none-any.whl (84 kB)\n",
            "\u001b[2K     \u001b[90m━━━━━━━━━━━━━━━━━━━━━━━━━━━━━━━━━━━━━━━━\u001b[0m \u001b[32m84.5/84.5 kB\u001b[0m \u001b[31m10.5 MB/s\u001b[0m eta \u001b[36m0:00:00\u001b[0m\n",
            "\u001b[?25hRequirement already satisfied: pytz>=2020.1 in /usr/local/lib/python3.10/dist-packages (from pandas<3.0,>=1.0->gradio==3.40.1) (2023.3.post1)\n",
            "Requirement already satisfied: charset-normalizer<4,>=2 in /usr/local/lib/python3.10/dist-packages (from requests~=2.0->gradio==3.40.1) (3.3.2)\n",
            "Requirement already satisfied: idna<4,>=2.5 in /usr/local/lib/python3.10/dist-packages (from requests~=2.0->gradio==3.40.1) (3.6)\n",
            "Requirement already satisfied: urllib3<3,>=1.21.1 in /usr/local/lib/python3.10/dist-packages (from requests~=2.0->gradio==3.40.1) (1.26.18)\n",
            "Requirement already satisfied: certifi>=2017.4.17 in /usr/local/lib/python3.10/dist-packages (from requests~=2.0->gradio==3.40.1) (2023.11.17)\n",
            "Requirement already satisfied: click>=7.0 in /usr/local/lib/python3.10/dist-packages (from uvicorn>=0.14.0->gradio==3.40.1) (8.1.7)\n",
            "Requirement already satisfied: h11>=0.8 in /usr/local/lib/python3.10/dist-packages (from uvicorn>=0.14.0->gradio==3.40.1) (0.14.0)\n",
            "Requirement already satisfied: starlette<0.33.0,>=0.29.0 in /usr/local/lib/python3.10/dist-packages (from fastapi->gradio==3.40.1) (0.32.0.post1)\n",
            "Requirement already satisfied: anyio in /usr/local/lib/python3.10/dist-packages (from httpx->gradio==3.40.1) (3.7.1)\n",
            "Collecting httpcore==1.* (from httpx->gradio==3.40.1)\n",
            "  Downloading httpcore-1.0.2-py3-none-any.whl (76 kB)\n",
            "\u001b[2K     \u001b[90m━━━━━━━━━━━━━━━━━━━━━━━━━━━━━━━━━━━━━━━━\u001b[0m \u001b[32m76.9/76.9 kB\u001b[0m \u001b[31m3.6 MB/s\u001b[0m eta \u001b[36m0:00:00\u001b[0m\n",
            "\u001b[?25hRequirement already satisfied: sniffio in /usr/local/lib/python3.10/dist-packages (from httpx->gradio==3.40.1) (1.3.0)\n",
            "Requirement already satisfied: jsonschema-specifications>=2023.03.6 in /usr/local/lib/python3.10/dist-packages (from jsonschema>=3.0->altair<6.0,>=4.2.0->gradio==3.40.1) (2023.11.2)\n",
            "Requirement already satisfied: referencing>=0.28.4 in /usr/local/lib/python3.10/dist-packages (from jsonschema>=3.0->altair<6.0,>=4.2.0->gradio==3.40.1) (0.32.0)\n",
            "Requirement already satisfied: rpds-py>=0.7.1 in /usr/local/lib/python3.10/dist-packages (from jsonschema>=3.0->altair<6.0,>=4.2.0->gradio==3.40.1) (0.15.2)\n",
            "Requirement already satisfied: uc-micro-py in /usr/local/lib/python3.10/dist-packages (from linkify-it-py<3,>=1->markdown-it-py[linkify]>=2.0.0->gradio==3.40.1) (1.0.2)\n",
            "Requirement already satisfied: six>=1.5 in /usr/local/lib/python3.10/dist-packages (from python-dateutil>=2.7->matplotlib~=3.0->gradio==3.40.1) (1.16.0)\n",
            "Requirement already satisfied: exceptiongroup in /usr/local/lib/python3.10/dist-packages (from anyio->httpx->gradio==3.40.1) (1.2.0)\n",
            "Building wheels for collected packages: ffmpy\n",
            "  Building wheel for ffmpy (setup.py) ... \u001b[?25l\u001b[?25hdone\n",
            "  Created wheel for ffmpy: filename=ffmpy-0.3.1-py3-none-any.whl size=5579 sha256=50111e5be60a90c1c38fdbad2a813dfc3face14bd1b555176e03a1ab3676ef95\n",
            "  Stored in directory: /root/.cache/pip/wheels/01/a6/d1/1c0828c304a4283b2c1639a09ad86f83d7c487ef34c6b4a1bf\n",
            "Successfully built ffmpy\n",
            "Installing collected packages: pydub, ffmpy, websockets, semantic-version, python-multipart, orjson, markdown-it-py, httpcore, aiofiles, mdit-py-plugins, httpx, gradio-client, gradio\n",
            "  Attempting uninstall: websockets\n",
            "    Found existing installation: websockets 12.0\n",
            "    Uninstalling websockets-12.0:\n",
            "      Successfully uninstalled websockets-12.0\n",
            "  Attempting uninstall: markdown-it-py\n",
            "    Found existing installation: markdown-it-py 3.0.0\n",
            "    Uninstalling markdown-it-py-3.0.0:\n",
            "      Successfully uninstalled markdown-it-py-3.0.0\n",
            "  Attempting uninstall: mdit-py-plugins\n",
            "    Found existing installation: mdit-py-plugins 0.4.0\n",
            "    Uninstalling mdit-py-plugins-0.4.0:\n",
            "      Successfully uninstalled mdit-py-plugins-0.4.0\n",
            "\u001b[31mERROR: pip's dependency resolver does not currently take into account all the packages that are installed. This behaviour is the source of the following dependency conflicts.\n",
            "lida 0.0.10 requires kaleido, which is not installed.\u001b[0m\u001b[31m\n",
            "\u001b[0mSuccessfully installed aiofiles-23.2.1 ffmpy-0.3.1 gradio-3.40.1 gradio-client-0.8.0 httpcore-1.0.2 httpx-0.26.0 markdown-it-py-2.2.0 mdit-py-plugins-0.3.3 orjson-3.9.10 pydub-0.25.1 python-multipart-0.0.6 semantic-version-2.10.0 websockets-11.0.3\n"
          ]
        }
      ]
    },
    {
      "cell_type": "code",
      "source": [
        "import gradio as gr\n",
        "\n",
        "#인터페이스를 생성\n",
        "with gr.Blocks() as demo:\n",
        "    chatbot = gr.Chatbot(label = '건강질문챗봇')\n",
        "    msg = gr.Textbox(label = '질문해주세요!')\n",
        "    clear = gr.Button('대화 초기화') #대화초기화 버튼\n",
        "\n",
        "     #챗봇의 답변을 처리하는 함수\n",
        "\n",
        "    def respond(message, chat_history):\n",
        "      result = qa_chain(message)\n",
        "      bot_message = result['result']\n",
        "      bot_message += '#sources :'\n",
        "\n",
        "      #답변 출처\n",
        "      for i, doc in enumerate(result['source_documents']):\n",
        "         bot_message += '['+ str(i+1) +']' + doc.metadata['source']+ ' '\n",
        "\n",
        "        #채팅기록에 사용자의 메시지와 봇의 응답을 추가\n",
        "      chat_history.append((message,bot_message))\n",
        "      return\"\", chat_history\n",
        "\n",
        "        #사용자의 입력을 제출하면 respond함수가 호출\n",
        "    msg.submit(respond, [msg,chatbot], [msg,chatbot])\n",
        "\n",
        "        #초기화 버튼을 클릭하면 채팅 기록을 초기화\n",
        "    clear.click(lambda:None,None, chatbot, queue=False)\n",
        "\n",
        "#인터페이스 실행\n",
        "demo.launch(debug = True)"
      ],
      "metadata": {
        "colab": {
          "base_uri": "https://localhost:8080/",
          "height": 636
        },
        "id": "Jnpqw3ahfhlU",
        "outputId": "55262e80-dcb0-4e22-a2db-1f095d790157"
      },
      "execution_count": null,
      "outputs": [
        {
          "output_type": "stream",
          "name": "stdout",
          "text": [
            "Colab notebook detected. This cell will run indefinitely so that you can see errors and logs. To turn off, set debug=False in launch().\n",
            "Note: opening Chrome Inspector may crash demo inside Colab notebooks.\n",
            "\n",
            "To create a public link, set `share=True` in `launch()`.\n"
          ]
        },
        {
          "output_type": "display_data",
          "data": {
            "text/plain": [
              "<IPython.core.display.Javascript object>"
            ],
            "application/javascript": [
              "(async (port, path, width, height, cache, element) => {\n",
              "                        if (!google.colab.kernel.accessAllowed && !cache) {\n",
              "                            return;\n",
              "                        }\n",
              "                        element.appendChild(document.createTextNode(''));\n",
              "                        const url = await google.colab.kernel.proxyPort(port, {cache});\n",
              "\n",
              "                        const external_link = document.createElement('div');\n",
              "                        external_link.innerHTML = `\n",
              "                            <div style=\"font-family: monospace; margin-bottom: 0.5rem\">\n",
              "                                Running on <a href=${new URL(path, url).toString()} target=\"_blank\">\n",
              "                                    https://localhost:${port}${path}\n",
              "                                </a>\n",
              "                            </div>\n",
              "                        `;\n",
              "                        element.appendChild(external_link);\n",
              "\n",
              "                        const iframe = document.createElement('iframe');\n",
              "                        iframe.src = new URL(path, url).toString();\n",
              "                        iframe.height = height;\n",
              "                        iframe.allow = \"autoplay; camera; microphone; clipboard-read; clipboard-write;\"\n",
              "                        iframe.width = width;\n",
              "                        iframe.style.border = 0;\n",
              "                        element.appendChild(iframe);\n",
              "                    })(7860, \"/\", \"100%\", 500, false, window.element)"
            ]
          },
          "metadata": {}
        },
        {
          "output_type": "stream",
          "name": "stdout",
          "text": [
            "Keyboard interruption in main thread... closing server.\n"
          ]
        },
        {
          "output_type": "execute_result",
          "data": {
            "text/plain": []
          },
          "metadata": {},
          "execution_count": 37
        }
      ]
    }
  ]
}