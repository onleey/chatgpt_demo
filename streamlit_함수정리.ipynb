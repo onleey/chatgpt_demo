{
  "nbformat": 4,
  "nbformat_minor": 0,
  "metadata": {
    "colab": {
      "provenance": [],
      "authorship_tag": "ABX9TyNw2Uxv9DzBIg5tZBCIFl8c",
      "include_colab_link": true
    },
    "kernelspec": {
      "name": "python3",
      "display_name": "Python 3"
    },
    "language_info": {
      "name": "python"
    }
  },
  "cells": [
    {
      "cell_type": "markdown",
      "metadata": {
        "id": "view-in-github",
        "colab_type": "text"
      },
      "source": [
        "<a href=\"https://colab.research.google.com/github/onleey/chatgpt_demo/blob/master/streamlit_%ED%95%A8%EC%88%98%EC%A0%95%EB%A6%AC.ipynb\" target=\"_parent\"><img src=\"https://colab.research.google.com/assets/colab-badge.svg\" alt=\"Open In Colab\"/></a>"
      ]
    },
    {
      "cell_type": "code",
      "execution_count": 1,
      "metadata": {
        "colab": {
          "base_uri": "https://localhost:8080/"
        },
        "id": "dqkxuIDPB68C",
        "outputId": "e03a8734-18e7-4903-962c-f0106485464c"
      },
      "outputs": [
        {
          "output_type": "stream",
          "name": "stdout",
          "text": [
            "Mounted at /content/drive\n",
            "/content/drive/MyDrive/001\n"
          ]
        }
      ],
      "source": [
        "from google.colab import drive\n",
        "drive.mount('/content/drive')\n",
        "\n",
        "%cd '/content/drive/MyDrive/001'"
      ]
    },
    {
      "cell_type": "code",
      "source": [
        "!pip install streamlit"
      ],
      "metadata": {
        "colab": {
          "base_uri": "https://localhost:8080/"
        },
        "id": "aUOARSZACYkU",
        "outputId": "4f6d03d6-ebc9-4acd-c882-316d7bef080d"
      },
      "execution_count": 4,
      "outputs": [
        {
          "output_type": "stream",
          "name": "stdout",
          "text": [
            "Collecting streamlit\n",
            "  Downloading streamlit-1.29.0-py2.py3-none-any.whl (8.4 MB)\n",
            "\u001b[2K     \u001b[90m━━━━━━━━━━━━━━━━━━━━━━━━━━━━━━━━━━━━━━━━\u001b[0m \u001b[32m8.4/8.4 MB\u001b[0m \u001b[31m42.4 MB/s\u001b[0m eta \u001b[36m0:00:00\u001b[0m\n",
            "\u001b[?25hRequirement already satisfied: altair<6,>=4.0 in /usr/local/lib/python3.10/dist-packages (from streamlit) (4.2.2)\n",
            "Requirement already satisfied: blinker<2,>=1.0.0 in /usr/lib/python3/dist-packages (from streamlit) (1.4)\n",
            "Requirement already satisfied: cachetools<6,>=4.0 in /usr/local/lib/python3.10/dist-packages (from streamlit) (5.3.2)\n",
            "Requirement already satisfied: click<9,>=7.0 in /usr/local/lib/python3.10/dist-packages (from streamlit) (8.1.7)\n",
            "Collecting importlib-metadata<7,>=1.4 (from streamlit)\n",
            "  Downloading importlib_metadata-6.11.0-py3-none-any.whl (23 kB)\n",
            "Requirement already satisfied: numpy<2,>=1.19.3 in /usr/local/lib/python3.10/dist-packages (from streamlit) (1.23.5)\n",
            "Requirement already satisfied: packaging<24,>=16.8 in /usr/local/lib/python3.10/dist-packages (from streamlit) (23.2)\n",
            "Requirement already satisfied: pandas<3,>=1.3.0 in /usr/local/lib/python3.10/dist-packages (from streamlit) (1.5.3)\n",
            "Requirement already satisfied: pillow<11,>=7.1.0 in /usr/local/lib/python3.10/dist-packages (from streamlit) (9.4.0)\n",
            "Requirement already satisfied: protobuf<5,>=3.20 in /usr/local/lib/python3.10/dist-packages (from streamlit) (3.20.3)\n",
            "Requirement already satisfied: pyarrow>=6.0 in /usr/local/lib/python3.10/dist-packages (from streamlit) (10.0.1)\n",
            "Requirement already satisfied: python-dateutil<3,>=2.7.3 in /usr/local/lib/python3.10/dist-packages (from streamlit) (2.8.2)\n",
            "Requirement already satisfied: requests<3,>=2.27 in /usr/local/lib/python3.10/dist-packages (from streamlit) (2.31.0)\n",
            "Requirement already satisfied: rich<14,>=10.14.0 in /usr/local/lib/python3.10/dist-packages (from streamlit) (13.7.0)\n",
            "Requirement already satisfied: tenacity<9,>=8.1.0 in /usr/local/lib/python3.10/dist-packages (from streamlit) (8.2.3)\n",
            "Requirement already satisfied: toml<2,>=0.10.1 in /usr/local/lib/python3.10/dist-packages (from streamlit) (0.10.2)\n",
            "Requirement already satisfied: typing-extensions<5,>=4.3.0 in /usr/local/lib/python3.10/dist-packages (from streamlit) (4.5.0)\n",
            "Requirement already satisfied: tzlocal<6,>=1.1 in /usr/local/lib/python3.10/dist-packages (from streamlit) (5.2)\n",
            "Collecting validators<1,>=0.2 (from streamlit)\n",
            "  Downloading validators-0.22.0-py3-none-any.whl (26 kB)\n",
            "Collecting gitpython!=3.1.19,<4,>=3.0.7 (from streamlit)\n",
            "  Downloading GitPython-3.1.40-py3-none-any.whl (190 kB)\n",
            "\u001b[2K     \u001b[90m━━━━━━━━━━━━━━━━━━━━━━━━━━━━━━━━━━━━━━━━\u001b[0m \u001b[32m190.6/190.6 kB\u001b[0m \u001b[31m21.5 MB/s\u001b[0m eta \u001b[36m0:00:00\u001b[0m\n",
            "\u001b[?25hCollecting pydeck<1,>=0.8.0b4 (from streamlit)\n",
            "  Downloading pydeck-0.8.1b0-py2.py3-none-any.whl (4.8 MB)\n",
            "\u001b[2K     \u001b[90m━━━━━━━━━━━━━━━━━━━━━━━━━━━━━━━━━━━━━━━━\u001b[0m \u001b[32m4.8/4.8 MB\u001b[0m \u001b[31m83.2 MB/s\u001b[0m eta \u001b[36m0:00:00\u001b[0m\n",
            "\u001b[?25hRequirement already satisfied: tornado<7,>=6.0.3 in /usr/local/lib/python3.10/dist-packages (from streamlit) (6.3.2)\n",
            "Collecting watchdog>=2.1.5 (from streamlit)\n",
            "  Downloading watchdog-3.0.0-py3-none-manylinux2014_x86_64.whl (82 kB)\n",
            "\u001b[2K     \u001b[90m━━━━━━━━━━━━━━━━━━━━━━━━━━━━━━━━━━━━━━━━\u001b[0m \u001b[32m82.1/82.1 kB\u001b[0m \u001b[31m11.0 MB/s\u001b[0m eta \u001b[36m0:00:00\u001b[0m\n",
            "\u001b[?25hRequirement already satisfied: entrypoints in /usr/local/lib/python3.10/dist-packages (from altair<6,>=4.0->streamlit) (0.4)\n",
            "Requirement already satisfied: jinja2 in /usr/local/lib/python3.10/dist-packages (from altair<6,>=4.0->streamlit) (3.1.2)\n",
            "Requirement already satisfied: jsonschema>=3.0 in /usr/local/lib/python3.10/dist-packages (from altair<6,>=4.0->streamlit) (4.19.2)\n",
            "Requirement already satisfied: toolz in /usr/local/lib/python3.10/dist-packages (from altair<6,>=4.0->streamlit) (0.12.0)\n",
            "Collecting gitdb<5,>=4.0.1 (from gitpython!=3.1.19,<4,>=3.0.7->streamlit)\n",
            "  Downloading gitdb-4.0.11-py3-none-any.whl (62 kB)\n",
            "\u001b[2K     \u001b[90m━━━━━━━━━━━━━━━━━━━━━━━━━━━━━━━━━━━━━━━━\u001b[0m \u001b[32m62.7/62.7 kB\u001b[0m \u001b[31m8.1 MB/s\u001b[0m eta \u001b[36m0:00:00\u001b[0m\n",
            "\u001b[?25hRequirement already satisfied: zipp>=0.5 in /usr/local/lib/python3.10/dist-packages (from importlib-metadata<7,>=1.4->streamlit) (3.17.0)\n",
            "Requirement already satisfied: pytz>=2020.1 in /usr/local/lib/python3.10/dist-packages (from pandas<3,>=1.3.0->streamlit) (2023.3.post1)\n",
            "Requirement already satisfied: six>=1.5 in /usr/local/lib/python3.10/dist-packages (from python-dateutil<3,>=2.7.3->streamlit) (1.16.0)\n",
            "Requirement already satisfied: charset-normalizer<4,>=2 in /usr/local/lib/python3.10/dist-packages (from requests<3,>=2.27->streamlit) (3.3.2)\n",
            "Requirement already satisfied: idna<4,>=2.5 in /usr/local/lib/python3.10/dist-packages (from requests<3,>=2.27->streamlit) (3.6)\n",
            "Requirement already satisfied: urllib3<3,>=1.21.1 in /usr/local/lib/python3.10/dist-packages (from requests<3,>=2.27->streamlit) (2.0.7)\n",
            "Requirement already satisfied: certifi>=2017.4.17 in /usr/local/lib/python3.10/dist-packages (from requests<3,>=2.27->streamlit) (2023.11.17)\n",
            "Requirement already satisfied: markdown-it-py>=2.2.0 in /usr/local/lib/python3.10/dist-packages (from rich<14,>=10.14.0->streamlit) (3.0.0)\n",
            "Requirement already satisfied: pygments<3.0.0,>=2.13.0 in /usr/local/lib/python3.10/dist-packages (from rich<14,>=10.14.0->streamlit) (2.16.1)\n",
            "Collecting smmap<6,>=3.0.1 (from gitdb<5,>=4.0.1->gitpython!=3.1.19,<4,>=3.0.7->streamlit)\n",
            "  Downloading smmap-5.0.1-py3-none-any.whl (24 kB)\n",
            "Requirement already satisfied: MarkupSafe>=2.0 in /usr/local/lib/python3.10/dist-packages (from jinja2->altair<6,>=4.0->streamlit) (2.1.3)\n",
            "Requirement already satisfied: attrs>=22.2.0 in /usr/local/lib/python3.10/dist-packages (from jsonschema>=3.0->altair<6,>=4.0->streamlit) (23.2.0)\n",
            "Requirement already satisfied: jsonschema-specifications>=2023.03.6 in /usr/local/lib/python3.10/dist-packages (from jsonschema>=3.0->altair<6,>=4.0->streamlit) (2023.12.1)\n",
            "Requirement already satisfied: referencing>=0.28.4 in /usr/local/lib/python3.10/dist-packages (from jsonschema>=3.0->altair<6,>=4.0->streamlit) (0.32.0)\n",
            "Requirement already satisfied: rpds-py>=0.7.1 in /usr/local/lib/python3.10/dist-packages (from jsonschema>=3.0->altair<6,>=4.0->streamlit) (0.16.2)\n",
            "Requirement already satisfied: mdurl~=0.1 in /usr/local/lib/python3.10/dist-packages (from markdown-it-py>=2.2.0->rich<14,>=10.14.0->streamlit) (0.1.2)\n",
            "Installing collected packages: watchdog, validators, smmap, importlib-metadata, pydeck, gitdb, gitpython, streamlit\n",
            "  Attempting uninstall: importlib-metadata\n",
            "    Found existing installation: importlib-metadata 7.0.1\n",
            "    Uninstalling importlib-metadata-7.0.1:\n",
            "      Successfully uninstalled importlib-metadata-7.0.1\n",
            "Successfully installed gitdb-4.0.11 gitpython-3.1.40 importlib-metadata-6.11.0 pydeck-0.8.1b0 smmap-5.0.1 streamlit-1.29.0 validators-0.22.0 watchdog-3.0.0\n"
          ]
        }
      ]
    },
    {
      "cell_type": "code",
      "source": [
        "import streamlit as st"
      ],
      "metadata": {
        "id": "ue0i2dFPCFGs"
      },
      "execution_count": 5,
      "outputs": []
    },
    {
      "cell_type": "markdown",
      "source": [
        "1. 글자 출력하기"
      ],
      "metadata": {
        "id": "4YwkURmaC3hN"
      }
    },
    {
      "cell_type": "code",
      "source": [
        "def main() :\n",
        "    st.title('웹 대시보드')\n",
        "\n",
        "    name = '이시현'\n",
        "\n",
        "    st.text('제 이름은 {} 입니다.'.format(name)) # 작은 글씨\n",
        "\n",
        "    st.header('이 영역은 헤더 영역')  # 제목같은 큰 글씨\n",
        "\n",
        "    st.subheader('이 영역은 subheader영역')  # 제목보다는 작은 글씨\n",
        "\n",
        "    st.success('작업이 성공했을때 사용하자')         # 녹색 영역\n",
        "    st.warning('경고 문구를 보여주고 싶을때 사용하자')   # 노란색 영역\n",
        "    st.info('정보를 보여주고 싶을때 사용하자')  # 파란색 영역\n",
        "    st.error('문제가 발생했을때 사용')  # 레드 영역\n",
        "\n",
        "    # 파이썬의 함수 사용법을 보여주고 싶을때\n",
        "    st.help(sum)  # 함수 설명을 보여주고 싶을때 (sum)\n",
        "    st.help(len)\n",
        "\n",
        "if __name__ == '__main__' :\n",
        "    main()"
      ],
      "metadata": {
        "id": "Xqi0nOP8Cihj"
      },
      "execution_count": 8,
      "outputs": []
    },
    {
      "cell_type": "markdown",
      "source": [
        "2. 데이터프레임(DataFrame) 출력하기\n",
        "st.dataframe()\n",
        "\n",
        "데이터프레임을 출력할때는\n",
        "스트림릿의 dataframe() 함수를\n",
        "이용합니다.\n",
        "\n",
        "뒤에 변수명 df는\n",
        "CSV 파일을 불러오는\n",
        "명령어가 담긴 변수입니다.\n"
      ],
      "metadata": {
        "id": "u7B01YG0C0vk"
      }
    },
    {
      "cell_type": "code",
      "source": [
        "import streamlit as st # 스트림릿 호출\n",
        "import pandas as pd    # 판다스 호출\n",
        "\n",
        "def main() :\n",
        "    df = pd.read_csv('001_1/iris.csv') # CSV 파일 불러오고 df 변수에 저장\n",
        "\n",
        "    st.dataframe(df)\n",
        "\n",
        "    Species = df['Species'].unique()\n",
        "\n",
        "    st.text('아이리스 꽃은 ' + Species + '으로 되어있다.')\n",
        "\n",
        "    df.head()\n",
        "\n",
        "    st.dataframe( df.head() )\n",
        "    st.write( df.head() )\n",
        "\n",
        "if __name__ == '__main__' :\n",
        "    main()"
      ],
      "metadata": {
        "id": "UZ4anHzYC_0H"
      },
      "execution_count": 18,
      "outputs": []
    },
    {
      "cell_type": "markdown",
      "source": [
        "3. 버튼(button) 만들기\n",
        "\n",
        "st.button()\n",
        "\n",
        "스트림릿의 button() 함수를 이용해\n",
        "버튼을 만들수 있습니다.\n",
        "버튼을 누르면 True를 리턴합니다.\n"
      ],
      "metadata": {
        "id": "MXpKB7L0FXxL"
      }
    },
    {
      "cell_type": "code",
      "source": [
        "import streamlit as st\n",
        "\n",
        "def main() :\n",
        "    st.title('버튼 만들기')\n",
        "\n",
        "    st.button('버튼 클릭!')\n",
        "\n",
        "if __name__ == \"__main__\" :\n",
        "    main()"
      ],
      "metadata": {
        "id": "rTcr5kZvFcwc"
      },
      "execution_count": 19,
      "outputs": []
    },
    {
      "cell_type": "code",
      "source": [
        "import streamlit as st\n",
        "import pandas as pd\n",
        "\n",
        "def main() :\n",
        "\n",
        "    df = pd.read_csv('001_1/iris.csv')\n",
        "    st.dataframe(df)\n",
        "\n",
        "    # \"대문자\" 버튼을 만들고\n",
        "    # 버튼을 누르면, species 컬럼의 값들을 대문자로 변경한\n",
        "    # 데이터 프레임을 보여주세요.\n",
        "\n",
        "    if st.button('대문자') :\n",
        "        df['species'] = df['species'].str.upper()\n",
        "        st.dataframe(df)\n",
        "\n",
        "if __name__ == \"__main__\" :\n",
        "    main()\n"
      ],
      "metadata": {
        "id": "9n62B-aYFh8C"
      },
      "execution_count": 21,
      "outputs": []
    },
    {
      "cell_type": "markdown",
      "source": [
        "4. 라디오(radio) 버튼 만들기\n",
        "\n",
        "st.radio()\n",
        "\n",
        "\n",
        "\n",
        "\n",
        "라디오 버튼은 여러개 중에서\n",
        "하나를 선택할때 사용합니다.\n",
        "\n",
        "radio() 함수를 이용!\n",
        "라디오버튼을 클릭하면\n",
        "클릭했을때 나타나는 문자열을\n",
        "리턴해 줍니다.\n"
      ],
      "metadata": {
        "id": "q-k7wQiDFqC8"
      }
    },
    {
      "cell_type": "code",
      "source": [
        "import streamlit as st\n",
        "import pandas as pd\n",
        "\n",
        "def main() :\n",
        "\n",
        "    df = pd.read_csv('001_1/iris.csv')\n",
        "    # st.dataframe(df)\n",
        "\n",
        "    my_order = ['오름차순정렬', '내림차순정렬']\n",
        "\n",
        "    status = st.radio('정렬방법 선택', my_order)\n",
        "\n",
        "    # 첫번째 방법\n",
        "    if status == my_order[0] :\n",
        "        # PetalLength 칼럼을 오름차순으로 정렬해서 화면에 보여준다.\n",
        "        # df.sort_values('PetalLength')\n",
        "        st.dataframe(df.sort_values('PetalLength'))\n",
        "    elif status == my_order[1] :\n",
        "        # df.sort_values('PetalLength', ascending=False)\n",
        "        st.dataframe(df.sort_values('PetalLength', ascending=False))\n",
        "\n",
        "    # 두번째 방법 (버튼을 똑같은거 쓰면 에러남)\n",
        "    status = st.radio('정렬방법 선택2', my_order)\n",
        "\n",
        "    if status == my_order[0] :\n",
        "        # PetalLength 칼럼을 오름차순으로 정렬해서 화면에 보여준다.\n",
        "        df = df.sort_values('PetalLength')\n",
        "        st.dataframe(df)\n",
        "    elif status == my_order[1] :\n",
        "        df = df.sort_values('PetalLength', ascending=False)\n",
        "        st.dataframe(df)\n",
        "\n",
        "if __name__ == \"__main__\" :\n",
        "    main()"
      ],
      "metadata": {
        "id": "rl9t1hAkFtrk"
      },
      "execution_count": 23,
      "outputs": []
    },
    {
      "cell_type": "markdown",
      "source": [
        "5. 체크박스 만들기\n",
        "\n",
        "st.checkbox()\n",
        "\n",
        "스트림릿의 checkbos() 함수를\n",
        "이용합니다.\n",
        "\n",
        "체크 해제/ 체크\n",
        "두 동작중 하나를 합니다.\n",
        "체크하면 True 가 됩니다.\n",
        "True/False 값을 리턴 합니다.\n"
      ],
      "metadata": {
        "id": "PL9ZdIydGDHR"
      }
    },
    {
      "cell_type": "code",
      "source": [
        "import streamlit as st\n",
        "import pandas as pd\n",
        "\n",
        "def main() :\n",
        "\n",
        "    df = pd.read_csv('001_1/iris.csv')\n",
        "    # st.dataframe(df)\n",
        "\n",
        "    # 체크박스 : 체크 해제/ 체크\n",
        "    # 두개 동작중 하나를 한다. 체크하면 TRUE가 된다.\n",
        "\n",
        "    if st.checkbox('헤드 5개 보기') :\n",
        "        st.dataframe( df.head() )\n",
        "    else :\n",
        "        st.text('헤드 숨겼습니다.')\n",
        "\n",
        "if __name__ == \"__main__\" :\n",
        "    main()\n"
      ],
      "metadata": {
        "id": "l4wcpm0RGCrz"
      },
      "execution_count": 24,
      "outputs": []
    },
    {
      "cell_type": "markdown",
      "source": [
        "6. 셀렉트박스 만들기\n",
        "\n",
        "st.selectbox()\n",
        "\n",
        "\n",
        "셀렉트박스튼 여러개 중에서\n",
        "1개만 고르는 UI 입니다.\n",
        "선택한 문자열을 리턴합니다."
      ],
      "metadata": {
        "id": "UHGR6HwZGR7h"
      }
    },
    {
      "cell_type": "code",
      "source": [
        "import streamlit as st\n",
        "\n",
        "def main() :\n",
        "\n",
        "    language = ['Python', 'C', 'Java', 'Go', 'PHP']\n",
        "    my_choice = st.selectbox('좋아하는 언어 선택', language)\n",
        "\n",
        "    if my_choice == language[0] :\n",
        "        st.write('파이썬을 선택하셨습니다.')\n",
        "    elif my_choice == language[1] :\n",
        "        st.write('C언어를 선택하셨습니다.')\n",
        "    elif my_choice == language[2] :\n",
        "        st.write('자바를 선택하셨습니다')\n",
        "    elif my_choice == language[3] :\n",
        "        st.write('Go를 선택하셨습니다')\n",
        "    elif my_choice == language[4] :\n",
        "        st.write('PHP를 선택하셨습니다')\n",
        "\n",
        "\n",
        "if __name__ == \"__main__\" :\n",
        "    main()"
      ],
      "metadata": {
        "id": "Nkra-SJvGX2p"
      },
      "execution_count": 25,
      "outputs": []
    },
    {
      "cell_type": "markdown",
      "source": [
        "7. 멀티 셀렉트(Multiselect)\n",
        "\n",
        "\n",
        "st.multiselect()\n",
        "\n",
        "멀티 셀렉트 박스는 여러개 중에서\n",
        "여러개를 선택하는 UI입니다.\n",
        "선택한 문자열을 리턴합니다.\n"
      ],
      "metadata": {
        "id": "U28_qR4BGiOa"
      }
    },
    {
      "cell_type": "code",
      "source": [
        "import streamlit as st\n",
        "\n",
        "def main() :\n",
        "\n",
        "    language = ['운동', '영화감상', '음악듣기', '산책하기', '먹기']\n",
        "    st.multiselect('당신의 취미를 선택하세요. 복수 선택 가능', language)\n",
        "\n",
        "if __name__ == \"__main__\" :\n",
        "    main()"
      ],
      "metadata": {
        "id": "5MaKlQsgGn0z"
      },
      "execution_count": 26,
      "outputs": []
    },
    {
      "cell_type": "markdown",
      "source": [
        "8. 슬라이더(Silder) 만들기\n",
        "\n",
        "st.slider()\n",
        "\n",
        "슬라이더(Silder)는 숫자를\n",
        "조정하는데 주로 사용됩니다.\n",
        "(파라미터 : 라벨, 최소값, 최대값, 디폴트값, 간격)\n",
        "\n",
        "정수와 소숫점도 사용할수 있습니다.\n",
        "소숫점을 사용할때는 값이 모두\n",
        "소숫점이어야 합니다.\n"
      ],
      "metadata": {
        "id": "fsPJk4KEGwK5"
      }
    },
    {
      "cell_type": "code",
      "source": [
        "import streamlit as st\n",
        "\n",
        "def main() :\n",
        "\n",
        "    age = st.slider('나이', 1, 120, 30, 5)\n",
        "    st.text('제가 선택한 나이는 {} 입니다.'.format(age))\n",
        "\n",
        "if __name__ == \"__main__\" :\n",
        "    main()"
      ],
      "metadata": {
        "id": "EpviW2mcIsdY"
      },
      "execution_count": null,
      "outputs": []
    },
    {
      "cell_type": "markdown",
      "source": [
        "9.익스펜더(Expander) 만들기\n",
        "\n",
        "st.expander()\n",
        "\n",
        "\n",
        "\n",
        "\n",
        "\n",
        "익스펜더는 누르면 확장되는\n",
        "방식의 프레임 입니다.\n",
        "클릭하면 숨겨진 영역을\n",
        "볼수 있습니다."
      ],
      "metadata": {
        "id": "tjHqZ4beI1_Y"
      }
    },
    {
      "cell_type": "code",
      "source": [
        "import streamlit as st\n",
        "import pandas as pd\n",
        "\n",
        "def main() :\n",
        "    df = pd.read_csv('001_1/iris.csv')\n",
        "\n",
        "    with st.expander('데이터프레임 보기') :\n",
        "        st.dataframe(df)\n",
        "\n",
        "if __name__ == \"__main__\" :\n",
        "    main()\n"
      ],
      "metadata": {
        "id": "e9V-Ry_KI6tQ"
      },
      "execution_count": 28,
      "outputs": []
    },
    {
      "cell_type": "markdown",
      "source": [
        "10.이미지(Image) 파일 출력\n",
        "\n",
        "from PIL import Image\n",
        "\n",
        "먼저 이미지 처리를 위한\n",
        "\n",
        "라이브러리를 호출합니다.\n",
        "\n",
        " st.image()\n",
        "\n",
        " Image.open('파일경로')\n",
        "저장되어 있는 이미지를\n",
        "화면에 표시하거나\n",
        "인터넷상에 있는 이미지를\n",
        "화면에 표시할수 있습니다.\n"
      ],
      "metadata": {
        "id": "wr3FgkkvJC1f"
      }
    },
    {
      "cell_type": "code",
      "source": [
        "import streamlit as st\n",
        "from PIL import Image\n",
        "\n",
        "def main() :\n",
        "\n",
        "    img = Image.open('001_1/캡처.JPG')\n",
        "    st.image(img)\n",
        "\n",
        "if __name__ == \"__main__\" :\n",
        "    main()\n"
      ],
      "metadata": {
        "id": "QuNA_nnPJn2K"
      },
      "execution_count": 29,
      "outputs": []
    },
    {
      "cell_type": "code",
      "source": [
        "import streamlit as st\n",
        "from PIL import Image\n",
        "\n",
        "def main() :\n",
        "\n",
        "    # 인터넷상에 있는 이미지를 화면에 표시하기\n",
        "    # URL이 있는 이미지를 말한다.\n",
        "\n",
        "    url = 'https://recipe1.ezmember.co.kr/cache/recipe/2024/01/07/cb22c5a05adea02108a42302f0fa85d61_m.jpg'\n",
        "    st.image(url)\n",
        "    st.text('사진출처 : https://www.10000recipe.com/recipe/list.html')\n",
        "\n",
        "if __name__ == \"__main__\" :\n",
        "    main()"
      ],
      "metadata": {
        "id": "FUkIKISyKHQ3"
      },
      "execution_count": 32,
      "outputs": []
    },
    {
      "cell_type": "markdown",
      "source": [
        "11.동영상(Video) 파일 출력\n",
        "\n",
        "st.video()\n",
        "동영상을 화면에 표시합니다."
      ],
      "metadata": {
        "id": "bBRVt7aLLCun"
      }
    },
    {
      "cell_type": "code",
      "source": [
        "import streamlit as st\n",
        "\n",
        "def main() :\n",
        "\n",
        "    #video_file = open('data2/secret_of_success.mp4', 'rb')\n",
        "    #st.video(video_file)\n",
        "\n",
        "# if __name__ == \"__main__\" :\n",
        "#     main()\n"
      ],
      "metadata": {
        "colab": {
          "base_uri": "https://localhost:8080/",
          "height": 147
        },
        "id": "Sqhl2fvKLIRq",
        "outputId": "71d9d607-8ee7-4312-b86c-c0d9d835645f"
      },
      "execution_count": 35,
      "outputs": [
        {
          "output_type": "error",
          "ename": "SyntaxError",
          "evalue": "incomplete input (<ipython-input-35-482129fb5052>, line 9)",
          "traceback": [
            "\u001b[0;36m  File \u001b[0;32m\"<ipython-input-35-482129fb5052>\"\u001b[0;36m, line \u001b[0;32m9\u001b[0m\n\u001b[0;31m    #     main()\u001b[0m\n\u001b[0m                ^\u001b[0m\n\u001b[0;31mSyntaxError\u001b[0m\u001b[0;31m:\u001b[0m incomplete input\n"
          ]
        }
      ]
    },
    {
      "cell_type": "markdown",
      "source": [
        "12.오디오(Audio) 파일 출력\n",
        "\n",
        "st.audio()\n",
        "\n",
        "\n",
        "\n",
        "\n",
        "\n",
        "오디오를 화면에 표시합니다.\n"
      ],
      "metadata": {
        "id": "Wp6UCDmALTWu"
      }
    },
    {
      "cell_type": "code",
      "source": [
        "import streamlit as st\n",
        "\n",
        "def main() :\n",
        "\n",
        "    audio_file = open('001_1/gogo.mp3', 'rb')\n",
        "    st.audio( audio_file.read() , format='audio/mp3')\n",
        "\n",
        "if __name__ == \"__main__\" :\n",
        "    main()\n"
      ],
      "metadata": {
        "colab": {
          "base_uri": "https://localhost:8080/",
          "height": 349
        },
        "id": "8t9lhGrJLX7o",
        "outputId": "967541a8-1f17-4c66-97fd-212beee918ef"
      },
      "execution_count": 36,
      "outputs": [
        {
          "output_type": "error",
          "ename": "FileNotFoundError",
          "evalue": "[Errno 2] No such file or directory: '001_1/gogo.mp3'",
          "traceback": [
            "\u001b[0;31m---------------------------------------------------------------------------\u001b[0m",
            "\u001b[0;31mFileNotFoundError\u001b[0m                         Traceback (most recent call last)",
            "\u001b[0;32m<ipython-input-36-1e59fe6f61b1>\u001b[0m in \u001b[0;36m<cell line: 8>\u001b[0;34m()\u001b[0m\n\u001b[1;32m      7\u001b[0m \u001b[0;34m\u001b[0m\u001b[0m\n\u001b[1;32m      8\u001b[0m \u001b[0;32mif\u001b[0m \u001b[0m__name__\u001b[0m \u001b[0;34m==\u001b[0m \u001b[0;34m\"__main__\"\u001b[0m \u001b[0;34m:\u001b[0m\u001b[0;34m\u001b[0m\u001b[0;34m\u001b[0m\u001b[0m\n\u001b[0;32m----> 9\u001b[0;31m     \u001b[0mmain\u001b[0m\u001b[0;34m(\u001b[0m\u001b[0;34m)\u001b[0m\u001b[0;34m\u001b[0m\u001b[0;34m\u001b[0m\u001b[0m\n\u001b[0m",
            "\u001b[0;32m<ipython-input-36-1e59fe6f61b1>\u001b[0m in \u001b[0;36mmain\u001b[0;34m()\u001b[0m\n\u001b[1;32m      3\u001b[0m \u001b[0;32mdef\u001b[0m \u001b[0mmain\u001b[0m\u001b[0;34m(\u001b[0m\u001b[0;34m)\u001b[0m \u001b[0;34m:\u001b[0m\u001b[0;34m\u001b[0m\u001b[0;34m\u001b[0m\u001b[0m\n\u001b[1;32m      4\u001b[0m \u001b[0;34m\u001b[0m\u001b[0m\n\u001b[0;32m----> 5\u001b[0;31m     \u001b[0maudio_file\u001b[0m \u001b[0;34m=\u001b[0m \u001b[0mopen\u001b[0m\u001b[0;34m(\u001b[0m\u001b[0;34m'001_1/gogo.mp3'\u001b[0m\u001b[0;34m,\u001b[0m \u001b[0;34m'rb'\u001b[0m\u001b[0;34m)\u001b[0m\u001b[0;34m\u001b[0m\u001b[0;34m\u001b[0m\u001b[0m\n\u001b[0m\u001b[1;32m      6\u001b[0m     \u001b[0mst\u001b[0m\u001b[0;34m.\u001b[0m\u001b[0maudio\u001b[0m\u001b[0;34m(\u001b[0m \u001b[0maudio_file\u001b[0m\u001b[0;34m.\u001b[0m\u001b[0mread\u001b[0m\u001b[0;34m(\u001b[0m\u001b[0;34m)\u001b[0m \u001b[0;34m,\u001b[0m \u001b[0mformat\u001b[0m\u001b[0;34m=\u001b[0m\u001b[0;34m'audio/mp3'\u001b[0m\u001b[0;34m)\u001b[0m\u001b[0;34m\u001b[0m\u001b[0;34m\u001b[0m\u001b[0m\n\u001b[1;32m      7\u001b[0m \u001b[0;34m\u001b[0m\u001b[0m\n",
            "\u001b[0;31mFileNotFoundError\u001b[0m: [Errno 2] No such file or directory: '001_1/gogo.mp3'"
          ]
        }
      ]
    },
    {
      "cell_type": "markdown",
      "source": [
        "13. 유저한테 입력받는 Input\n",
        "\n",
        "st.text_input()\n",
        "\n",
        "text_input() 함수는\n",
        "유저한테 문자를 입력받을때\n",
        "사용합니다.\n",
        "\n",
        "파라미터로 max_chars에 값을 주면\n",
        "입력 글자 갯수 제한을 줍니다.\n",
        "ex. max_chars=10 (10글자까지)\n",
        "\n",
        "a. 글자 입력받기\n"
      ],
      "metadata": {
        "id": "_oGAjZvqLj3e"
      }
    },
    {
      "cell_type": "code",
      "source": [
        "import streamlit as st\n",
        "\n",
        "def main() :\n",
        "\n",
        "    # 유저한테 입력을 받는 방법\n",
        "\n",
        "    # 1. 이름 입력 받기\n",
        "    name = st.text_input('이름을 입력하세요!')\n",
        "\n",
        "    if name != '' :\n",
        "        st.subheader(name + '님 안녕하세요??')\n",
        "\n",
        "    # 2. 입력 글자 갯수 제한\n",
        "    address = st.text_input('주소를 입력하세요', max_chars=10)\n",
        "    st.subheader(address)\n",
        "\n",
        "if __name__ == \"__main__\" :\n",
        "    main()"
      ],
      "metadata": {
        "id": "4v0hasK7Lphe"
      },
      "execution_count": 37,
      "outputs": []
    },
    {
      "cell_type": "markdown",
      "source": [
        "b. 여러행의 글자 입력받기\n",
        "\n",
        "st.text_area()\n",
        "\n",
        "\n",
        "\n",
        "\n",
        "\n",
        "유저에게 입력을 받을때\n",
        "여러행을 입력받을수 있습니다.\n"
      ],
      "metadata": {
        "id": "QrYe8KVjLv3g"
      }
    },
    {
      "cell_type": "code",
      "source": [
        "import streamlit as st\n",
        "\n",
        "def main() :\n",
        "\n",
        "    # 여러 행을 입력가능하도록\n",
        "    message = st.text_area('메세지를 입력하세요', height=3)\n",
        "    st.subheader(message)\n",
        "\n",
        "if __name__ == \"__main__\" :\n",
        "    main()"
      ],
      "metadata": {
        "id": "S2uzpzd8L2c_"
      },
      "execution_count": 38,
      "outputs": []
    },
    {
      "cell_type": "markdown",
      "source": [
        "c. 숫자 입력받기\n",
        "\n",
        "\n",
        "\n",
        "\n",
        "\n",
        "st.number_input()\n",
        "\n",
        "\n",
        "\n",
        "\n",
        "숫자 정수와 실수를\n",
        "입력받을수 있습니다.\n"
      ],
      "metadata": {
        "id": "swuiCUdBL7Iu"
      }
    },
    {
      "cell_type": "code",
      "source": [
        "import streamlit as st\n",
        "\n",
        "def main() :\n",
        "\n",
        "    # 4. 숫자 입력, 정수\n",
        "    st.number_input('숫자 입력', 1, 100)\n",
        "\n",
        "    # 5. 숫자 입력, 실수\n",
        "    st.number_input('실수 입력', 1.0, 100.0)\n",
        "\n",
        "if __name__ == \"__main__\" :\n",
        "    main()"
      ],
      "metadata": {
        "id": "6BtXbuUAMBT2"
      },
      "execution_count": 39,
      "outputs": []
    },
    {
      "cell_type": "markdown",
      "source": [
        "d. 날짜 입력받기\n",
        "\n",
        "\n",
        "\n",
        "\n",
        "\n",
        "st.date_input()\n",
        "\n",
        "\n",
        "\n",
        "\n",
        "\n",
        "스트림릿의 date_input() 함수로\n",
        "유저가 달력에서 날짜를\n",
        "선택하게 할수 있습니다.\n"
      ],
      "metadata": {
        "id": "qzGO-iGnMFVu"
      }
    },
    {
      "cell_type": "code",
      "source": [
        "import streamlit as st\n",
        "\n",
        "def main() :\n",
        "\n",
        "   # 6. 날짜 입력\n",
        "    my_date = st.date_input('약속날짜') # 디폴트로 오늘 날짜가 찍혀 있다.\n",
        "    st.write(my_date)\n",
        "\n",
        "    # 요일 찍기\n",
        "    st.write( my_date.weekday() )\n",
        "    st.write( my_date.strftime('%A') )\n",
        "\n",
        "if __name__ == \"__main__\" :\n",
        "    main()"
      ],
      "metadata": {
        "id": "rQ4_KsOhMHde"
      },
      "execution_count": 40,
      "outputs": []
    },
    {
      "cell_type": "markdown",
      "source": [
        "e. 시간 입력받기\n",
        "\n",
        "\n",
        "\n",
        "\n",
        "\n",
        "st.time_input()\n",
        "\n",
        "\n",
        "\n",
        "\n",
        "\n",
        "time_input() 함수로\n",
        "유저에게 시간을 입력받을수\n",
        "있습니다.\n"
      ],
      "metadata": {
        "id": "4a-DdfyCMK82"
      }
    },
    {
      "cell_type": "code",
      "source": [
        "import streamlit as st\n",
        "\n",
        "def main() :\n",
        "\n",
        "    my_time = st.time_input('시간 선택')\n",
        "    st.write(my_time)\n",
        "\n",
        "if __name__ == \"__main__\" :\n",
        "    main()\n"
      ],
      "metadata": {
        "id": "UbUeXOlOMOVn"
      },
      "execution_count": 41,
      "outputs": []
    },
    {
      "cell_type": "markdown",
      "source": [
        "f. 색을 입력받기\n",
        "\n",
        "\n",
        "\n",
        "\n",
        "\n",
        "st.color_picker()\n",
        "\n",
        "\n",
        "\n",
        "\n",
        "\n",
        "색상표에서 유저가 색상을\n",
        "선택할수 있도록 할수 있습니다.\n"
      ],
      "metadata": {
        "id": "MqabbHtYMRsu"
      }
    },
    {
      "cell_type": "code",
      "source": [
        "import streamlit as st\n",
        "\n",
        "def main() :\n",
        "\n",
        "    # 8. 색을 입력\n",
        "    color = st.color_picker('색을 선택하세요')\n",
        "    st.write(color)\n",
        "\n",
        "if __name__ == \"__main__\" :\n",
        "    main()"
      ],
      "metadata": {
        "id": "JTYUCs15MX_e"
      },
      "execution_count": 42,
      "outputs": []
    },
    {
      "cell_type": "code",
      "source": [
        "g. 비빌번호 입력받기"
      ],
      "metadata": {
        "id": "qVmUvxtxMba-"
      },
      "execution_count": null,
      "outputs": []
    },
    {
      "cell_type": "code",
      "source": [
        "import streamlit as st\n",
        "\n",
        "def main() :\n",
        "\n",
        "    # 비밀번호 입력\n",
        "    password = st.text_input('비밀번호 입력', type='password')\n",
        "    st.write(password)\n",
        "\n",
        "if __name__ == \"__main__\" :\n",
        "    main()"
      ],
      "metadata": {
        "id": "pPc1Sa3KMcie"
      },
      "execution_count": 43,
      "outputs": []
    }
  ]
}